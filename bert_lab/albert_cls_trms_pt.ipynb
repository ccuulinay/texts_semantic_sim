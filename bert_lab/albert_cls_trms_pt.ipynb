{
 "cells": [
  {
   "cell_type": "markdown",
   "id": "91930dc3",
   "metadata": {},
   "source": [
    "# PID"
   ]
  },
  {
   "cell_type": "code",
   "execution_count": 1,
   "id": "a51a7536",
   "metadata": {
    "ExecuteTime": {
     "end_time": "2022-10-25T10:10:35.362154Z",
     "start_time": "2022-10-25T10:10:35.346508Z"
    }
   },
   "outputs": [
    {
     "data": {
      "text/plain": [
       "124"
      ]
     },
     "execution_count": 1,
     "metadata": {},
     "output_type": "execute_result"
    }
   ],
   "source": [
    "import os\n",
    "\n",
    "os.getpid()"
   ]
  },
  {
   "cell_type": "markdown",
   "id": "df22c5f9",
   "metadata": {},
   "source": [
    "# Prepare"
   ]
  },
  {
   "cell_type": "code",
   "execution_count": 54,
   "id": "3cd635a8",
   "metadata": {
    "ExecuteTime": {
     "end_time": "2022-10-25T12:53:24.535793Z",
     "start_time": "2022-10-25T12:53:24.530771Z"
    }
   },
   "outputs": [],
   "source": [
    "import datetime\n",
    "import pathlib\n",
    "import json\n",
    "\n",
    "import torch as pt\n",
    "import transformers\n",
    "from transformers import (\n",
    "    BertModel, BertConfig, BertTokenizer, AutoTokenizer,\n",
    "    AlbertModel, AlbertConfig\n",
    ")\n",
    "from tokenizers import BertWordPieceTokenizer\n",
    "import numpy as np\n",
    "import pandas as pd\n",
    "from tqdm import tqdm\n",
    "from sklearn.model_selection import train_test_split\n",
    "from sklearn.metrics import accuracy_score\n",
    "from sklearn.metrics import classification_report"
   ]
  },
  {
   "cell_type": "markdown",
   "id": "e99a0620",
   "metadata": {},
   "source": [
    "## params"
   ]
  },
  {
   "cell_type": "code",
   "execution_count": 3,
   "id": "d56a57cb",
   "metadata": {
    "ExecuteTime": {
     "end_time": "2022-10-25T10:10:37.570741Z",
     "start_time": "2022-10-25T10:10:37.565797Z"
    }
   },
   "outputs": [],
   "source": [
    "transformers.logging.set_verbosity_error()\n",
    "\n",
    "today_dt = datetime.datetime.today()\n",
    "\n",
    "today_yyyymmdd = today_dt.strftime(\"%Y%m%d\")\n",
    "\n",
    "max_seq_len = 128\n",
    "test_rate = 0.2\n",
    "\n",
    "batch_size = 8"
   ]
  },
  {
   "cell_type": "code",
   "execution_count": 4,
   "id": "45393ed5",
   "metadata": {
    "ExecuteTime": {
     "end_time": "2022-10-25T10:10:37.655189Z",
     "start_time": "2022-10-25T10:10:37.575000Z"
    },
    "scrolled": true
   },
   "outputs": [],
   "source": [
    "# local model\n",
    "model_dir = \"/home/ccuulinay/pretrained/albert_chinese_small/\"\n",
    "# If it's TF model, it's checkpoint files or keras bin file in model folder.\n",
    "# model_ckpt = pathlib.Path(model_dir) / \"albert_model.ckpt.index\"\n",
    "# model_config = pathlib.Path(model_dir) / \"albert_config_base.json\"\n",
    "vocab_file = pathlib.Path(model_dir) / \"vocab.txt\"\n",
    "\n",
    "tokenizer = BertTokenizer.from_pretrained(model_dir)\n",
    "t_tknrs = BertWordPieceTokenizer(str(vocab_file))\n",
    "t_tknrs.enable_truncation(max_length=max_seq_len)\n",
    "\n",
    "albert_model = AlbertModel.from_pretrained(model_dir)\n",
    "albert_config = AlbertConfig.from_pretrained(model_dir)"
   ]
  },
  {
   "cell_type": "markdown",
   "id": "842028a5",
   "metadata": {},
   "source": [
    "## test-out"
   ]
  },
  {
   "cell_type": "code",
   "execution_count": 5,
   "id": "546ec65c",
   "metadata": {
    "ExecuteTime": {
     "end_time": "2022-10-25T10:10:37.691886Z",
     "start_time": "2022-10-25T10:10:37.657472Z"
    }
   },
   "outputs": [],
   "source": [
    "test_input_txt = \"几天心情很好啊，买了很多东西，我特别喜欢，终于有了自己喜欢的电子产品，这次总算可以好好学习了。\"\n",
    "text_input_txt_list = ['我爱你','猫不是狗']\n",
    "encoded_pos = tokenizer.encode(test_input_txt)\n",
    "input_ids = pt.tensor(encoded_pos).view(-1, len(encoded_pos))\n",
    "outputs = albert_model(input_ids)"
   ]
  },
  {
   "cell_type": "code",
   "execution_count": 6,
   "id": "8c69a0fd",
   "metadata": {
    "ExecuteTime": {
     "end_time": "2022-10-25T10:10:37.699722Z",
     "start_time": "2022-10-25T10:10:37.693981Z"
    }
   },
   "outputs": [
    {
     "data": {
      "text/plain": [
       "(torch.Size([1, 49, 384]), torch.Size([1, 384]))"
      ]
     },
     "execution_count": 6,
     "metadata": {},
     "output_type": "execute_result"
    }
   ],
   "source": [
    "outputs[0].shape, outputs[1].shape"
   ]
  },
  {
   "cell_type": "code",
   "execution_count": 7,
   "id": "39706177",
   "metadata": {
    "ExecuteTime": {
     "end_time": "2022-10-25T10:10:37.708885Z",
     "start_time": "2022-10-25T10:10:37.702339Z"
    }
   },
   "outputs": [
    {
     "data": {
      "text/plain": [
       "47"
      ]
     },
     "execution_count": 7,
     "metadata": {},
     "output_type": "execute_result"
    }
   ],
   "source": [
    "len(test_input_txt)"
   ]
  },
  {
   "cell_type": "code",
   "execution_count": 8,
   "id": "c16edaae",
   "metadata": {
    "ExecuteTime": {
     "end_time": "2022-10-25T10:10:37.718372Z",
     "start_time": "2022-10-25T10:10:37.711632Z"
    }
   },
   "outputs": [
    {
     "data": {
      "text/plain": [
       "{'input_ids': [101, 2769, 4263, 872, 102, 4344, 679, 3221, 4318, 102, 0, 0, 0, 0, 0, 0, 0, 0, 0, 0, 0, 0, 0, 0, 0, 0, 0, 0, 0, 0, 0, 0, 0, 0, 0, 0, 0, 0, 0, 0, 0, 0, 0, 0, 0, 0, 0, 0, 0, 0, 0, 0, 0, 0, 0, 0, 0, 0, 0, 0, 0, 0, 0, 0, 0, 0, 0, 0, 0, 0, 0, 0, 0, 0, 0, 0, 0, 0, 0, 0, 0, 0, 0, 0, 0, 0, 0, 0, 0, 0, 0, 0, 0, 0, 0, 0, 0, 0, 0, 0, 0, 0, 0, 0, 0, 0, 0, 0, 0, 0, 0, 0, 0, 0, 0, 0, 0, 0, 0, 0, 0, 0, 0, 0, 0, 0, 0, 0], 'token_type_ids': [0, 0, 0, 0, 0, 1, 1, 1, 1, 1, 0, 0, 0, 0, 0, 0, 0, 0, 0, 0, 0, 0, 0, 0, 0, 0, 0, 0, 0, 0, 0, 0, 0, 0, 0, 0, 0, 0, 0, 0, 0, 0, 0, 0, 0, 0, 0, 0, 0, 0, 0, 0, 0, 0, 0, 0, 0, 0, 0, 0, 0, 0, 0, 0, 0, 0, 0, 0, 0, 0, 0, 0, 0, 0, 0, 0, 0, 0, 0, 0, 0, 0, 0, 0, 0, 0, 0, 0, 0, 0, 0, 0, 0, 0, 0, 0, 0, 0, 0, 0, 0, 0, 0, 0, 0, 0, 0, 0, 0, 0, 0, 0, 0, 0, 0, 0, 0, 0, 0, 0, 0, 0, 0, 0, 0, 0, 0, 0], 'attention_mask': [1, 1, 1, 1, 1, 1, 1, 1, 1, 1, 0, 0, 0, 0, 0, 0, 0, 0, 0, 0, 0, 0, 0, 0, 0, 0, 0, 0, 0, 0, 0, 0, 0, 0, 0, 0, 0, 0, 0, 0, 0, 0, 0, 0, 0, 0, 0, 0, 0, 0, 0, 0, 0, 0, 0, 0, 0, 0, 0, 0, 0, 0, 0, 0, 0, 0, 0, 0, 0, 0, 0, 0, 0, 0, 0, 0, 0, 0, 0, 0, 0, 0, 0, 0, 0, 0, 0, 0, 0, 0, 0, 0, 0, 0, 0, 0, 0, 0, 0, 0, 0, 0, 0, 0, 0, 0, 0, 0, 0, 0, 0, 0, 0, 0, 0, 0, 0, 0, 0, 0, 0, 0, 0, 0, 0, 0, 0, 0]}"
      ]
     },
     "execution_count": 8,
     "metadata": {},
     "output_type": "execute_result"
    }
   ],
   "source": [
    "# a = t_tknrs.encode(test_input_txt)\n",
    "b = tokenizer(*text_input_txt_list, padding=\"max_length\", truncation=True, max_length=max_seq_len)\n",
    "b"
   ]
  },
  {
   "cell_type": "code",
   "execution_count": 9,
   "id": "63bde49c",
   "metadata": {
    "ExecuteTime": {
     "end_time": "2022-10-25T10:10:37.729381Z",
     "start_time": "2022-10-25T10:10:37.723527Z"
    }
   },
   "outputs": [],
   "source": [
    "class FullConnAlbertCls(pt.nn.Module):\n",
    "    def __init__(self, \n",
    "        bert_model, bert_config, num_class, \n",
    "        dropout_rate=0.4\n",
    "    ):\n",
    "        super(FullConnAlbertCls, self).__init__()\n",
    "        self.bert_model = bert_model\n",
    "        self.dropout = pt.nn.Dropout(dropout_rate)\n",
    "        self.fc1 = pt.nn.Linear(bert_config.hidden_size, bert_config.hidden_size)\n",
    "        self.fc2 = pt.nn.Linear(bert_config.hidden_size, num_class)\n",
    "\n",
    "    def forward(self, token_ids, type_ids=None):\n",
    "        # model output[0] with size [batch_size, max_seq_len/seq_len, hidden_size]\n",
    "        if type_ids is not None:\n",
    "            x = self.bert_model(token_ids, type_ids)[1]\n",
    "        else:\n",
    "            x = self.bert_model(token_ids)[1]\n",
    "        x = self.dropout(x)\n",
    "        x = self.fc1(x)\n",
    "        x = self.dropout(x)\n",
    "        out = self.fc2(x) # With size [batch_size, num_class]\n",
    "        return out"
   ]
  },
  {
   "cell_type": "code",
   "execution_count": null,
   "id": "6e530079",
   "metadata": {
    "ExecuteTime": {
     "end_time": "2022-07-17T16:43:10.784752Z",
     "start_time": "2022-07-17T16:43:08.621504Z"
    }
   },
   "outputs": [],
   "source": []
  },
  {
   "cell_type": "code",
   "execution_count": null,
   "id": "e809df75",
   "metadata": {
    "ExecuteTime": {
     "end_time": "2022-07-17T16:43:10.792731Z",
     "start_time": "2022-07-17T16:43:10.787893Z"
    }
   },
   "outputs": [],
   "source": []
  },
  {
   "cell_type": "code",
   "execution_count": null,
   "id": "af331133",
   "metadata": {
    "ExecuteTime": {
     "end_time": "2022-07-17T16:43:10.853874Z",
     "start_time": "2022-07-17T16:43:10.795171Z"
    }
   },
   "outputs": [],
   "source": []
  },
  {
   "cell_type": "markdown",
   "id": "d99c0f47",
   "metadata": {},
   "source": [
    "# Data"
   ]
  },
  {
   "cell_type": "markdown",
   "id": "a3b700ad",
   "metadata": {},
   "source": [
    "\n",
    "## Read data"
   ]
  },
  {
   "cell_type": "code",
   "execution_count": 10,
   "id": "b197ab2a",
   "metadata": {
    "ExecuteTime": {
     "end_time": "2022-10-25T10:10:37.920386Z",
     "start_time": "2022-10-25T10:10:37.734402Z"
    }
   },
   "outputs": [
    {
     "name": "stdout",
     "output_type": "stream",
     "text": [
      "dict_keys(['cmrc', 'drcd', 'dureader_robust', 'dureader_checklist', 'dureader_yesno', 'cail2019', 'cail2020', 'c3'])\n"
     ]
    }
   ],
   "source": [
    "data_f = \"/mnt/e/data_worlds/中文保险小样本多任务竞赛-Data-Baseline-V3-20220509/data/opensource_sample_500.json\"\n",
    "\n",
    "with open(data_f, \"r\") as f:\n",
    "    raw_d = json.load(f)\n",
    "    print(raw_d.get(\"mrc\").keys())\n",
    "    raw_df = pd.DataFrame(raw_d.get(\"mrc\").get(\"dureader_yesno\").get(\"data_list\"))\n",
    "    raw_df[\"label_y\"] = raw_df[\"label\"].map({\n",
    "        \"Yes\": 1,\n",
    "        \"No\": 0,\n",
    "        \"Depends\": 2\n",
    "    })"
   ]
  },
  {
   "cell_type": "code",
   "execution_count": 11,
   "id": "228da5ce",
   "metadata": {
    "ExecuteTime": {
     "end_time": "2022-10-25T10:10:37.928690Z",
     "start_time": "2022-10-25T10:10:37.922871Z"
    }
   },
   "outputs": [
    {
     "data": {
      "text/plain": [
       "1    263\n",
       "0    163\n",
       "2     74\n",
       "Name: label_y, dtype: int64"
      ]
     },
     "execution_count": 11,
     "metadata": {},
     "output_type": "execute_result"
    }
   ],
   "source": [
    "raw_df[\"label_y\"].value_counts()"
   ]
  },
  {
   "cell_type": "code",
   "execution_count": 12,
   "id": "024f9a92",
   "metadata": {
    "ExecuteTime": {
     "end_time": "2022-10-25T10:10:37.939652Z",
     "start_time": "2022-10-25T10:10:37.931729Z"
    }
   },
   "outputs": [
    {
     "data": {
      "text/plain": [
       "0.526"
      ]
     },
     "execution_count": 12,
     "metadata": {},
     "output_type": "execute_result"
    }
   ],
   "source": [
    "263 / (263 + 163 + 74)"
   ]
  },
  {
   "cell_type": "code",
   "execution_count": null,
   "id": "320bb975",
   "metadata": {},
   "outputs": [],
   "source": []
  },
  {
   "cell_type": "code",
   "execution_count": 13,
   "id": "15d61b73",
   "metadata": {
    "ExecuteTime": {
     "end_time": "2022-10-25T10:10:37.955409Z",
     "start_time": "2022-10-25T10:10:37.942340Z"
    }
   },
   "outputs": [
    {
     "data": {
      "text/html": [
       "<div>\n",
       "<style scoped>\n",
       "    .dataframe tbody tr th:only-of-type {\n",
       "        vertical-align: middle;\n",
       "    }\n",
       "\n",
       "    .dataframe tbody tr th {\n",
       "        vertical-align: top;\n",
       "    }\n",
       "\n",
       "    .dataframe thead th {\n",
       "        text-align: right;\n",
       "    }\n",
       "</style>\n",
       "<table border=\"1\" class=\"dataframe\">\n",
       "  <thead>\n",
       "    <tr style=\"text-align: right;\">\n",
       "      <th></th>\n",
       "      <th>text_a</th>\n",
       "      <th>text_b</th>\n",
       "      <th>label_y</th>\n",
       "    </tr>\n",
       "  </thead>\n",
       "  <tbody>\n",
       "    <tr>\n",
       "      <th>0</th>\n",
       "      <td>首都机场t2有免税店吗</td>\n",
       "      <td>2号楼和3号楼的国际出发和国际到达行李提取厅都有免税店。</td>\n",
       "      <td>1</td>\n",
       "    </tr>\n",
       "    <tr>\n",
       "      <th>1</th>\n",
       "      <td>有姓催的吗</td>\n",
       "      <td>今河南省的方城县有催氏族人分布。</td>\n",
       "      <td>1</td>\n",
       "    </tr>\n",
       "    <tr>\n",
       "      <th>2</th>\n",
       "      <td>马尼拉要签证吗</td>\n",
       "      <td>需要签证。</td>\n",
       "      <td>1</td>\n",
       "    </tr>\n",
       "    <tr>\n",
       "      <th>3</th>\n",
       "      <td>美国股市是t+0的吗</td>\n",
       "      <td>中国股票是t加1模式，美国是t加0</td>\n",
       "      <td>1</td>\n",
       "    </tr>\n",
       "    <tr>\n",
       "      <th>4</th>\n",
       "      <td>滴滴打车会便宜吗</td>\n",
       "      <td>一个是快车，收费规则是时间+公里数，比如一公里1块钱一分钟1块钱，走一公里用了3分钟就是4块...</td>\n",
       "      <td>2</td>\n",
       "    </tr>\n",
       "  </tbody>\n",
       "</table>\n",
       "</div>"
      ],
      "text/plain": [
       "        text_a                                             text_b  label_y\n",
       "0  首都机场t2有免税店吗                       2号楼和3号楼的国际出发和国际到达行李提取厅都有免税店。        1\n",
       "1        有姓催的吗                                   今河南省的方城县有催氏族人分布。        1\n",
       "2      马尼拉要签证吗                                              需要签证。        1\n",
       "3   美国股市是t+0的吗                                  中国股票是t加1模式，美国是t加0        1\n",
       "4     滴滴打车会便宜吗  一个是快车，收费规则是时间+公里数，比如一公里1块钱一分钟1块钱，走一公里用了3分钟就是4块...        2"
      ]
     },
     "execution_count": 13,
     "metadata": {},
     "output_type": "execute_result"
    }
   ],
   "source": [
    "raw_df[[\"text_a\", \"text_b\", \"label_y\"]].head()"
   ]
  },
  {
   "cell_type": "markdown",
   "id": "cc946554",
   "metadata": {
    "ExecuteTime": {
     "end_time": "2022-07-10T16:47:51.005152Z",
     "start_time": "2022-07-10T16:47:50.991584Z"
    }
   },
   "source": [
    "## Preprocess data\n",
    "1. Encode data - tokenize/put into TensorDataSet"
   ]
  },
  {
   "cell_type": "code",
   "execution_count": 14,
   "id": "3d297366",
   "metadata": {
    "ExecuteTime": {
     "end_time": "2022-10-25T10:10:37.965256Z",
     "start_time": "2022-10-25T10:10:37.957762Z"
    }
   },
   "outputs": [],
   "source": [
    "# a = t_tknrs.encode(\n",
    "#     *(train_df[[\"text_a\", \"text_b\"]].iloc[0].values)\n",
    "# )\n",
    "# a.pad(128)\n",
    "\n",
    "\n",
    "# tokenizer(\n",
    "#     *(train_df[[\"text_a\", \"text_b\"]].iloc[0].values)\n",
    "#     , padding=\"max_length\", truncation=True, max_length=max_seq_len\n",
    "#     # , return_tensors='pt'\n",
    "# )\n",
    "\n",
    "def encode_data(\n",
    "    data, labels=None, \n",
    "    tokenzier=None, max_len=128, padding=\"max_length\", truncation=True,\n",
    "    output_tensor=True\n",
    "):\n",
    "    X_word_ids = []\n",
    "    X_masks = []\n",
    "    X_seq = []\n",
    "    \n",
    "    for x in tqdm(data):\n",
    "        if isinstance(x, str):\n",
    "            t_encoder = tokenizer(\n",
    "                x\n",
    "                , padding=\"max_length\", truncation=True, max_length=max_len\n",
    "                # , return_tensors='pt'\n",
    "            )\n",
    "        else:\n",
    "            t_encoder = tokenizer(\n",
    "                x[0], x[1]\n",
    "                , padding=\"max_length\", truncation=True, max_length=max_len\n",
    "                # , return_tensors='pt'\n",
    "            )\n",
    "        X_word_ids.append(t_encoder[\"input_ids\"])\n",
    "        X_masks.append(t_encoder[\"attention_mask\"])\n",
    "        X_seq.append(t_encoder[\"token_type_ids\"])\n",
    "    \n",
    "    X_word_ids = np.array(X_word_ids)\n",
    "    X_masks = np.array(X_masks)\n",
    "    X_seq = np.array(X_seq)\n",
    "    \n",
    "    if labels is not None:\n",
    "        Y = [\n",
    "            int(y) for y in tqdm(labels)\n",
    "        ]\n",
    "        \n",
    "        return {\n",
    "            \"input_word_ids\": X_word_ids,\n",
    "            \"attention_mask\": X_masks,\n",
    "            \"token_type_ids\": X_seq,\n",
    "            \"label\": Y\n",
    "        }\n",
    "    else:\n",
    "        return {\n",
    "            \"input_word_ids\": X_word_ids,\n",
    "            \"attention_mask\": X_masks,\n",
    "            \"token_type_ids\": X_seq\n",
    "        }\n",
    "    \n",
    "def flat_accuracy(preds, labels):\n",
    "    \"\"\"A function for calculating accuracy scores\"\"\"\n",
    "    pred_flat = np.argmax(preds, axis=1).flatten()\n",
    "    labels_flat = labels.flatten()\n",
    "    return accuracy_score(labels_flat, pred_flat)"
   ]
  },
  {
   "cell_type": "code",
   "execution_count": 15,
   "id": "36a8e4cf",
   "metadata": {
    "ExecuteTime": {
     "end_time": "2022-10-25T10:10:37.974005Z",
     "start_time": "2022-10-25T10:10:37.968644Z"
    }
   },
   "outputs": [],
   "source": [
    "class DataGen(pt.utils.data.Dataset):\n",
    "    \n",
    "    def __init__(self, data, label):\n",
    "        self.data = data\n",
    "        self.lable = label\n",
    "\n",
    "    def __len__(self):\n",
    "        return len(self.data)\n",
    "\n",
    "    def __getitem__(self, index):\n",
    "        return np.array(self.data[index], np.array(self.label[index]))\n",
    "\n"
   ]
  },
  {
   "cell_type": "code",
   "execution_count": null,
   "id": "5dd4086f",
   "metadata": {},
   "outputs": [],
   "source": []
  },
  {
   "cell_type": "code",
   "execution_count": 16,
   "id": "24b3510b",
   "metadata": {
    "ExecuteTime": {
     "end_time": "2022-10-25T10:10:38.222422Z",
     "start_time": "2022-10-25T10:10:37.976450Z"
    },
    "scrolled": true
   },
   "outputs": [
    {
     "name": "stderr",
     "output_type": "stream",
     "text": [
      "100%|██████████| 500/500 [00:00<00:00, 2265.13it/s]\n",
      "100%|██████████| 500/500 [00:00<00:00, 1170285.71it/s]\n"
     ]
    }
   ],
   "source": [
    "raw_input_d = encode_data(\n",
    "    raw_df[[\"text_a\", \"text_b\"]].values,\n",
    "    raw_df[\"label_y\"].values,\n",
    "    tokenizer\n",
    ")\n",
    "\n",
    "input_tensor = pt.utils.data.TensorDataset(\n",
    "    pt.tensor(raw_input_d[\"input_word_ids\"]),\n",
    "    pt.tensor(raw_input_d[\"token_type_ids\"]),\n",
    "    pt.tensor(raw_input_d[\"attention_mask\"]),\n",
    "    pt.tensor(raw_input_d[\"label\"])\n",
    ")"
   ]
  },
  {
   "cell_type": "code",
   "execution_count": null,
   "id": "8b211bf3",
   "metadata": {
    "ExecuteTime": {
     "end_time": "2022-07-17T16:03:07.006831Z",
     "start_time": "2022-07-17T16:03:07.001861Z"
    }
   },
   "outputs": [],
   "source": []
  },
  {
   "cell_type": "markdown",
   "id": "36956cfd",
   "metadata": {},
   "source": [
    "## Split train and test"
   ]
  },
  {
   "cell_type": "code",
   "execution_count": 17,
   "id": "c625d45f",
   "metadata": {
    "ExecuteTime": {
     "end_time": "2022-10-25T10:10:38.484944Z",
     "start_time": "2022-10-25T10:10:38.225206Z"
    }
   },
   "outputs": [
    {
     "name": "stderr",
     "output_type": "stream",
     "text": [
      "100%|██████████| 400/400 [00:00<00:00, 2281.01it/s]\n",
      "100%|██████████| 400/400 [00:00<00:00, 1142862.13it/s]\n",
      "100%|██████████| 100/100 [00:00<00:00, 2053.06it/s]\n",
      "100%|██████████| 100/100 [00:00<00:00, 639375.61it/s]\n"
     ]
    }
   ],
   "source": [
    "train_df, test_df = train_test_split(\n",
    "    raw_df[[\"text_a\", \"text_b\", \"label_y\"]], test_size=test_rate, random_state=42, shuffle=True\n",
    ")\n",
    "\n",
    "train_input_d = encode_data(\n",
    "    train_df[[\"text_a\", \"text_b\"]].values,\n",
    "    train_df[\"label_y\"].values,\n",
    "    tokenizer\n",
    ")\n",
    "test_input_d = encode_data(\n",
    "    test_df[[\"text_a\", \"text_b\"]].values,\n",
    "    test_df[\"label_y\"].values,\n",
    "    tokenizer\n",
    ")\n",
    "\n",
    "train_input = pt.utils.data.TensorDataset(\n",
    "    pt.tensor(train_input_d[\"input_word_ids\"]),\n",
    "    pt.tensor(train_input_d[\"token_type_ids\"]),\n",
    "    pt.tensor(train_input_d[\"attention_mask\"]),\n",
    "    pt.tensor(train_input_d[\"label\"])\n",
    ")\n",
    "\n",
    "test_input = pt.utils.data.TensorDataset(\n",
    "    pt.tensor(test_input_d[\"input_word_ids\"]),\n",
    "    pt.tensor(test_input_d[\"token_type_ids\"]),\n",
    "    pt.tensor(test_input_d[\"attention_mask\"]),\n",
    "    pt.tensor(test_input_d[\"label\"])\n",
    ")"
   ]
  },
  {
   "cell_type": "code",
   "execution_count": 18,
   "id": "680dfd57",
   "metadata": {
    "ExecuteTime": {
     "end_time": "2022-10-25T10:10:38.493341Z",
     "start_time": "2022-10-25T10:10:38.488696Z"
    }
   },
   "outputs": [],
   "source": [
    "train_data_loader = pt.utils.data.DataLoader(\n",
    "    train_input, batch_size=8\n",
    ")\n",
    "\n",
    "test_data_loader = pt.utils.data.DataLoader(\n",
    "   test_input, batch_size=1\n",
    ")"
   ]
  },
  {
   "cell_type": "code",
   "execution_count": null,
   "id": "d5241770",
   "metadata": {
    "ExecuteTime": {
     "end_time": "2022-07-17T15:38:25.838161Z",
     "start_time": "2022-07-17T15:38:25.833354Z"
    }
   },
   "outputs": [],
   "source": []
  },
  {
   "cell_type": "code",
   "execution_count": null,
   "id": "2c2a582b",
   "metadata": {},
   "outputs": [],
   "source": []
  },
  {
   "cell_type": "code",
   "execution_count": null,
   "id": "a7afe7cf",
   "metadata": {},
   "outputs": [],
   "source": []
  },
  {
   "cell_type": "markdown",
   "id": "b058580c",
   "metadata": {
    "ExecuteTime": {
     "end_time": "2022-07-10T14:20:40.417743Z",
     "start_time": "2022-07-10T14:20:40.411910Z"
    }
   },
   "source": [
    "# Build cls"
   ]
  },
  {
   "cell_type": "code",
   "execution_count": 19,
   "id": "20c7feea",
   "metadata": {
    "ExecuteTime": {
     "end_time": "2022-10-25T10:10:40.510572Z",
     "start_time": "2022-10-25T10:10:38.495852Z"
    }
   },
   "outputs": [],
   "source": [
    "cls = FullConnAlbertCls(albert_model, albert_config, 3)\n",
    "device = pt.device(\"cuda:0\") if pt.cuda.is_available() else \"cpu\"\n",
    "cls = cls.to(device)\n",
    "\n",
    "# loss func and optimizer\n",
    "criterion = pt.nn.CrossEntropyLoss() # CrossEntropyLoss, which already combines the softmax plus the negative-likelihood\n",
    "\n",
    "optimizer = pt.optim.SGD(\n",
    "    cls.parameters(), lr=0.007, momentum=0.9, weight_decay=1e-4\n",
    ")"
   ]
  },
  {
   "cell_type": "code",
   "execution_count": null,
   "id": "18effc7e",
   "metadata": {
    "ExecuteTime": {
     "end_time": "2022-10-22T16:12:55.376778Z",
     "start_time": "2022-10-22T16:12:55.371553Z"
    }
   },
   "outputs": [],
   "source": []
  },
  {
   "cell_type": "code",
   "execution_count": 20,
   "id": "7031c510",
   "metadata": {
    "ExecuteTime": {
     "end_time": "2022-10-25T10:10:40.528804Z",
     "start_time": "2022-10-25T10:10:40.512404Z"
    }
   },
   "outputs": [
    {
     "data": {
      "text/plain": [
       "tensor([1, 1, 0, 1, 1, 0, 1, 1], device='cuda:0')"
      ]
     },
     "execution_count": 20,
     "metadata": {},
     "output_type": "execute_result"
    }
   ],
   "source": [
    "list(train_data_loader)[0][3].to(device)"
   ]
  },
  {
   "cell_type": "code",
   "execution_count": 21,
   "id": "a3eb33e0",
   "metadata": {
    "ExecuteTime": {
     "end_time": "2022-10-25T10:10:40.582863Z",
     "start_time": "2022-10-25T10:10:40.530922Z"
    }
   },
   "outputs": [],
   "source": [
    "# outputs.detach().cpu().numpy()\n",
    "# outputs.argmax(1)"
   ]
  },
  {
   "cell_type": "code",
   "execution_count": 22,
   "id": "ca8d7ca2",
   "metadata": {
    "ExecuteTime": {
     "end_time": "2022-10-25T10:10:40.600444Z",
     "start_time": "2022-10-25T10:10:40.588941Z"
    }
   },
   "outputs": [
    {
     "data": {
      "text/plain": [
       "400"
      ]
     },
     "execution_count": 22,
     "metadata": {},
     "output_type": "execute_result"
    }
   ],
   "source": [
    "len(train_input)"
   ]
  },
  {
   "cell_type": "code",
   "execution_count": 23,
   "id": "73997851",
   "metadata": {
    "ExecuteTime": {
     "end_time": "2022-10-25T10:16:06.682967Z",
     "start_time": "2022-10-25T10:10:40.604123Z"
    },
    "scrolled": true
   },
   "outputs": [
    {
     "name": "stdout",
     "output_type": "stream",
     "text": [
      "++++++++++++++++++++++++++++++++++++++++++++++++++++++\n",
      "Epoch: 0\n",
      "train loss: 0.13672034934163094, train accuracy: 0.44 \n",
      "test loss: 0.9654735785722732, test accuracy: 0.58 \n",
      "++++++++++++++++++++++++++++++++++++++++++++++++++++++\n",
      "++++++++++++++++++++++++++++++++++++++++++++++++++++++\n",
      "Epoch: 1\n",
      "train loss: 0.13020988255739213, train accuracy: 0.46 \n",
      "test loss: 0.961404920220375, test accuracy: 0.58 \n",
      "++++++++++++++++++++++++++++++++++++++++++++++++++++++\n",
      "++++++++++++++++++++++++++++++++++++++++++++++++++++++\n",
      "Epoch: 2\n",
      "train loss: 0.127969002276659, train accuracy: 0.4675 \n",
      "test loss: 0.9565609896183014, test accuracy: 0.53 \n",
      "++++++++++++++++++++++++++++++++++++++++++++++++++++++\n",
      "++++++++++++++++++++++++++++++++++++++++++++++++++++++\n",
      "Epoch: 3\n",
      "train loss: 0.1231536403298378, train accuracy: 0.52 \n",
      "test loss: 0.893791743516922, test accuracy: 0.62 \n",
      "++++++++++++++++++++++++++++++++++++++++++++++++++++++\n",
      "++++++++++++++++++++++++++++++++++++++++++++++++++++++\n",
      "Epoch: 4\n",
      "train loss: 0.11397727891802788, train accuracy: 0.5625 \n",
      "test loss: 0.8677698189765215, test accuracy: 0.61 \n",
      "++++++++++++++++++++++++++++++++++++++++++++++++++++++\n",
      "++++++++++++++++++++++++++++++++++++++++++++++++++++++\n",
      "Epoch: 5\n",
      "train loss: 0.09948859922587872, train accuracy: 0.6575 \n",
      "test loss: 0.8336589804291725, test accuracy: 0.67 \n",
      "++++++++++++++++++++++++++++++++++++++++++++++++++++++\n",
      "++++++++++++++++++++++++++++++++++++++++++++++++++++++\n",
      "Epoch: 6\n",
      "train loss: 0.07445166517049075, train accuracy: 0.775 \n",
      "test loss: 0.8704892998561263, test accuracy: 0.67 \n",
      "++++++++++++++++++++++++++++++++++++++++++++++++++++++\n",
      "++++++++++++++++++++++++++++++++++++++++++++++++++++++\n",
      "Epoch: 7\n",
      "train loss: 0.047805958241224286, train accuracy: 0.8675 \n",
      "test loss: 1.1582899705972522, test accuracy: 0.57 \n",
      "++++++++++++++++++++++++++++++++++++++++++++++++++++++\n",
      "++++++++++++++++++++++++++++++++++++++++++++++++++++++\n",
      "Epoch: 8\n",
      "train loss: 0.04207325137220323, train accuracy: 0.8725 \n",
      "test loss: 2.139963929317892, test accuracy: 0.39 \n",
      "++++++++++++++++++++++++++++++++++++++++++++++++++++++\n",
      "++++++++++++++++++++++++++++++++++++++++++++++++++++++\n",
      "Epoch: 9\n",
      "train loss: 0.04105699626612477, train accuracy: 0.8925 \n",
      "test loss: 1.4665706201188733, test accuracy: 0.59 \n",
      "++++++++++++++++++++++++++++++++++++++++++++++++++++++\n",
      "++++++++++++++++++++++++++++++++++++++++++++++++++++++\n",
      "Epoch: 10\n",
      "train loss: 0.01624901787145063, train accuracy: 0.9575 \n",
      "test loss: 1.4304121831053636, test accuracy: 0.64 \n",
      "++++++++++++++++++++++++++++++++++++++++++++++++++++++\n",
      "++++++++++++++++++++++++++++++++++++++++++++++++++++++\n",
      "Epoch: 11\n",
      "train loss: 0.007685131804610137, train accuracy: 0.9825 \n",
      "test loss: 1.81109751440119, test accuracy: 0.66 \n",
      "++++++++++++++++++++++++++++++++++++++++++++++++++++++\n",
      "++++++++++++++++++++++++++++++++++++++++++++++++++++++\n",
      "Epoch: 12\n",
      "train loss: 0.00562346654412977, train accuracy: 0.9875 \n",
      "test loss: 2.013036502699324, test accuracy: 0.59 \n",
      "++++++++++++++++++++++++++++++++++++++++++++++++++++++\n",
      "++++++++++++++++++++++++++++++++++++++++++++++++++++++\n",
      "Epoch: 13\n",
      "train loss: 0.00037200636324996594, train accuracy: 1.0 \n",
      "test loss: 2.080449860777626, test accuracy: 0.62 \n",
      "++++++++++++++++++++++++++++++++++++++++++++++++++++++\n",
      "++++++++++++++++++++++++++++++++++++++++++++++++++++++\n",
      "Epoch: 14\n",
      "train loss: 0.0011850086442973407, train accuracy: 0.9975 \n",
      "test loss: 2.392825031397806, test accuracy: 0.61 \n",
      "++++++++++++++++++++++++++++++++++++++++++++++++++++++\n",
      "++++++++++++++++++++++++++++++++++++++++++++++++++++++\n",
      "Epoch: 15\n",
      "train loss: 4.413263537571765e-05, train accuracy: 1.0 \n",
      "test loss: 2.401875397951735, test accuracy: 0.62 \n",
      "++++++++++++++++++++++++++++++++++++++++++++++++++++++\n",
      "++++++++++++++++++++++++++++++++++++++++++++++++++++++\n",
      "Epoch: 16\n",
      "train loss: 3.0773800881434e-05, train accuracy: 1.0 \n",
      "test loss: 2.5035335970951564, test accuracy: 0.6 \n",
      "++++++++++++++++++++++++++++++++++++++++++++++++++++++\n",
      "++++++++++++++++++++++++++++++++++++++++++++++++++++++\n",
      "Epoch: 17\n",
      "train loss: 3.052119646781648e-05, train accuracy: 1.0 \n",
      "test loss: 2.49487529360842, test accuracy: 0.62 \n",
      "++++++++++++++++++++++++++++++++++++++++++++++++++++++\n",
      "++++++++++++++++++++++++++++++++++++++++++++++++++++++\n",
      "Epoch: 18\n",
      "train loss: 2.3030675547488498e-05, train accuracy: 1.0 \n",
      "test loss: 2.53636845614632, test accuracy: 0.61 \n",
      "++++++++++++++++++++++++++++++++++++++++++++++++++++++\n",
      "++++++++++++++++++++++++++++++++++++++++++++++++++++++\n",
      "Epoch: 19\n",
      "train loss: 2.0999918579036603e-05, train accuracy: 1.0 \n",
      "test loss: 2.5738237846715126, test accuracy: 0.6 \n",
      "++++++++++++++++++++++++++++++++++++++++++++++++++++++\n",
      "++++++++++++++++++++++++++++++++++++++++++++++++++++++\n",
      "Epoch: 20\n",
      "train loss: 1.7149973282357677e-05, train accuracy: 1.0 \n",
      "test loss: 2.5836005480126185, test accuracy: 0.61 \n",
      "++++++++++++++++++++++++++++++++++++++++++++++++++++++\n",
      "++++++++++++++++++++++++++++++++++++++++++++++++++++++\n",
      "Epoch: 21\n",
      "train loss: 1.5222651163639967e-05, train accuracy: 1.0 \n",
      "test loss: 2.574707686709844, test accuracy: 0.62 \n",
      "++++++++++++++++++++++++++++++++++++++++++++++++++++++\n",
      "++++++++++++++++++++++++++++++++++++++++++++++++++++++\n",
      "Epoch: 22\n",
      "train loss: 1.4980978940002387e-05, train accuracy: 1.0 \n",
      "test loss: 2.5929706547790192, test accuracy: 0.62 \n",
      "++++++++++++++++++++++++++++++++++++++++++++++++++++++\n",
      "++++++++++++++++++++++++++++++++++++++++++++++++++++++\n",
      "Epoch: 23\n",
      "train loss: 1.2646915347431787e-05, train accuracy: 1.0 \n",
      "test loss: 2.589124707323372, test accuracy: 0.63 \n",
      "++++++++++++++++++++++++++++++++++++++++++++++++++++++\n",
      "++++++++++++++++++++++++++++++++++++++++++++++++++++++\n",
      "Epoch: 24\n",
      "train loss: 1.2292133678784012e-05, train accuracy: 1.0 \n",
      "test loss: 2.592699655303768, test accuracy: 0.62 \n",
      "++++++++++++++++++++++++++++++++++++++++++++++++++++++\n",
      "++++++++++++++++++++++++++++++++++++++++++++++++++++++\n",
      "Epoch: 25\n",
      "train loss: 1.1452227322479303e-05, train accuracy: 1.0 \n",
      "test loss: 2.6133581330751623, test accuracy: 0.62 \n",
      "++++++++++++++++++++++++++++++++++++++++++++++++++++++\n",
      "++++++++++++++++++++++++++++++++++++++++++++++++++++++\n",
      "Epoch: 26\n",
      "train loss: 1.0915310103882803e-05, train accuracy: 1.0 \n",
      "test loss: 2.6287086590722266, test accuracy: 0.62 \n",
      "++++++++++++++++++++++++++++++++++++++++++++++++++++++\n",
      "++++++++++++++++++++++++++++++++++++++++++++++++++++++\n",
      "Epoch: 27\n",
      "train loss: 1.1144502682327584e-05, train accuracy: 1.0 \n",
      "test loss: 2.6519992152635132, test accuracy: 0.61 \n",
      "++++++++++++++++++++++++++++++++++++++++++++++++++++++\n",
      "++++++++++++++++++++++++++++++++++++++++++++++++++++++\n",
      "Epoch: 28\n",
      "train loss: 1.0122646403942782e-05, train accuracy: 1.0 \n",
      "test loss: 2.672860280238774, test accuracy: 0.61 \n",
      "++++++++++++++++++++++++++++++++++++++++++++++++++++++\n",
      "++++++++++++++++++++++++++++++++++++++++++++++++++++++\n",
      "Epoch: 29\n",
      "train loss: 8.939493291109102e-06, train accuracy: 1.0 \n",
      "test loss: 2.681215868431427, test accuracy: 0.61 \n",
      "++++++++++++++++++++++++++++++++++++++++++++++++++++++\n",
      "++++++++++++++++++++++++++++++++++++++++++++++++++++++\n",
      "Epoch: 30\n",
      "train loss: 9.007847122575185e-06, train accuracy: 1.0 \n",
      "test loss: 2.6837584397183583, test accuracy: 0.61 \n",
      "++++++++++++++++++++++++++++++++++++++++++++++++++++++\n",
      "++++++++++++++++++++++++++++++++++++++++++++++++++++++\n",
      "Epoch: 31\n",
      "train loss: 8.134056915878318e-06, train accuracy: 1.0 \n",
      "test loss: 2.6752417034772678, test accuracy: 0.62 \n",
      "++++++++++++++++++++++++++++++++++++++++++++++++++++++\n",
      "++++++++++++++++++++++++++++++++++++++++++++++++++++++\n",
      "Epoch: 32\n",
      "train loss: 8.704573087925382e-06, train accuracy: 1.0 \n",
      "test loss: 2.671211031684052, test accuracy: 0.63 \n",
      "++++++++++++++++++++++++++++++++++++++++++++++++++++++\n",
      "++++++++++++++++++++++++++++++++++++++++++++++++++++++\n",
      "Epoch: 33\n",
      "train loss: 7.747811755507428e-06, train accuracy: 1.0 \n",
      "test loss: 2.6961330770294625, test accuracy: 0.62 \n",
      "++++++++++++++++++++++++++++++++++++++++++++++++++++++\n",
      "++++++++++++++++++++++++++++++++++++++++++++++++++++++\n",
      "Epoch: 34\n",
      "train loss: 8.065506722232386e-06, train accuracy: 1.0 \n",
      "test loss: 2.7142088723526467, test accuracy: 0.62 \n",
      "++++++++++++++++++++++++++++++++++++++++++++++++++++++\n",
      "++++++++++++++++++++++++++++++++++++++++++++++++++++++\n",
      "Epoch: 35\n",
      "train loss: 7.875765745666286e-06, train accuracy: 1.0 \n",
      "test loss: 2.715475916546184, test accuracy: 0.62 \n",
      "++++++++++++++++++++++++++++++++++++++++++++++++++++++\n"
     ]
    },
    {
     "name": "stdout",
     "output_type": "stream",
     "text": [
      "++++++++++++++++++++++++++++++++++++++++++++++++++++++\n",
      "Epoch: 36\n",
      "train loss: 7.09540961906896e-06, train accuracy: 1.0 \n",
      "test loss: 2.708929895881065, test accuracy: 0.62 \n",
      "++++++++++++++++++++++++++++++++++++++++++++++++++++++\n",
      "++++++++++++++++++++++++++++++++++++++++++++++++++++++\n",
      "Epoch: 37\n",
      "train loss: 7.608994060319674e-06, train accuracy: 1.0 \n",
      "test loss: 2.7051730309561752, test accuracy: 0.62 \n",
      "++++++++++++++++++++++++++++++++++++++++++++++++++++++\n",
      "++++++++++++++++++++++++++++++++++++++++++++++++++++++\n",
      "Epoch: 38\n",
      "train loss: 6.445751646424469e-06, train accuracy: 1.0 \n",
      "test loss: 2.706259582798666, test accuracy: 0.62 \n",
      "++++++++++++++++++++++++++++++++++++++++++++++++++++++\n",
      "++++++++++++++++++++++++++++++++++++++++++++++++++++++\n",
      "Epoch: 39\n",
      "train loss: 7.372726770427107e-06, train accuracy: 1.0 \n",
      "test loss: 2.7085485395543767, test accuracy: 0.62 \n",
      "++++++++++++++++++++++++++++++++++++++++++++++++++++++\n",
      "++++++++++++++++++++++++++++++++++++++++++++++++++++++\n",
      "Epoch: 40\n",
      "train loss: 5.878107103853836e-06, train accuracy: 1.0 \n",
      "test loss: 2.7058638365020125, test accuracy: 0.63 \n",
      "++++++++++++++++++++++++++++++++++++++++++++++++++++++\n",
      "++++++++++++++++++++++++++++++++++++++++++++++++++++++\n",
      "Epoch: 41\n",
      "train loss: 6.182042243381147e-06, train accuracy: 1.0 \n",
      "test loss: 2.708546235972199, test accuracy: 0.63 \n",
      "++++++++++++++++++++++++++++++++++++++++++++++++++++++\n",
      "++++++++++++++++++++++++++++++++++++++++++++++++++++++\n",
      "Epoch: 42\n",
      "train loss: 5.568221160956454e-06, train accuracy: 1.0 \n",
      "test loss: 2.7163052617319408, test accuracy: 0.63 \n",
      "++++++++++++++++++++++++++++++++++++++++++++++++++++++\n",
      "++++++++++++++++++++++++++++++++++++++++++++++++++++++\n",
      "Epoch: 43\n",
      "train loss: 5.5822898048063506e-06, train accuracy: 1.0 \n",
      "test loss: 2.72628339115734, test accuracy: 0.62 \n",
      "++++++++++++++++++++++++++++++++++++++++++++++++++++++\n",
      "++++++++++++++++++++++++++++++++++++++++++++++++++++++\n",
      "Epoch: 44\n",
      "train loss: 5.245134871074697e-06, train accuracy: 1.0 \n",
      "test loss: 2.73051355801093, test accuracy: 0.62 \n",
      "++++++++++++++++++++++++++++++++++++++++++++++++++++++\n",
      "++++++++++++++++++++++++++++++++++++++++++++++++++++++\n",
      "Epoch: 45\n",
      "train loss: 5.683316549038864e-06, train accuracy: 1.0 \n",
      "test loss: 2.732182057785226, test accuracy: 0.61 \n",
      "++++++++++++++++++++++++++++++++++++++++++++++++++++++\n",
      "++++++++++++++++++++++++++++++++++++++++++++++++++++++\n",
      "Epoch: 46\n",
      "train loss: 5.6557755897301835e-06, train accuracy: 1.0 \n",
      "test loss: 2.7391102151269977, test accuracy: 0.61 \n",
      "++++++++++++++++++++++++++++++++++++++++++++++++++++++\n",
      "++++++++++++++++++++++++++++++++++++++++++++++++++++++\n",
      "Epoch: 47\n",
      "train loss: 4.976840006065686e-06, train accuracy: 1.0 \n",
      "test loss: 2.7449460119622837, test accuracy: 0.61 \n",
      "++++++++++++++++++++++++++++++++++++++++++++++++++++++\n",
      "++++++++++++++++++++++++++++++++++++++++++++++++++++++\n",
      "Epoch: 48\n",
      "train loss: 6.141543965441088e-06, train accuracy: 1.0 \n",
      "test loss: 2.7642307552272087, test accuracy: 0.62 \n",
      "++++++++++++++++++++++++++++++++++++++++++++++++++++++\n",
      "++++++++++++++++++++++++++++++++++++++++++++++++++++++\n",
      "Epoch: 49\n",
      "train loss: 5.228756891710873e-06, train accuracy: 1.0 \n",
      "test loss: 2.7620491154087814, test accuracy: 0.62 \n",
      "++++++++++++++++++++++++++++++++++++++++++++++++++++++\n",
      "++++++++++++++++++++++++++++++++++++++++++++++++++++++\n",
      "Epoch: 50\n",
      "train loss: 4.874679946169635e-06, train accuracy: 1.0 \n",
      "test loss: 2.7679487036037336, test accuracy: 0.62 \n",
      "++++++++++++++++++++++++++++++++++++++++++++++++++++++\n",
      "++++++++++++++++++++++++++++++++++++++++++++++++++++++\n",
      "Epoch: 51\n",
      "train loss: 5.402526871876035e-06, train accuracy: 1.0 \n",
      "test loss: 2.772558640393386, test accuracy: 0.62 \n",
      "++++++++++++++++++++++++++++++++++++++++++++++++++++++\n",
      "++++++++++++++++++++++++++++++++++++++++++++++++++++++\n",
      "Epoch: 52\n",
      "train loss: 4.757683976777116e-06, train accuracy: 1.0 \n",
      "test loss: 2.7696895716801966, test accuracy: 0.61 \n",
      "++++++++++++++++++++++++++++++++++++++++++++++++++++++\n",
      "++++++++++++++++++++++++++++++++++++++++++++++++++++++\n",
      "Epoch: 53\n",
      "train loss: 5.154319570692678e-06, train accuracy: 1.0 \n",
      "test loss: 2.7699926882880255, test accuracy: 0.61 \n",
      "++++++++++++++++++++++++++++++++++++++++++++++++++++++\n",
      "++++++++++++++++++++++++++++++++++++++++++++++++++++++\n",
      "Epoch: 54\n",
      "train loss: 5.107888500788249e-06, train accuracy: 1.0 \n",
      "test loss: 2.7831828856661516, test accuracy: 0.62 \n",
      "++++++++++++++++++++++++++++++++++++++++++++++++++++++\n",
      "++++++++++++++++++++++++++++++++++++++++++++++++++++++\n",
      "Epoch: 55\n",
      "train loss: 4.916081139185735e-06, train accuracy: 1.0 \n",
      "test loss: 2.78571926744989, test accuracy: 0.61 \n",
      "++++++++++++++++++++++++++++++++++++++++++++++++++++++\n",
      "++++++++++++++++++++++++++++++++++++++++++++++++++++++\n",
      "Epoch: 56\n",
      "train loss: 5.053712944800282e-06, train accuracy: 1.0 \n",
      "test loss: 2.8017023027189407, test accuracy: 0.62 \n",
      "++++++++++++++++++++++++++++++++++++++++++++++++++++++\n",
      "++++++++++++++++++++++++++++++++++++++++++++++++++++++\n",
      "Epoch: 57\n",
      "train loss: 4.6530309634817965e-06, train accuracy: 1.0 \n",
      "test loss: 2.8033411293929613, test accuracy: 0.62 \n",
      "++++++++++++++++++++++++++++++++++++++++++++++++++++++\n",
      "++++++++++++++++++++++++++++++++++++++++++++++++++++++\n",
      "Epoch: 58\n",
      "train loss: 4.192734274965915e-06, train accuracy: 1.0 \n",
      "test loss: 2.800887698910633, test accuracy: 0.61 \n",
      "++++++++++++++++++++++++++++++++++++++++++++++++++++++\n",
      "++++++++++++++++++++++++++++++++++++++++++++++++++++++\n",
      "Epoch: 59\n",
      "train loss: 4.908684713882394e-06, train accuracy: 1.0 \n",
      "test loss: 2.790123046380363, test accuracy: 0.62 \n",
      "++++++++++++++++++++++++++++++++++++++++++++++++++++++\n",
      "++++++++++++++++++++++++++++++++++++++++++++++++++++++\n",
      "Epoch: 60\n",
      "train loss: 4.563074207908358e-06, train accuracy: 1.0 \n",
      "test loss: 2.7837854537298288, test accuracy: 0.62 \n",
      "++++++++++++++++++++++++++++++++++++++++++++++++++++++\n",
      "++++++++++++++++++++++++++++++++++++++++++++++++++++++\n",
      "Epoch: 61\n",
      "train loss: 4.4099077308601406e-06, train accuracy: 1.0 \n",
      "test loss: 2.7926398620763213, test accuracy: 0.62 \n",
      "++++++++++++++++++++++++++++++++++++++++++++++++++++++\n",
      "++++++++++++++++++++++++++++++++++++++++++++++++++++++\n",
      "Epoch: 62\n",
      "train loss: 3.801257998929941e-06, train accuracy: 1.0 \n",
      "test loss: 2.79577002738708, test accuracy: 0.62 \n",
      "++++++++++++++++++++++++++++++++++++++++++++++++++++++\n",
      "++++++++++++++++++++++++++++++++++++++++++++++++++++++\n",
      "Epoch: 63\n",
      "train loss: 3.687171191586458e-06, train accuracy: 1.0 \n",
      "test loss: 2.793682417273544, test accuracy: 0.62 \n",
      "++++++++++++++++++++++++++++++++++++++++++++++++++++++\n",
      "++++++++++++++++++++++++++++++++++++++++++++++++++++++\n",
      "Epoch: 64\n",
      "train loss: 3.889924930717825e-06, train accuracy: 1.0 \n",
      "test loss: 2.797360100864753, test accuracy: 0.62 \n",
      "++++++++++++++++++++++++++++++++++++++++++++++++++++++\n",
      "++++++++++++++++++++++++++++++++++++++++++++++++++++++\n",
      "Epoch: 65\n",
      "train loss: 3.3707660804793704e-06, train accuracy: 1.0 \n",
      "test loss: 2.795367978560748, test accuracy: 0.62 \n",
      "++++++++++++++++++++++++++++++++++++++++++++++++++++++\n",
      "++++++++++++++++++++++++++++++++++++++++++++++++++++++\n",
      "Epoch: 66\n",
      "train loss: 4.299449772133812e-06, train accuracy: 1.0 \n",
      "test loss: 2.792026086575388, test accuracy: 0.62 \n",
      "++++++++++++++++++++++++++++++++++++++++++++++++++++++\n",
      "++++++++++++++++++++++++++++++++++++++++++++++++++++++\n",
      "Epoch: 67\n",
      "train loss: 3.971189099729599e-06, train accuracy: 1.0 \n",
      "test loss: 2.797064798619749, test accuracy: 0.62 \n",
      "++++++++++++++++++++++++++++++++++++++++++++++++++++++\n",
      "++++++++++++++++++++++++++++++++++++++++++++++++++++++\n",
      "Epoch: 68\n",
      "train loss: 3.731544870788639e-06, train accuracy: 1.0 \n",
      "test loss: 2.8018098300111705, test accuracy: 0.62 \n",
      "++++++++++++++++++++++++++++++++++++++++++++++++++++++\n",
      "++++++++++++++++++++++++++++++++++++++++++++++++++++++\n",
      "Epoch: 69\n",
      "train loss: 3.531354810775156e-06, train accuracy: 1.0 \n",
      "test loss: 2.8013051893313694, test accuracy: 0.62 \n",
      "++++++++++++++++++++++++++++++++++++++++++++++++++++++\n",
      "++++++++++++++++++++++++++++++++++++++++++++++++++++++\n",
      "Epoch: 70\n",
      "train loss: 3.861761874759395e-06, train accuracy: 1.0 \n",
      "test loss: 2.800640739626847, test accuracy: 0.62 \n",
      "++++++++++++++++++++++++++++++++++++++++++++++++++++++\n",
      "++++++++++++++++++++++++++++++++++++++++++++++++++++++\n",
      "Epoch: 71\n",
      "train loss: 4.032549451267187e-06, train accuracy: 1.0 \n",
      "test loss: 2.7938204424920605, test accuracy: 0.63 \n",
      "++++++++++++++++++++++++++++++++++++++++++++++++++++++\n",
      "++++++++++++++++++++++++++++++++++++++++++++++++++++++\n",
      "Epoch: 72\n"
     ]
    },
    {
     "name": "stdout",
     "output_type": "stream",
     "text": [
      "train loss: 3.7058863881611613e-06, train accuracy: 1.0 \n",
      "test loss: 2.8017923095253625, test accuracy: 0.62 \n",
      "++++++++++++++++++++++++++++++++++++++++++++++++++++++\n",
      "++++++++++++++++++++++++++++++++++++++++++++++++++++++\n",
      "Epoch: 73\n",
      "train loss: 4.233885227904466e-06, train accuracy: 1.0 \n",
      "test loss: 2.8115698296633083, test accuracy: 0.62 \n",
      "++++++++++++++++++++++++++++++++++++++++++++++++++++++\n",
      "++++++++++++++++++++++++++++++++++++++++++++++++++++++\n",
      "Epoch: 74\n",
      "train loss: 3.931008980089245e-06, train accuracy: 1.0 \n",
      "test loss: 2.8117777423235477, test accuracy: 0.62 \n",
      "++++++++++++++++++++++++++++++++++++++++++++++++++++++\n",
      "++++++++++++++++++++++++++++++++++++++++++++++++++++++\n",
      "Epoch: 75\n",
      "train loss: 3.4020215207419826e-06, train accuracy: 1.0 \n",
      "test loss: 2.812325235938947, test accuracy: 0.62 \n",
      "++++++++++++++++++++++++++++++++++++++++++++++++++++++\n",
      "++++++++++++++++++++++++++++++++++++++++++++++++++++++\n",
      "Epoch: 76\n",
      "train loss: 3.210800035731154e-06, train accuracy: 1.0 \n",
      "test loss: 2.814059286439924, test accuracy: 0.62 \n",
      "++++++++++++++++++++++++++++++++++++++++++++++++++++++\n",
      "++++++++++++++++++++++++++++++++++++++++++++++++++++++\n",
      "Epoch: 77\n",
      "train loss: 4.0829891361227055e-06, train accuracy: 1.0 \n",
      "test loss: 2.8175872198873186, test accuracy: 0.62 \n",
      "++++++++++++++++++++++++++++++++++++++++++++++++++++++\n",
      "++++++++++++++++++++++++++++++++++++++++++++++++++++++\n",
      "Epoch: 78\n",
      "train loss: 3.82660952709557e-06, train accuracy: 1.0 \n",
      "test loss: 2.818834044210521, test accuracy: 0.62 \n",
      "++++++++++++++++++++++++++++++++++++++++++++++++++++++\n",
      "++++++++++++++++++++++++++++++++++++++++++++++++++++++\n",
      "Epoch: 79\n",
      "train loss: 3.5194667202631536e-06, train accuracy: 1.0 \n",
      "test loss: 2.8222738003272663, test accuracy: 0.62 \n",
      "++++++++++++++++++++++++++++++++++++++++++++++++++++++\n",
      "++++++++++++++++++++++++++++++++++++++++++++++++++++++\n",
      "Epoch: 80\n",
      "train loss: 3.129783862050317e-06, train accuracy: 1.0 \n",
      "test loss: 2.825207504977984, test accuracy: 0.62 \n",
      "++++++++++++++++++++++++++++++++++++++++++++++++++++++\n",
      "++++++++++++++++++++++++++++++++++++++++++++++++++++++\n",
      "Epoch: 81\n",
      "train loss: 3.443961961693276e-06, train accuracy: 1.0 \n",
      "test loss: 2.8256470989272975, test accuracy: 0.62 \n",
      "++++++++++++++++++++++++++++++++++++++++++++++++++++++\n",
      "++++++++++++++++++++++++++++++++++++++++++++++++++++++\n",
      "Epoch: 82\n",
      "train loss: 3.3723333058333084e-06, train accuracy: 1.0 \n",
      "test loss: 2.820620585105853, test accuracy: 0.63 \n",
      "++++++++++++++++++++++++++++++++++++++++++++++++++++++\n",
      "++++++++++++++++++++++++++++++++++++++++++++++++++++++\n",
      "Epoch: 83\n",
      "train loss: 2.651838190104172e-06, train accuracy: 1.0 \n",
      "test loss: 2.8211474784315396, test accuracy: 0.63 \n",
      "++++++++++++++++++++++++++++++++++++++++++++++++++++++\n",
      "++++++++++++++++++++++++++++++++++++++++++++++++++++++\n",
      "Epoch: 84\n",
      "train loss: 3.032220671457253e-06, train accuracy: 1.0 \n",
      "test loss: 2.8142602433527144, test accuracy: 0.63 \n",
      "++++++++++++++++++++++++++++++++++++++++++++++++++++++\n",
      "++++++++++++++++++++++++++++++++++++++++++++++++++++++\n",
      "Epoch: 85\n",
      "train loss: 3.825718608823081e-06, train accuracy: 1.0 \n",
      "test loss: 2.818680631993634, test accuracy: 0.63 \n",
      "++++++++++++++++++++++++++++++++++++++++++++++++++++++\n",
      "++++++++++++++++++++++++++++++++++++++++++++++++++++++\n",
      "Epoch: 86\n",
      "train loss: 2.818928753640648e-06, train accuracy: 1.0 \n",
      "test loss: 2.8143054022737535, test accuracy: 0.63 \n",
      "++++++++++++++++++++++++++++++++++++++++++++++++++++++\n",
      "++++++++++++++++++++++++++++++++++++++++++++++++++++++\n",
      "Epoch: 87\n",
      "train loss: 3.731180335080353e-06, train accuracy: 1.0 \n",
      "test loss: 2.8118019952473015, test accuracy: 0.63 \n",
      "++++++++++++++++++++++++++++++++++++++++++++++++++++++\n",
      "++++++++++++++++++++++++++++++++++++++++++++++++++++++\n",
      "Epoch: 88\n",
      "train loss: 3.65495233609181e-06, train accuracy: 1.0 \n",
      "test loss: 2.823971512724861, test accuracy: 0.63 \n",
      "++++++++++++++++++++++++++++++++++++++++++++++++++++++\n",
      "++++++++++++++++++++++++++++++++++++++++++++++++++++++\n",
      "Epoch: 89\n",
      "train loss: 3.238665152593967e-06, train accuracy: 1.0 \n",
      "test loss: 2.825830645733854, test accuracy: 0.63 \n",
      "++++++++++++++++++++++++++++++++++++++++++++++++++++++\n",
      "++++++++++++++++++++++++++++++++++++++++++++++++++++++\n",
      "Epoch: 90\n",
      "train loss: 3.226122252044661e-06, train accuracy: 1.0 \n",
      "test loss: 2.824238159090537, test accuracy: 0.64 \n",
      "++++++++++++++++++++++++++++++++++++++++++++++++++++++\n",
      "++++++++++++++++++++++++++++++++++++++++++++++++++++++\n",
      "Epoch: 91\n",
      "train loss: 3.0993116160971114e-06, train accuracy: 1.0 \n",
      "test loss: 2.8192821021839656, test accuracy: 0.64 \n",
      "++++++++++++++++++++++++++++++++++++++++++++++++++++++\n",
      "++++++++++++++++++++++++++++++++++++++++++++++++++++++\n",
      "Epoch: 92\n",
      "train loss: 3.1432632528094473e-06, train accuracy: 1.0 \n",
      "test loss: 2.8218094684220727, test accuracy: 0.64 \n",
      "++++++++++++++++++++++++++++++++++++++++++++++++++++++\n",
      "++++++++++++++++++++++++++++++++++++++++++++++++++++++\n",
      "Epoch: 93\n",
      "train loss: 3.2472236705416434e-06, train accuracy: 1.0 \n",
      "test loss: 2.8257509752536247, test accuracy: 0.64 \n",
      "++++++++++++++++++++++++++++++++++++++++++++++++++++++\n",
      "++++++++++++++++++++++++++++++++++++++++++++++++++++++\n",
      "Epoch: 94\n",
      "train loss: 3.1592011293923863e-06, train accuracy: 1.0 \n",
      "test loss: 2.8328722814721026, test accuracy: 0.64 \n",
      "++++++++++++++++++++++++++++++++++++++++++++++++++++++\n",
      "++++++++++++++++++++++++++++++++++++++++++++++++++++++\n",
      "Epoch: 95\n",
      "train loss: 2.8916332757944475e-06, train accuracy: 1.0 \n",
      "test loss: 2.8342439711311886, test accuracy: 0.64 \n",
      "++++++++++++++++++++++++++++++++++++++++++++++++++++++\n",
      "++++++++++++++++++++++++++++++++++++++++++++++++++++++\n",
      "Epoch: 96\n",
      "train loss: 2.520862552159997e-06, train accuracy: 1.0 \n",
      "test loss: 2.829868199867058, test accuracy: 0.64 \n",
      "++++++++++++++++++++++++++++++++++++++++++++++++++++++\n",
      "++++++++++++++++++++++++++++++++++++++++++++++++++++++\n",
      "Epoch: 97\n",
      "train loss: 3.1761786942752224e-06, train accuracy: 1.0 \n",
      "test loss: 2.8340011877204074, test accuracy: 0.64 \n",
      "++++++++++++++++++++++++++++++++++++++++++++++++++++++\n",
      "++++++++++++++++++++++++++++++++++++++++++++++++++++++\n",
      "Epoch: 98\n",
      "train loss: 3.135487095278222e-06, train accuracy: 1.0 \n",
      "test loss: 2.8259854590163673, test accuracy: 0.64 \n",
      "++++++++++++++++++++++++++++++++++++++++++++++++++++++\n",
      "++++++++++++++++++++++++++++++++++++++++++++++++++++++\n",
      "Epoch: 99\n",
      "train loss: 3.6869996517907566e-06, train accuracy: 1.0 \n",
      "test loss: 2.8168293277578935, test accuracy: 0.64 \n",
      "++++++++++++++++++++++++++++++++++++++++++++++++++++++\n"
     ]
    }
   ],
   "source": [
    "for epoch in range(100):\n",
    "    total_loss = 0\n",
    "    accu = 0\n",
    "    \n",
    "    cls.train()\n",
    "    for step,batch in enumerate(train_data_loader):\n",
    "        labels=batch[3].to(device)\n",
    "        token_ids = batch[0].to(device)\n",
    "        type_ids = batch[1].to(device)\n",
    "        \n",
    "        # print(token_ids)\n",
    "        \n",
    "        outputs  = cls(token_ids = token_ids,\n",
    "            type_ids = type_ids,\n",
    "            # attention_mask=batch[2].to(device),\n",
    "            # labels=batch[3].to(device)\n",
    "        )    #输出loss 和 每个分类对应的输出，softmax后才是预测是对应分类的概率\n",
    "        \n",
    "        # loss, logits = outputs.loss, outputs.logits\n",
    "        # logits = outputs.argmax(1)\n",
    "        loss = criterion(outputs, labels)\n",
    "        optimizer.zero_grad()\n",
    "        \n",
    "        # total_loss += loss.cpu().data.numpy()\n",
    "        # total_loss += loss.cuda().data.cpu().numpy()\n",
    "        loss.backward()\n",
    "        \n",
    "        pt.nn.utils.clip_grad_norm_(cls.parameters(), 1.0)\n",
    "        optimizer.step()\n",
    "        \n",
    "        total_loss += loss.data.cpu().numpy()\n",
    "        accu += (outputs.argmax(1) == labels).sum().cpu().data.numpy()\n",
    "\n",
    "            \n",
    "    cls.eval()\n",
    "    \n",
    "    test_loss_sum = 0\n",
    "    test_accu = 0\n",
    "    print(f\"++++++++++++++++++++++++++++++++++++++++++++++++++++++\")\n",
    "    print('Epoch:' , epoch)\n",
    "    for i, batch in enumerate(test_data_loader):\n",
    "        labels=batch[3].to(device)\n",
    "        token_ids = batch[0].to(device)\n",
    "        type_ids = batch[1].to(device)\n",
    "        with pt.no_grad():\n",
    "            outputs  = cls(\n",
    "                token_ids = token_ids,\n",
    "                type_ids = type_ids,\n",
    "                # attention_mask=batch[2].to(device),\n",
    "                # labels=batch[3].to(device)\n",
    "            )    #输出loss 和 每个分类对应的输出，softmax后才是预测是对应分类的概率\n",
    "            loss = criterion(outputs, labels)\n",
    "            # print(f\"loss: {loss}\")\n",
    "            test_loss_sum  += loss.data.cpu().numpy()\n",
    "            test_accu += (outputs.argmax(1) == labels).sum().cpu().data.numpy()\n",
    "            \n",
    "    print(f\"train loss: {total_loss / len(train_input)}, train accuracy: {accu/ len(train_input)} \")\n",
    "    print(f\"test loss: {test_loss_sum / len(test_input)}, test accuracy: {test_accu/ len(test_input)} \")\n",
    "    print(f\"++++++++++++++++++++++++++++++++++++++++++++++++++++++\")"
   ]
  },
  {
   "cell_type": "code",
   "execution_count": 26,
   "id": "88141c6e",
   "metadata": {
    "ExecuteTime": {
     "end_time": "2022-10-25T12:30:33.588805Z",
     "start_time": "2022-10-25T12:30:33.578923Z"
    }
   },
   "outputs": [
    {
     "name": "stdout",
     "output_type": "stream",
     "text": [
      "Model's state_dict:\n",
      "bert_model.embeddings.position_ids \t torch.Size([1, 512])\n",
      "bert_model.embeddings.word_embeddings.weight \t torch.Size([21128, 128])\n",
      "bert_model.embeddings.position_embeddings.weight \t torch.Size([512, 128])\n",
      "bert_model.embeddings.token_type_embeddings.weight \t torch.Size([2, 128])\n",
      "bert_model.embeddings.LayerNorm.weight \t torch.Size([128])\n",
      "bert_model.embeddings.LayerNorm.bias \t torch.Size([128])\n",
      "bert_model.encoder.embedding_hidden_mapping_in.weight \t torch.Size([384, 128])\n",
      "bert_model.encoder.embedding_hidden_mapping_in.bias \t torch.Size([384])\n",
      "bert_model.encoder.albert_layer_groups.0.albert_layers.0.full_layer_layer_norm.weight \t torch.Size([384])\n",
      "bert_model.encoder.albert_layer_groups.0.albert_layers.0.full_layer_layer_norm.bias \t torch.Size([384])\n",
      "bert_model.encoder.albert_layer_groups.0.albert_layers.0.attention.query.weight \t torch.Size([384, 384])\n",
      "bert_model.encoder.albert_layer_groups.0.albert_layers.0.attention.query.bias \t torch.Size([384])\n",
      "bert_model.encoder.albert_layer_groups.0.albert_layers.0.attention.key.weight \t torch.Size([384, 384])\n",
      "bert_model.encoder.albert_layer_groups.0.albert_layers.0.attention.key.bias \t torch.Size([384])\n",
      "bert_model.encoder.albert_layer_groups.0.albert_layers.0.attention.value.weight \t torch.Size([384, 384])\n",
      "bert_model.encoder.albert_layer_groups.0.albert_layers.0.attention.value.bias \t torch.Size([384])\n",
      "bert_model.encoder.albert_layer_groups.0.albert_layers.0.attention.dense.weight \t torch.Size([384, 384])\n",
      "bert_model.encoder.albert_layer_groups.0.albert_layers.0.attention.dense.bias \t torch.Size([384])\n",
      "bert_model.encoder.albert_layer_groups.0.albert_layers.0.attention.LayerNorm.weight \t torch.Size([384])\n",
      "bert_model.encoder.albert_layer_groups.0.albert_layers.0.attention.LayerNorm.bias \t torch.Size([384])\n",
      "bert_model.encoder.albert_layer_groups.0.albert_layers.0.ffn.weight \t torch.Size([1536, 384])\n",
      "bert_model.encoder.albert_layer_groups.0.albert_layers.0.ffn.bias \t torch.Size([1536])\n",
      "bert_model.encoder.albert_layer_groups.0.albert_layers.0.ffn_output.weight \t torch.Size([384, 1536])\n",
      "bert_model.encoder.albert_layer_groups.0.albert_layers.0.ffn_output.bias \t torch.Size([384])\n",
      "bert_model.pooler.weight \t torch.Size([384, 384])\n",
      "bert_model.pooler.bias \t torch.Size([384])\n",
      "fc1.weight \t torch.Size([384, 384])\n",
      "fc1.bias \t torch.Size([384])\n",
      "fc2.weight \t torch.Size([3, 384])\n",
      "fc2.bias \t torch.Size([3])\n"
     ]
    }
   ],
   "source": [
    "print(\"Model's state_dict:\")\n",
    "for param_tensor in cls.state_dict():\n",
    "    print(param_tensor, \"\\t\", cls.state_dict()[param_tensor].size())"
   ]
  },
  {
   "cell_type": "markdown",
   "id": "ad2bab1e",
   "metadata": {
    "ExecuteTime": {
     "end_time": "2022-10-25T12:27:24.758840Z",
     "start_time": "2022-10-25T12:27:24.753570Z"
    }
   },
   "source": [
    "## Save model states"
   ]
  },
  {
   "cell_type": "code",
   "execution_count": 30,
   "id": "9983102a",
   "metadata": {
    "ExecuteTime": {
     "end_time": "2022-10-25T12:36:02.670969Z",
     "start_time": "2022-10-25T12:36:02.595804Z"
    }
   },
   "outputs": [],
   "source": [
    "pt.save(cls.state_dict(), \"./output_models/pt_albert_cls_states.pt\")\n",
    "\n",
    "pt.save(cls, \"./output_models/pt_albert_cls.pt\")"
   ]
  },
  {
   "cell_type": "code",
   "execution_count": null,
   "id": "5cd45098",
   "metadata": {},
   "outputs": [],
   "source": []
  },
  {
   "cell_type": "code",
   "execution_count": 28,
   "id": "82621b2b",
   "metadata": {
    "ExecuteTime": {
     "end_time": "2022-10-25T12:34:40.467298Z",
     "start_time": "2022-10-25T12:34:40.443779Z"
    }
   },
   "outputs": [
    {
     "data": {
      "text/plain": [
       "<All keys matched successfully>"
      ]
     },
     "execution_count": 28,
     "metadata": {},
     "output_type": "execute_result"
    }
   ],
   "source": [
    "cv_cls = FullConnAlbertCls(albert_model, albert_config, 3)\n",
    "cv_cls.load_state_dict(pt.load(\"./output_models/pt_albert_cls_states.pt\"))"
   ]
  },
  {
   "cell_type": "code",
   "execution_count": 31,
   "id": "3056498d",
   "metadata": {
    "ExecuteTime": {
     "end_time": "2022-10-25T12:36:29.469857Z",
     "start_time": "2022-10-25T12:36:29.435199Z"
    }
   },
   "outputs": [],
   "source": [
    "ecv_cls = pt.load(\"./output_models/pt_albert_cls.pt\")"
   ]
  },
  {
   "cell_type": "code",
   "execution_count": 51,
   "id": "d234d6ff",
   "metadata": {
    "ExecuteTime": {
     "end_time": "2022-10-25T12:52:40.182394Z",
     "start_time": "2022-10-25T12:52:39.353732Z"
    }
   },
   "outputs": [],
   "source": [
    "cv_cls = cv_cls.to(device)\n",
    "cv_cls.eval()\n",
    "preds = []\n",
    "test_lbls = []\n",
    "\n",
    "for i, batch in enumerate(test_data_loader):\n",
    "    with pt.no_grad():\n",
    "        pred_outs = cv_cls(\n",
    "\n",
    "            token_ids = batch[0].to(device),\n",
    "            type_ids = batch[1].to(device),\n",
    "        )\n",
    "        pred_logits = pred_outs.detach().cpu().numpy()\n",
    "        preds += list(np.argmax(pred_logits, axis=1))\n",
    "        test_lbls += list(batch[3].cpu().numpy())"
   ]
  },
  {
   "cell_type": "code",
   "execution_count": null,
   "id": "137c0457",
   "metadata": {
    "ExecuteTime": {
     "end_time": "2022-10-25T12:52:42.282348Z",
     "start_time": "2022-10-25T12:52:42.275731Z"
    }
   },
   "outputs": [],
   "source": []
  },
  {
   "cell_type": "code",
   "execution_count": 55,
   "id": "ef54a897",
   "metadata": {
    "ExecuteTime": {
     "end_time": "2022-10-25T12:53:31.938271Z",
     "start_time": "2022-10-25T12:53:31.931522Z"
    }
   },
   "outputs": [
    {
     "data": {
      "text/plain": [
       "0.64"
      ]
     },
     "execution_count": 55,
     "metadata": {},
     "output_type": "execute_result"
    }
   ],
   "source": [
    "accuracy_score(preds, test_lbls)"
   ]
  },
  {
   "cell_type": "code",
   "execution_count": 57,
   "id": "26636cd8",
   "metadata": {
    "ExecuteTime": {
     "end_time": "2022-10-25T12:53:46.148143Z",
     "start_time": "2022-10-25T12:53:46.138608Z"
    }
   },
   "outputs": [
    {
     "name": "stdout",
     "output_type": "stream",
     "text": [
      "              precision    recall  f1-score   support\n",
      "\n",
      "           0       0.63      0.49      0.55        35\n",
      "           1       0.75      0.77      0.76        57\n",
      "           2       0.21      0.38      0.27         8\n",
      "\n",
      "    accuracy                           0.64       100\n",
      "   macro avg       0.53      0.54      0.53       100\n",
      "weighted avg       0.66      0.64      0.65       100\n",
      "\n"
     ]
    }
   ],
   "source": [
    "print(classification_report(preds, test_lbls))"
   ]
  },
  {
   "cell_type": "code",
   "execution_count": null,
   "id": "c504a180",
   "metadata": {},
   "outputs": [],
   "source": []
  }
 ],
 "metadata": {
  "kernelspec": {
   "display_name": "gp-lab",
   "language": "python",
   "name": "gp-lab"
  },
  "language_info": {
   "codemirror_mode": {
    "name": "ipython",
    "version": 3
   },
   "file_extension": ".py",
   "mimetype": "text/x-python",
   "name": "python",
   "nbconvert_exporter": "python",
   "pygments_lexer": "ipython3",
   "version": "3.9.12"
  },
  "toc": {
   "base_numbering": 1,
   "nav_menu": {},
   "number_sections": false,
   "sideBar": true,
   "skip_h1_title": false,
   "title_cell": "Table of Contents",
   "title_sidebar": "Contents",
   "toc_cell": false,
   "toc_position": {
    "height": "calc(100% - 180px)",
    "left": "10px",
    "top": "150px",
    "width": "186.594px"
   },
   "toc_section_display": true,
   "toc_window_display": true
  }
 },
 "nbformat": 4,
 "nbformat_minor": 5
}
