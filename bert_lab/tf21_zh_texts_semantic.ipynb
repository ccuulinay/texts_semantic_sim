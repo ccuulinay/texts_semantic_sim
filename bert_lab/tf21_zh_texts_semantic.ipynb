{
  "nbformat": 4,
  "nbformat_minor": 0,
  "metadata": {
    "colab": {
      "name": "tf21_zh_texts_semantic.ipynb",
      "provenance": [],
      "collapsed_sections": [
        "5qqq0SeM3Dsx"
      ]
    },
    "kernelspec": {
      "name": "python3",
      "display_name": "Python 3"
    },
    "accelerator": "GPU"
  },
  "cells": [
    {
      "cell_type": "markdown",
      "metadata": {
        "id": "bVbmD1NtW92G",
        "colab_type": "text"
      },
      "source": [
        "## Moduls"
      ]
    },
    {
      "cell_type": "markdown",
      "metadata": {
        "id": "TnPuZVqe_o1W",
        "colab_type": "text"
      },
      "source": [
        "Tensorflow 2.0.0 + tf-hub 0.7.0, when using bert keras layer. The model will raise error when predict after compile and fit.  \n",
        "Tensorflow 2.1.0 + tf-hub 0.7.0 works fine."
      ]
    },
    {
      "cell_type": "code",
      "metadata": {
        "id": "Rakq2paQV7Iu",
        "colab_type": "code",
        "outputId": "50e3a3d3-387f-4c27-ba8e-2f1725c559eb",
        "colab": {
          "base_uri": "https://localhost:8080/",
          "height": 1000
        }
      },
      "source": [
        "!pip install tensorflow-gpu==2.1.0\n",
        "!pip install tensorflow_hub\n",
        "!pip install bert-for-tf2\n",
        "!pip install sentencepiece\n",
        "!pip install matplotlib"
      ],
      "execution_count": 0,
      "outputs": [
        {
          "output_type": "stream",
          "text": [
            "Collecting tensorflow-gpu==2.1.0\n",
            "\u001b[?25l  Downloading https://files.pythonhosted.org/packages/0a/93/c7bca39b23aae45cd2e85ad3871c81eccc63b9c5276e926511e2e5b0879d/tensorflow_gpu-2.1.0-cp36-cp36m-manylinux2010_x86_64.whl (421.8MB)\n",
            "\u001b[K     |████████████████████████████████| 421.8MB 37kB/s \n",
            "\u001b[?25hRequirement already satisfied: google-pasta>=0.1.6 in /usr/local/lib/python3.6/dist-packages (from tensorflow-gpu==2.1.0) (0.1.8)\n",
            "Requirement already satisfied: opt-einsum>=2.3.2 in /usr/local/lib/python3.6/dist-packages (from tensorflow-gpu==2.1.0) (3.1.0)\n",
            "Requirement already satisfied: wrapt>=1.11.1 in /usr/local/lib/python3.6/dist-packages (from tensorflow-gpu==2.1.0) (1.11.2)\n",
            "Collecting tensorflow-estimator<2.2.0,>=2.1.0rc0\n",
            "\u001b[?25l  Downloading https://files.pythonhosted.org/packages/18/90/b77c328a1304437ab1310b463e533fa7689f4bfc41549593056d812fab8e/tensorflow_estimator-2.1.0-py2.py3-none-any.whl (448kB)\n",
            "\u001b[K     |████████████████████████████████| 450kB 54.9MB/s \n",
            "\u001b[?25hRequirement already satisfied: absl-py>=0.7.0 in /usr/local/lib/python3.6/dist-packages (from tensorflow-gpu==2.1.0) (0.9.0)\n",
            "Requirement already satisfied: grpcio>=1.8.6 in /usr/local/lib/python3.6/dist-packages (from tensorflow-gpu==2.1.0) (1.15.0)\n",
            "Requirement already satisfied: gast==0.2.2 in /usr/local/lib/python3.6/dist-packages (from tensorflow-gpu==2.1.0) (0.2.2)\n",
            "Requirement already satisfied: astor>=0.6.0 in /usr/local/lib/python3.6/dist-packages (from tensorflow-gpu==2.1.0) (0.8.1)\n",
            "Requirement already satisfied: termcolor>=1.1.0 in /usr/local/lib/python3.6/dist-packages (from tensorflow-gpu==2.1.0) (1.1.0)\n",
            "Collecting tensorboard<2.2.0,>=2.1.0\n",
            "\u001b[?25l  Downloading https://files.pythonhosted.org/packages/40/23/53ffe290341cd0855d595b0a2e7485932f473798af173bbe3a584b99bb06/tensorboard-2.1.0-py3-none-any.whl (3.8MB)\n",
            "\u001b[K     |████████████████████████████████| 3.8MB 59.5MB/s \n",
            "\u001b[?25hRequirement already satisfied: keras-preprocessing>=1.1.0 in /usr/local/lib/python3.6/dist-packages (from tensorflow-gpu==2.1.0) (1.1.0)\n",
            "Requirement already satisfied: wheel>=0.26; python_version >= \"3\" in /usr/local/lib/python3.6/dist-packages (from tensorflow-gpu==2.1.0) (0.34.2)\n",
            "Requirement already satisfied: protobuf>=3.8.0 in /usr/local/lib/python3.6/dist-packages (from tensorflow-gpu==2.1.0) (3.10.0)\n",
            "Requirement already satisfied: six>=1.12.0 in /usr/local/lib/python3.6/dist-packages (from tensorflow-gpu==2.1.0) (1.12.0)\n",
            "Requirement already satisfied: keras-applications>=1.0.8 in /usr/local/lib/python3.6/dist-packages (from tensorflow-gpu==2.1.0) (1.0.8)\n",
            "Requirement already satisfied: scipy==1.4.1; python_version >= \"3\" in /usr/local/lib/python3.6/dist-packages (from tensorflow-gpu==2.1.0) (1.4.1)\n",
            "Requirement already satisfied: numpy<2.0,>=1.16.0 in /usr/local/lib/python3.6/dist-packages (from tensorflow-gpu==2.1.0) (1.17.5)\n",
            "Collecting google-auth<2,>=1.6.3\n",
            "\u001b[?25l  Downloading https://files.pythonhosted.org/packages/1c/6d/7aae38a9022f982cf8167775c7fc299f203417b698c27080ce09060bba07/google_auth-1.11.0-py2.py3-none-any.whl (76kB)\n",
            "\u001b[K     |████████████████████████████████| 81kB 13.9MB/s \n",
            "\u001b[?25hRequirement already satisfied: google-auth-oauthlib<0.5,>=0.4.1 in /usr/local/lib/python3.6/dist-packages (from tensorboard<2.2.0,>=2.1.0->tensorflow-gpu==2.1.0) (0.4.1)\n",
            "Requirement already satisfied: setuptools>=41.0.0 in /usr/local/lib/python3.6/dist-packages (from tensorboard<2.2.0,>=2.1.0->tensorflow-gpu==2.1.0) (45.1.0)\n",
            "Requirement already satisfied: markdown>=2.6.8 in /usr/local/lib/python3.6/dist-packages (from tensorboard<2.2.0,>=2.1.0->tensorflow-gpu==2.1.0) (3.1.1)\n",
            "Requirement already satisfied: werkzeug>=0.11.15 in /usr/local/lib/python3.6/dist-packages (from tensorboard<2.2.0,>=2.1.0->tensorflow-gpu==2.1.0) (0.16.1)\n",
            "Requirement already satisfied: requests<3,>=2.21.0 in /usr/local/lib/python3.6/dist-packages (from tensorboard<2.2.0,>=2.1.0->tensorflow-gpu==2.1.0) (2.21.0)\n",
            "Requirement already satisfied: h5py in /usr/local/lib/python3.6/dist-packages (from keras-applications>=1.0.8->tensorflow-gpu==2.1.0) (2.8.0)\n",
            "Requirement already satisfied: cachetools<5.0,>=2.0.0 in /usr/local/lib/python3.6/dist-packages (from google-auth<2,>=1.6.3->tensorboard<2.2.0,>=2.1.0->tensorflow-gpu==2.1.0) (4.0.0)\n",
            "Requirement already satisfied: pyasn1-modules>=0.2.1 in /usr/local/lib/python3.6/dist-packages (from google-auth<2,>=1.6.3->tensorboard<2.2.0,>=2.1.0->tensorflow-gpu==2.1.0) (0.2.8)\n",
            "Requirement already satisfied: rsa<4.1,>=3.1.4 in /usr/local/lib/python3.6/dist-packages (from google-auth<2,>=1.6.3->tensorboard<2.2.0,>=2.1.0->tensorflow-gpu==2.1.0) (4.0)\n",
            "Requirement already satisfied: requests-oauthlib>=0.7.0 in /usr/local/lib/python3.6/dist-packages (from google-auth-oauthlib<0.5,>=0.4.1->tensorboard<2.2.0,>=2.1.0->tensorflow-gpu==2.1.0) (1.3.0)\n",
            "Requirement already satisfied: urllib3<1.25,>=1.21.1 in /usr/local/lib/python3.6/dist-packages (from requests<3,>=2.21.0->tensorboard<2.2.0,>=2.1.0->tensorflow-gpu==2.1.0) (1.24.3)\n",
            "Requirement already satisfied: certifi>=2017.4.17 in /usr/local/lib/python3.6/dist-packages (from requests<3,>=2.21.0->tensorboard<2.2.0,>=2.1.0->tensorflow-gpu==2.1.0) (2019.11.28)\n",
            "Requirement already satisfied: chardet<3.1.0,>=3.0.2 in /usr/local/lib/python3.6/dist-packages (from requests<3,>=2.21.0->tensorboard<2.2.0,>=2.1.0->tensorflow-gpu==2.1.0) (3.0.4)\n",
            "Requirement already satisfied: idna<2.9,>=2.5 in /usr/local/lib/python3.6/dist-packages (from requests<3,>=2.21.0->tensorboard<2.2.0,>=2.1.0->tensorflow-gpu==2.1.0) (2.8)\n",
            "Requirement already satisfied: pyasn1<0.5.0,>=0.4.6 in /usr/local/lib/python3.6/dist-packages (from pyasn1-modules>=0.2.1->google-auth<2,>=1.6.3->tensorboard<2.2.0,>=2.1.0->tensorflow-gpu==2.1.0) (0.4.8)\n",
            "Requirement already satisfied: oauthlib>=3.0.0 in /usr/local/lib/python3.6/dist-packages (from requests-oauthlib>=0.7.0->google-auth-oauthlib<0.5,>=0.4.1->tensorboard<2.2.0,>=2.1.0->tensorflow-gpu==2.1.0) (3.1.0)\n",
            "\u001b[31mERROR: tensorflow 1.15.0 has requirement tensorboard<1.16.0,>=1.15.0, but you'll have tensorboard 2.1.0 which is incompatible.\u001b[0m\n",
            "\u001b[31mERROR: tensorflow 1.15.0 has requirement tensorflow-estimator==1.15.1, but you'll have tensorflow-estimator 2.1.0 which is incompatible.\u001b[0m\n",
            "\u001b[31mERROR: tensorboard 2.1.0 has requirement grpcio>=1.24.3, but you'll have grpcio 1.15.0 which is incompatible.\u001b[0m\n",
            "\u001b[31mERROR: google-colab 1.0.0 has requirement google-auth~=1.4.0, but you'll have google-auth 1.11.0 which is incompatible.\u001b[0m\n",
            "Installing collected packages: tensorflow-estimator, google-auth, tensorboard, tensorflow-gpu\n",
            "  Found existing installation: tensorflow-estimator 1.15.1\n",
            "    Uninstalling tensorflow-estimator-1.15.1:\n",
            "      Successfully uninstalled tensorflow-estimator-1.15.1\n",
            "  Found existing installation: google-auth 1.4.2\n",
            "    Uninstalling google-auth-1.4.2:\n",
            "      Successfully uninstalled google-auth-1.4.2\n",
            "  Found existing installation: tensorboard 1.15.0\n",
            "    Uninstalling tensorboard-1.15.0:\n",
            "      Successfully uninstalled tensorboard-1.15.0\n",
            "Successfully installed google-auth-1.11.0 tensorboard-2.1.0 tensorflow-estimator-2.1.0 tensorflow-gpu-2.1.0\n"
          ],
          "name": "stdout"
        },
        {
          "output_type": "display_data",
          "data": {
            "application/vnd.colab-display-data+json": {
              "pip_warning": {
                "packages": [
                  "google"
                ]
              }
            }
          },
          "metadata": {
            "tags": []
          }
        },
        {
          "output_type": "stream",
          "text": [
            "Requirement already satisfied: tensorflow_hub in /usr/local/lib/python3.6/dist-packages (0.7.0)\n",
            "Requirement already satisfied: six>=1.10.0 in /usr/local/lib/python3.6/dist-packages (from tensorflow_hub) (1.12.0)\n",
            "Requirement already satisfied: protobuf>=3.4.0 in /usr/local/lib/python3.6/dist-packages (from tensorflow_hub) (3.10.0)\n",
            "Requirement already satisfied: numpy>=1.12.0 in /usr/local/lib/python3.6/dist-packages (from tensorflow_hub) (1.17.5)\n",
            "Requirement already satisfied: setuptools in /usr/local/lib/python3.6/dist-packages (from protobuf>=3.4.0->tensorflow_hub) (45.1.0)\n",
            "Collecting bert-for-tf2\n",
            "\u001b[?25l  Downloading https://files.pythonhosted.org/packages/75/15/03314e558f4c34642a90144fc8ec8bdbb0ef3c2ca80345007f9c7b007a07/bert-for-tf2-0.13.4.tar.gz (40kB)\n",
            "\u001b[K     |████████████████████████████████| 40kB 2.6MB/s \n",
            "\u001b[?25hCollecting py-params>=0.7.3\n",
            "  Downloading https://files.pythonhosted.org/packages/ec/17/71c5f3c0ab511de96059358bcc5e00891a804cd4049021e5fa80540f201a/py-params-0.8.2.tar.gz\n",
            "Collecting params-flow>=0.7.1\n",
            "  Downloading https://files.pythonhosted.org/packages/0d/12/2604f88932f285a473015a5adabf08496d88dad0f9c1228fab1547ccc9b5/params-flow-0.7.4.tar.gz\n",
            "Requirement already satisfied: numpy in /usr/local/lib/python3.6/dist-packages (from params-flow>=0.7.1->bert-for-tf2) (1.17.5)\n",
            "Requirement already satisfied: tqdm in /usr/local/lib/python3.6/dist-packages (from params-flow>=0.7.1->bert-for-tf2) (4.28.1)\n",
            "Building wheels for collected packages: bert-for-tf2, py-params, params-flow\n",
            "  Building wheel for bert-for-tf2 (setup.py) ... \u001b[?25l\u001b[?25hdone\n",
            "  Created wheel for bert-for-tf2: filename=bert_for_tf2-0.13.4-cp36-none-any.whl size=29944 sha256=837d0e56d90ade367d68cb4fabd6c84350ce1e0ed516530074b02e25be884b86\n",
            "  Stored in directory: /root/.cache/pip/wheels/d1/14/6d/b36f1618f939480ce5baa48e4d918ea00669f1cbbec4419514\n",
            "  Building wheel for py-params (setup.py) ... \u001b[?25l\u001b[?25hdone\n",
            "  Created wheel for py-params: filename=py_params-0.8.2-cp36-none-any.whl size=4635 sha256=cd99cf30c7a66ae0ee24c6ee9160b2e83c3df97ab9e76ba1a9b98ef2a0bd16d9\n",
            "  Stored in directory: /root/.cache/pip/wheels/83/3a/9c/baf35d6f17f0c2c6b61bf8ac3ab9fc12df0e41432ccaeecacb\n",
            "  Building wheel for params-flow (setup.py) ... \u001b[?25l\u001b[?25hdone\n",
            "  Created wheel for params-flow: filename=params_flow-0.7.4-cp36-none-any.whl size=16195 sha256=87e1dfdaab56e666123306fcf1a7d6d8cd3e501b68fb968f41856c682c1a903e\n",
            "  Stored in directory: /root/.cache/pip/wheels/86/30/40/507b60d68b67ac87f35e95c98f5b296a32f146d5ae1d1d5aa7\n",
            "Successfully built bert-for-tf2 py-params params-flow\n",
            "Installing collected packages: py-params, params-flow, bert-for-tf2\n",
            "Successfully installed bert-for-tf2-0.13.4 params-flow-0.7.4 py-params-0.8.2\n",
            "Collecting sentencepiece\n",
            "\u001b[?25l  Downloading https://files.pythonhosted.org/packages/74/f4/2d5214cbf13d06e7cb2c20d84115ca25b53ea76fa1f0ade0e3c9749de214/sentencepiece-0.1.85-cp36-cp36m-manylinux1_x86_64.whl (1.0MB)\n",
            "\u001b[K     |████████████████████████████████| 1.0MB 3.4MB/s \n",
            "\u001b[?25hInstalling collected packages: sentencepiece\n",
            "Successfully installed sentencepiece-0.1.85\n",
            "Requirement already satisfied: matplotlib in /usr/local/lib/python3.6/dist-packages (3.1.2)\n",
            "Requirement already satisfied: kiwisolver>=1.0.1 in /usr/local/lib/python3.6/dist-packages (from matplotlib) (1.1.0)\n",
            "Requirement already satisfied: python-dateutil>=2.1 in /usr/local/lib/python3.6/dist-packages (from matplotlib) (2.6.1)\n",
            "Requirement already satisfied: numpy>=1.11 in /usr/local/lib/python3.6/dist-packages (from matplotlib) (1.17.5)\n",
            "Requirement already satisfied: pyparsing!=2.0.4,!=2.1.2,!=2.1.6,>=2.0.1 in /usr/local/lib/python3.6/dist-packages (from matplotlib) (2.4.6)\n",
            "Requirement already satisfied: cycler>=0.10 in /usr/local/lib/python3.6/dist-packages (from matplotlib) (0.10.0)\n",
            "Requirement already satisfied: setuptools in /usr/local/lib/python3.6/dist-packages (from kiwisolver>=1.0.1->matplotlib) (45.1.0)\n",
            "Requirement already satisfied: six>=1.5 in /usr/local/lib/python3.6/dist-packages (from python-dateutil>=2.1->matplotlib) (1.12.0)\n"
          ],
          "name": "stdout"
        }
      ]
    },
    {
      "cell_type": "code",
      "metadata": {
        "id": "OkZzfWY8aA8z",
        "colab_type": "code",
        "colab": {}
      },
      "source": [
        "import tensorflow as tf\n",
        "import tensorflow_hub as tfhub\n",
        "import bert\n",
        "import os\n",
        "import re\n",
        "import pandas as pd\n",
        "import numpy as np\n",
        "import pickle\n",
        "import matplotlib.pyplot as plt\n",
        "%matplotlib inline"
      ],
      "execution_count": 0,
      "outputs": []
    },
    {
      "cell_type": "markdown",
      "metadata": {
        "id": "5qqq0SeM3Dsx",
        "colab_type": "text"
      },
      "source": [
        "## Data"
      ]
    },
    {
      "cell_type": "code",
      "metadata": {
        "id": "tcxSYRSp3Ewe",
        "colab_type": "code",
        "outputId": "f1e08da3-9f33-4d43-9602-dc6f5519df6b",
        "colab": {
          "base_uri": "https://localhost:8080/",
          "height": 375
        }
      },
      "source": [
        "!wget https://raw.githubusercontent.com/ccuulinay/texts_semantic_sim/master/data/train.txt\n",
        "!wget https://raw.githubusercontent.com/ccuulinay/texts_semantic_sim/master/data/test.txt"
      ],
      "execution_count": 0,
      "outputs": [
        {
          "output_type": "stream",
          "text": [
            "--2020-02-04 11:13:35--  https://raw.githubusercontent.com/ccuulinay/texts_semantic_sim/master/data/train.txt\n",
            "Resolving raw.githubusercontent.com (raw.githubusercontent.com)... 151.101.0.133, 151.101.64.133, 151.101.128.133, ...\n",
            "Connecting to raw.githubusercontent.com (raw.githubusercontent.com)|151.101.0.133|:443... connected.\n",
            "HTTP request sent, awaiting response... 200 OK\n",
            "Length: 5174256 (4.9M) [text/plain]\n",
            "Saving to: ‘train.txt’\n",
            "\n",
            "\rtrain.txt             0%[                    ]       0  --.-KB/s               \rtrain.txt            54%[=========>          ]   2.68M  13.4MB/s               \rtrain.txt           100%[===================>]   4.93M  17.4MB/s    in 0.3s    \n",
            "\n",
            "2020-02-04 11:13:35 (17.4 MB/s) - ‘train.txt’ saved [5174256/5174256]\n",
            "\n",
            "--2020-02-04 11:13:37--  https://raw.githubusercontent.com/ccuulinay/texts_semantic_sim/master/data/test.txt\n",
            "Resolving raw.githubusercontent.com (raw.githubusercontent.com)... 151.101.0.133, 151.101.64.133, 151.101.128.133, ...\n",
            "Connecting to raw.githubusercontent.com (raw.githubusercontent.com)|151.101.0.133|:443... connected.\n",
            "HTTP request sent, awaiting response... 200 OK\n",
            "Length: 2553277 (2.4M) [text/plain]\n",
            "Saving to: ‘test.txt’\n",
            "\n",
            "test.txt            100%[===================>]   2.43M  --.-KB/s    in 0.07s   \n",
            "\n",
            "2020-02-04 11:13:38 (34.0 MB/s) - ‘test.txt’ saved [2553277/2553277]\n",
            "\n"
          ],
          "name": "stdout"
        }
      ]
    },
    {
      "cell_type": "code",
      "metadata": {
        "id": "xLTgKpMX3CMc",
        "colab_type": "code",
        "colab": {}
      },
      "source": [
        "train_file = \"train.txt\"\n",
        "test_file = \"test.txt\""
      ],
      "execution_count": 0,
      "outputs": []
    },
    {
      "cell_type": "code",
      "metadata": {
        "id": "zWEv8iQS3qIx",
        "colab_type": "code",
        "colab": {}
      },
      "source": [
        "\n",
        "\n",
        "train = pd.read_csv(train_file, sep=\"\\t\", header=None, names=[\"q1\", \"q2\", \"label\"])\n",
        "test = pd.read_csv(test_file, sep=\"\\t\", header=None, names=[\"q1\", \"q2\", \"label\"])\n",
        "\n",
        "DATA_COLUMNS = [\"q1\", \"q2\"]\n",
        "LABEL_COLUMN = ['label']"
      ],
      "execution_count": 0,
      "outputs": []
    },
    {
      "cell_type": "code",
      "metadata": {
        "id": "rju7kVa04a31",
        "colab_type": "code",
        "colab": {}
      },
      "source": [
        "_train_0 = train[train['label'] == 0].sample(2500)\n",
        "_train_1 = train[train['label'] == 1].sample(2500)\n",
        "train = pd.concat([_train_0, _train_1])\n",
        "\n",
        "_test_0 = test[test['label'] == 0].sample(2500)\n",
        "_test_1 = test[test['label'] == 1].sample(2500)\n",
        "test = pd.concat([_test_0, _test_1])\n"
      ],
      "execution_count": 0,
      "outputs": []
    },
    {
      "cell_type": "code",
      "metadata": {
        "id": "nhSoL4df8Eqp",
        "colab_type": "code",
        "colab": {}
      },
      "source": [
        "def get_masks(tokens, max_seq_length):\n",
        "  \"\"\"Mask for padding\"\"\"\n",
        "  if len(tokens)>max_seq_length:\n",
        "    raise IndexError(\"Token length more than max seq length!\")\n",
        "    return [1]*len(tokens) + [0] * (max_seq_length - len(tokens))\n",
        "\n",
        "\n",
        "def get_segments(tokens, max_seq_length):\n",
        "  \"\"\"Segments: 0 for the first sequence, 1 for the second\"\"\"\n",
        "  if len(tokens)>max_seq_length:\n",
        "      raise IndexError(\"Token length more than max seq length!\")\n",
        "  segments = []\n",
        "  current_segment_id = 0\n",
        "  for token in tokens:\n",
        "      segments.append(current_segment_id)\n",
        "      if token == \"[SEP]\":\n",
        "          current_segment_id = 1\n",
        "  return segments + [0] * (max_seq_length - len(tokens))\n",
        "\n",
        "\n",
        "def get_ids(tokens, tokenizer, max_seq_length):\n",
        "  \"\"\"Token ids from Tokenizer vocab\"\"\"\n",
        "  if len(tokens) > max_seq_length:\n",
        "    raise IndexError(\"Token length more than max seq length!\")\n",
        "  token_ids = tokenizer.convert_tokens_to_ids(tokens)\n",
        "  input_ids = token_ids + [0] * (max_seq_length-len(token_ids))\n",
        "  return input_ids\n",
        "\n",
        "\n",
        "def single_str2ids(s, tokenizer, max_seq_length):\n",
        "  # input_ids=[0] * max_seq_length\n",
        "  stokens = tokenizer.tokenize(s)\n",
        "  if len(stokens) > max_seq_length - 2:\n",
        "      stokens = stokens[0:(max_seq_length - 2)]\n",
        "  stokens = [\"[CLS]\"] + stokens + [\"[SEP]\"]\n",
        "  input_ids = tokenizer.convert_tokens_to_ids(stokens)\n",
        "  while len(input_ids) < max_seq_length:\n",
        "    input_ids.append(0)\n",
        "  return input_ids\n",
        "\n",
        "\n",
        "def sent2_bert_inputs(s, tokenizer, max_seq_length):\n",
        "  stokens = tokenizer.tokenize(s)\n",
        "  if len(stokens) > max_seq_length - 2:\n",
        "      stokens = stokens[0:(max_seq_length - 2)]\n",
        "  stokens = [\"[CLS]\"] + stokens + [\"[SEP]\"]\n",
        "  input_ids = tokenizer.convert_tokens_to_ids(stokens)\n",
        "  input_mask = [1] * len(input_ids)\n",
        "\n",
        "  segment_ids = []\n",
        "  current_segment_id = 0\n",
        "  for token in stokens:\n",
        "      segment_ids.append(current_segment_id)\n",
        "      if token == \"[SEP]\":\n",
        "          current_segment_id = 1\n",
        "  \n",
        "  while len(input_ids) < max_seq_length:\n",
        "    input_ids.append(0)\n",
        "    input_mask.append(0)\n",
        "    segment_ids.append(0)\n",
        "  return input_ids, input_mask, segment_ids\n",
        "\n",
        "\n",
        "def bert_encode_inputs(sentences, tokenizer, max_seq_length):\n",
        "  def _truncate_seq_pair(tokens_a, tokens_b, max_length):\n",
        "    \"\"\"Truncates a sequence pair in place to the maximum length.\"\"\"\n",
        "\n",
        "    # This is a simple heuristic which will always truncate the longer sequence\n",
        "    # one token at a time. This makes more sense than truncating an equal percent\n",
        "    # of tokens from each, since if one sequence is very short then each token\n",
        "    # that's truncated likely contains more information than a longer sequence.\n",
        "    while True:\n",
        "      total_length = len(tokens_a) + len(tokens_b)\n",
        "      if total_length <= max_length:\n",
        "        break\n",
        "      if len(tokens_a) > len(tokens_b):\n",
        "        tokens_a.pop()\n",
        "      else:\n",
        "        tokens_b.pop()\n",
        "  \n",
        "  if len(sentences) >= 2:\n",
        "    sentences = sentences[:2]\n",
        "    s1 = sentences[0]\n",
        "    s2 = sentences[1]\n",
        "\n",
        "    tokens_a = tokenizer.tokenize(s1)\n",
        "    tokens_b = tokenizer.tokenize(s2)\n",
        "    _truncate_seq_pair(tokens_a, tokens_b, max_seq_length - 3)\n",
        "    tokens = []\n",
        "    segment_ids = []\n",
        "\n",
        "    tokens.append(\"[CLS]\")\n",
        "    segment_ids.append(0)\n",
        "    for token in tokens_a:\n",
        "      tokens.append(token)\n",
        "      segment_ids.append(0)\n",
        "    tokens.append(\"[SEP]\")\n",
        "    segment_ids.append(0)\n",
        "\n",
        "    for token in tokens_b:\n",
        "      tokens.append(token)\n",
        "      segment_ids.append(1)\n",
        "    tokens.append(\"[SEP]\")\n",
        "    segment_ids.append(1)\n",
        "\n",
        "    input_ids = tokenizer.convert_tokens_to_ids(tokens)\n",
        "\n",
        "    # The mask has 1 for real tokens and 0 for padding tokens. Only real\n",
        "    # tokens are attended to.\n",
        "    input_mask = [1] * len(input_ids)\n",
        "\n",
        "    # Zero-pad up to the sequence length.\n",
        "    while len(input_ids) < max_seq_length:\n",
        "      input_ids.append(0)\n",
        "      input_mask.append(0)\n",
        "      segment_ids.append(0)\n",
        "\n",
        "    assert len(input_ids) == max_seq_length\n",
        "    assert len(input_mask) == max_seq_length\n",
        "    assert len(segment_ids) == max_seq_length\n",
        "    return input_ids, input_mask, segment_ids\n",
        "\n",
        "  elif len(sentences) == 1:\n",
        "    s = sentences[0]\n",
        "    return sent2_bert_inputs(s, tokenizer, max_seq_length)\n",
        "  else:\n",
        "    print(\"No sentences input.\")\n",
        "    return"
      ],
      "execution_count": 0,
      "outputs": []
    },
    {
      "cell_type": "code",
      "metadata": {
        "id": "XHC38I6-9RHw",
        "colab_type": "code",
        "colab": {}
      },
      "source": [
        "bert_layer = tfhub.KerasLayer(\"https://tfhub.dev/tensorflow/bert_zh_L-12_H-768_A-12/1\", trainable=True)"
      ],
      "execution_count": 0,
      "outputs": []
    },
    {
      "cell_type": "code",
      "metadata": {
        "id": "utlgEQjeHTIN",
        "colab_type": "code",
        "colab": {}
      },
      "source": [
        "## Using bert-for-tf2 for tokenizer.\n",
        "vocab_file = bert_layer.resolved_object.vocab_file.asset_path.numpy()\n",
        "do_lower_case = bert_layer.resolved_object.do_lower_case.numpy()\n",
        "tokenizer = bert.bert_tokenization.FullTokenizer(vocab_file, do_lower_case)"
      ],
      "execution_count": 0,
      "outputs": []
    },
    {
      "cell_type": "code",
      "metadata": {
        "id": "sd6ThrTZUtOX",
        "colab_type": "code",
        "colab": {}
      },
      "source": [
        "## Using repo tokenzier\n",
        "## 1. Download tokenization from repo\n",
        "# !wget https://raw.githubusercontent.com/tensorflow/models/master/official/nlp/bert/tokenization.py\n",
        "\n",
        "# import tokenization\n",
        "\n",
        "## 2. Local model, take bert as example\n",
        "## Download bert model\n",
        "# !wget https://storage.googleapis.com/cloud-tpu-checkpoints/bert/keras_bert/uncased_L-12_H-768_A-12.tar.gz\n",
        "## Unzip the file\n",
        "# !tar -zxvf uncased_L-12_H-768_A-12.tar.gz\n",
        "\n",
        "\n",
        "## 3. Local download\n",
        "# model_dir = \"./home/hongkuny/public/pretrained_models/keras_bert/uncased_L-12_H-768_A-12\"\n",
        "# model_ckpt = os.path.join(model_dir, \"bert_model.ckpt\")\n",
        "\n",
        "# vocab_file = os.path.join(model_dir, \"30k-clean.vocab\")\n",
        "# spm_model = os.path.join(model_dir, \"30k-clean.model\")\n",
        "\n",
        "# do_lower_case = True\n",
        "# bert.albert_tokenization.validate_case_matches_checkpoint(do_lower_case, model_ckpt)\n",
        "# tokenizer = bert.albert_tokenization.FullTokenizer(vocab_file, do_lower_case=do_lower_case)\n",
        "# tokenizer = tokenization.FullTokenizer(vocab_file, do_lower_case=do_lower_case, spm_model_file=spm_model)"
      ],
      "execution_count": 0,
      "outputs": []
    },
    {
      "cell_type": "code",
      "metadata": {
        "id": "6uiIAJUlHTyv",
        "colab_type": "code",
        "colab": {}
      },
      "source": [
        "max_seq_len = 128"
      ],
      "execution_count": 0,
      "outputs": []
    },
    {
      "cell_type": "code",
      "metadata": {
        "id": "X_CWIGjU8GZt",
        "colab_type": "code",
        "colab": {}
      },
      "source": [
        "# a = bert_encode_inputs(train[DATA_COLUMNS].head().values.tolist()[0], tokenizer, max_seq_len)"
      ],
      "execution_count": 0,
      "outputs": []
    },
    {
      "cell_type": "code",
      "metadata": {
        "id": "DDRZRq1eHugu",
        "colab_type": "code",
        "colab": {}
      },
      "source": [
        "train_set = []\n",
        "for s in train[DATA_COLUMNS].values:\n",
        "  train_set.append(bert_encode_inputs(s, tokenizer, max_seq_len))\n",
        "train_features_df = pd.DataFrame(train_set, columns=['word_ids', 'mask', 'segment_ids'])\n",
        "\n",
        "test_set = []\n",
        "for s in test[DATA_COLUMNS].values:\n",
        "  test_set.append(bert_encode_inputs(s, tokenizer, max_seq_len))\n",
        "test_features_df = pd.DataFrame(test_set, columns=['word_ids', 'mask', 'segment_ids'])\n",
        "\n",
        "\n",
        "train_features = {}\n",
        "train_features['word_ids'] = np.array(train_features_df['word_ids'].values.tolist())\n",
        "train_features['mask'] = np.array(train_features_df['mask'].values.tolist())\n",
        "train_features['segment_ids'] = np.array(train_features_df['segment_ids'].values.tolist())\n",
        "\n",
        "test_features = {}\n",
        "test_features['word_ids'] = np.array(test_features_df['word_ids'].values.tolist())\n",
        "test_features['mask'] = np.array(test_features_df['mask'].values.tolist())\n",
        "test_features['segment_ids'] = np.array(test_features_df['segment_ids'].values.tolist())\n",
        "\n",
        "val_features_df = test_features_df.iloc[:1000].copy()\n",
        "val_features = {}\n",
        "val_features['word_ids'] = np.array(val_features_df['word_ids'].values.tolist())\n",
        "val_features['mask'] = np.array(val_features_df['mask'].values.tolist())\n",
        "val_features['segment_ids'] = np.array(val_features_df['segment_ids'].values.tolist())\n",
        "\n",
        "train_labels = train[LABEL_COLUMN].values\n",
        "test_labels = test[LABEL_COLUMN].values\n",
        "val_labels = test.iloc[:1000][LABEL_COLUMN].values\n"
      ],
      "execution_count": 0,
      "outputs": []
    },
    {
      "cell_type": "code",
      "metadata": {
        "id": "hJjyxsfiHvvs",
        "colab_type": "code",
        "colab": {}
      },
      "source": [
        ""
      ],
      "execution_count": 0,
      "outputs": []
    },
    {
      "cell_type": "markdown",
      "metadata": {
        "id": "-3vo4BZQuEzm",
        "colab_type": "text"
      },
      "source": [
        "## Model"
      ]
    },
    {
      "cell_type": "code",
      "metadata": {
        "id": "59vWm-jDuLWD",
        "colab_type": "code",
        "colab": {}
      },
      "source": [
        "BATCH_SIZE = 32\n",
        "LEARNING_RATE = 2e-5\n",
        "NUM_TRAIN_EPOCHS = 5"
      ],
      "execution_count": 0,
      "outputs": []
    },
    {
      "cell_type": "code",
      "metadata": {
        "id": "GNylFoFguAoO",
        "colab_type": "code",
        "colab": {}
      },
      "source": [
        "input_word_ids = tf.keras.layers.Input(shape=(max_seq_len,), dtype=tf.int32,\n",
        "                                       name=\"input_word_ids\")\n",
        "input_mask = tf.keras.layers.Input(shape=(max_seq_len,), dtype=tf.int32,\n",
        "                                   name=\"input_mask\")\n",
        "segment_ids = tf.keras.layers.Input(shape=(max_seq_len,), dtype=tf.int32,\n",
        "                                    name=\"segment_ids\")\n",
        "\n",
        "pooled_output, sequence_output = bert_layer([input_word_ids, input_mask, segment_ids])\n",
        "# pooled = GlobalAveragePooling1D(seq)\n",
        "\n",
        "\n",
        "# logits = tf.keras.layers.Dense(64, activation=tf.nn.relu)(pooled_output)\n",
        "# logits = tf.keras.layers.Dropout(0.5)(logits)\n",
        "# logtis = tf.keras.layers.Dense(1, activation=tf.nn.sigmoid)(logtis)\n",
        "dense_1 = tf.keras.layers.Dense(1, activation=tf.nn.sigmoid)(pooled_output)"
      ],
      "execution_count": 0,
      "outputs": []
    },
    {
      "cell_type": "code",
      "metadata": {
        "id": "2EJL2yVvc5Fs",
        "colab_type": "code",
        "colab": {}
      },
      "source": [
        "embed_model = tf.keras.Model(inputs=[input_word_ids, input_mask, segment_ids], outputs=[pooled_output, sequence_output])\n",
        "cls = tf.keras.Model(inputs=[input_word_ids, input_mask, segment_ids], outputs=dense_1)"
      ],
      "execution_count": 0,
      "outputs": []
    },
    {
      "cell_type": "code",
      "metadata": {
        "id": "Yc7NgifsuRTr",
        "colab_type": "code",
        "outputId": "a08e9656-098b-4e57-b0e6-3c3119e71d53",
        "colab": {
          "base_uri": "https://localhost:8080/",
          "height": 358
        }
      },
      "source": [
        "\n",
        "\n",
        "'''\n",
        "# Sequential\n",
        "cls = tf.keras.Sequential([\n",
        "        # tf.keras.layers.Input(shape=(max_seq_length,), dtype='int32', name='input_ids'),\n",
        "        [input_word_ids, input_mask, segment_ids],\n",
        "        bert_layer,\n",
        "        # tf.keras.layers.Flatten(),\n",
        "        # tf.keras.layers.Dense(128, activation=tf.nn.relu),\n",
        "        # tf.keras.layers.Dropout(0.5),\n",
        "        tf.keras.layers.Dense(64, activation=tf.nn.relu),\n",
        "        # tf.keras.layers.Dropout(0.5),\n",
        "        # tf.keras.layers.Dense(1, activation=tf.nn.softmax)\n",
        "        tf.keras.layers.Dense(1, activation=tf.nn.sigmoid)\n",
        "])\n",
        "\n",
        "cls.build(input_shape=(None, max_seq_len))\n",
        "'''\n",
        "cls.compile(loss='binary_crossentropy', optimizer=tf.optimizers.Adam(lr=LEARNING_RATE), metrics=['accuracy'])\n",
        "\n",
        "# cls.compile(loss='categorical_crossentropy', optimizer=tf.optimizers.Adam(lr=LEARNING_RATE), metrics=['accuracy'])\n",
        "\n",
        "print(cls.summary())"
      ],
      "execution_count": 0,
      "outputs": [
        {
          "output_type": "stream",
          "text": [
            "Model: \"model_3\"\n",
            "__________________________________________________________________________________________________\n",
            "Layer (type)                    Output Shape         Param #     Connected to                     \n",
            "==================================================================================================\n",
            "input_word_ids (InputLayer)     [(None, 128)]        0                                            \n",
            "__________________________________________________________________________________________________\n",
            "input_mask (InputLayer)         [(None, 128)]        0                                            \n",
            "__________________________________________________________________________________________________\n",
            "segment_ids (InputLayer)        [(None, 128)]        0                                            \n",
            "__________________________________________________________________________________________________\n",
            "keras_layer (KerasLayer)        [(None, 768), (None, 102267649   input_word_ids[0][0]             \n",
            "                                                                 input_mask[0][0]                 \n",
            "                                                                 segment_ids[0][0]                \n",
            "__________________________________________________________________________________________________\n",
            "dense_1 (Dense)                 (None, 1)            769         keras_layer[1][0]                \n",
            "==================================================================================================\n",
            "Total params: 102,268,418\n",
            "Trainable params: 102,268,417\n",
            "Non-trainable params: 1\n",
            "__________________________________________________________________________________________________\n",
            "None\n"
          ],
          "name": "stdout"
        }
      ]
    },
    {
      "cell_type": "code",
      "metadata": {
        "id": "8vIuXRRnupZQ",
        "colab_type": "code",
        "outputId": "f086095b-6f94-4d03-dfea-4336a7767c96",
        "colab": {
          "base_uri": "https://localhost:8080/",
          "height": 196
        }
      },
      "source": [
        "# Train\n",
        "output_dir = \"./\"\n",
        "checkpoint_name = os.path.join(output_dir, \"bert_for_zh_texts_semantic.ckpt\")\n",
        "\n",
        "# Create a callback that saves the model's weights\n",
        "cp_callback = tf.keras.callbacks.ModelCheckpoint(filepath=checkpoint_name,\n",
        "                                                     save_weights_only=True,\n",
        "                                                     verbose=1)\n",
        "steps_per_epoch = int(round(len(train_set))//BATCH_SIZE)\n",
        "val_steps = int(1000//BATCH_SIZE)\n",
        "# callback = StopTrainingClassComplete()\n",
        "\n",
        "history = cls.fit(\n",
        "        (train_features['word_ids'], train_features['mask'],train_features['segment_ids']),\n",
        "        train_labels,\n",
        "        epochs=NUM_TRAIN_EPOCHS, # Will raise error when epoch number is float. \n",
        "        batch_size=BATCH_SIZE,\n",
        "        validation_split=0.2,\n",
        "        # steps_per_epoch = steps_per_epoch,\n",
        "        # validation_steps=val_steps,\n",
        "        # validation_data=((val_features['word_ids'], val_features['mask'],val_features['segment_ids']), val_labels),\n",
        "        verbose=1,\n",
        "        # callbacks=[cp_callback]\n",
        ")"
      ],
      "execution_count": 0,
      "outputs": [
        {
          "output_type": "stream",
          "text": [
            "Train on 4000 samples, validate on 1000 samples\n",
            "Epoch 1/5\n",
            "4000/4000 [==============================] - 110s 27ms/sample - loss: 0.3685 - accuracy: 0.8317 - val_loss: 0.5844 - val_accuracy: 0.7740\n",
            "Epoch 2/5\n",
            "4000/4000 [==============================] - 107s 27ms/sample - loss: 0.1636 - accuracy: 0.9448 - val_loss: 1.0429 - val_accuracy: 0.6880\n",
            "Epoch 3/5\n",
            "4000/4000 [==============================] - 107s 27ms/sample - loss: 0.0984 - accuracy: 0.9697 - val_loss: 0.7305 - val_accuracy: 0.7760\n",
            "Epoch 4/5\n",
            "4000/4000 [==============================] - 107s 27ms/sample - loss: 0.0639 - accuracy: 0.9800 - val_loss: 1.5015 - val_accuracy: 0.6290\n",
            "Epoch 5/5\n",
            "4000/4000 [==============================] - 107s 27ms/sample - loss: 0.0472 - accuracy: 0.9872 - val_loss: 0.7267 - val_accuracy: 0.8080\n"
          ],
          "name": "stdout"
        }
      ]
    },
    {
      "cell_type": "code",
      "metadata": {
        "id": "ULmpTnyNutEc",
        "colab_type": "code",
        "outputId": "3e9761c3-8b50-45e6-8cac-07d182609031",
        "colab": {
          "base_uri": "https://localhost:8080/",
          "height": 512
        }
      },
      "source": [
        "acc = history.history['accuracy']\n",
        "val_acc = history.history['val_accuracy']\n",
        "\n",
        "loss = history.history['loss']\n",
        "val_loss = history.history['val_loss']\n",
        "\n",
        "plt.figure(figsize=(8, 8))\n",
        "plt.subplot(2, 1, 1)\n",
        "plt.plot(acc, label='Training Accuracy')\n",
        "plt.plot(val_acc, label='Validation Accuracy')\n",
        "plt.legend(loc='lower right')\n",
        "plt.ylabel('Accuracy')\n",
        "plt.title('Training and Validation Accuracy')\n",
        "\n",
        "plt.subplot(2, 1, 2)\n",
        "plt.plot(loss, label='Training Loss')\n",
        "plt.plot(val_loss, label='Validation Loss')\n",
        "plt.legend(loc='upper right')\n",
        "plt.ylabel('Binary Cross Entropy')\n",
        "plt.title('Training and Validation Loss')\n",
        "plt.xlabel('epoch')\n",
        "plt.show()"
      ],
      "execution_count": 0,
      "outputs": [
        {
          "output_type": "display_data",
          "data": {
            "image/png": "[encoded data removed]",
            "text/plain": [
              "<Figure size 576x576 with 2 Axes>"
            ]
          },
          "metadata": {
            "tags": []
          }
        }
      ]
    },
    {
      "cell_type": "code",
      "metadata": {
        "id": "w5gPBAhvLB4J",
        "colab_type": "code",
        "colab": {}
      },
      "source": [
        "from sklearn.metrics import classification_report\n",
        "from sklearn.metrics import confusion_matrix  \n",
        "from sklearn.metrics import accuracy_score, f1_score, roc_auc_score\n",
        "\n"
      ],
      "execution_count": 0,
      "outputs": []
    },
    {
      "cell_type": "code",
      "metadata": {
        "id": "6RUpQ4LsPLXT",
        "colab_type": "code",
        "colab": {}
      },
      "source": [
        "# np.shape([test_features['word_ids'], test_features['mask'], test_features['segment_ids']])\n"
      ],
      "execution_count": 0,
      "outputs": []
    },
    {
      "cell_type": "code",
      "metadata": {
        "id": "FN3HW_LHLrm2",
        "colab_type": "code",
        "outputId": "ba4f6cc7-9fd0-4b66-b65f-7dfcf9235bbd",
        "colab": {
          "base_uri": "https://localhost:8080/",
          "height": 33
        }
      },
      "source": [
        "loss_n_acc = cls.evaluate([test_features['word_ids'], test_features['mask'], test_features['segment_ids']], test_labels)"
      ],
      "execution_count": 0,
      "outputs": [
        {
          "output_type": "stream",
          "text": [
            "5000/5000 [==============================] - 46s 9ms/sample - loss: 0.9264 - accuracy: 0.7376\n"
          ],
          "name": "stdout"
        }
      ]
    },
    {
      "cell_type": "code",
      "metadata": {
        "id": "AXs5mkPsdz_V",
        "colab_type": "code",
        "outputId": "0d857f66-12a0-4ad4-eda7-5791212b7f77",
        "colab": {
          "base_uri": "https://localhost:8080/",
          "height": 33
        }
      },
      "source": [
        "loss_n_acc"
      ],
      "execution_count": 0,
      "outputs": [
        {
          "output_type": "execute_result",
          "data": {
            "text/plain": [
              "[0.9263997816562652, 0.7376]"
            ]
          },
          "metadata": {
            "tags": []
          },
          "execution_count": 43
        }
      ]
    },
    {
      "cell_type": "code",
      "metadata": {
        "id": "GK6fx8Lv3HIE",
        "colab_type": "code",
        "colab": {}
      },
      "source": [
        "test_prop = cls.predict((test_features['word_ids'], test_features['mask'], test_features['segment_ids']))\n",
        "# train_features['word_ids'][0]"
      ],
      "execution_count": 0,
      "outputs": []
    },
    {
      "cell_type": "code",
      "metadata": {
        "id": "-K7VHyM6FeQT",
        "colab_type": "code",
        "colab": {}
      },
      "source": [
        "test_pred = np.where(test_prop > 0.5, 1, 0).flatten()"
      ],
      "execution_count": 0,
      "outputs": []
    },
    {
      "cell_type": "code",
      "metadata": {
        "id": "cRZ6FAUClz-O",
        "colab_type": "code",
        "outputId": "558dfec6-24f8-46bf-f6f2-010108e9f290",
        "colab": {
          "base_uri": "https://localhost:8080/",
          "height": 33
        }
      },
      "source": [
        "np.shape(test_labels)"
      ],
      "execution_count": 0,
      "outputs": [
        {
          "output_type": "execute_result",
          "data": {
            "text/plain": [
              "(5000, 1)"
            ]
          },
          "metadata": {
            "tags": []
          },
          "execution_count": 56
        }
      ]
    },
    {
      "cell_type": "code",
      "metadata": {
        "id": "vhq4-n6zLMPm",
        "colab_type": "code",
        "outputId": "75f1e9f8-b234-4b56-cc35-7da17431535f",
        "colab": {
          "base_uri": "https://localhost:8080/",
          "height": 261
        }
      },
      "source": [
        "cm = confusion_matrix(test_labels, test_pred)  \n",
        "print(cm)  \n",
        "print()\n",
        "print(\"F1 score\", f1_score(test_labels, test_pred))\n",
        "print('Accuracy', accuracy_score(test_labels, test_pred))\n",
        "print('ROC AUC SCORE', roc_auc_score(test_labels, test_pred))\n",
        "print(classification_report(test_labels, test_pred))"
      ],
      "execution_count": 0,
      "outputs": [
        {
          "output_type": "stream",
          "text": [
            "[[1683  817]\n",
            " [ 495 2005]]\n",
            "\n",
            "F1 score 0.7534761367906802\n",
            "Accuracy 0.7376\n",
            "ROC AUC SCORE 0.7376\n",
            "              precision    recall  f1-score   support\n",
            "\n",
            "           0       0.77      0.67      0.72      2500\n",
            "           1       0.71      0.80      0.75      2500\n",
            "\n",
            "    accuracy                           0.74      5000\n",
            "   macro avg       0.74      0.74      0.74      5000\n",
            "weighted avg       0.74      0.74      0.74      5000\n",
            "\n"
          ],
          "name": "stdout"
        }
      ]
    },
    {
      "cell_type": "code",
      "metadata": {
        "id": "YsKcAtJGd2N1",
        "colab_type": "code",
        "colab": {}
      },
      "source": [
        "## Save the model\n",
        "# cls.save(\"zh_texts_semantic_cls_bert_3epoch.h5\")"
      ],
      "execution_count": 0,
      "outputs": []
    },
    {
      "cell_type": "code",
      "metadata": {
        "id": "Oe4waAxD04YK",
        "colab_type": "code",
        "colab": {}
      },
      "source": [
        "# tf.keras.models.save_model(cls, \"zh_texts_semantic_cls_bert_3epoch.tf\")"
      ],
      "execution_count": 0,
      "outputs": []
    },
    {
      "cell_type": "code",
      "metadata": {
        "id": "RRxuq1rf1WoD",
        "colab_type": "code",
        "colab": {}
      },
      "source": [
        "## Mount Google Drive\n",
        "# from google.colab import drive\n",
        "# drive.mount('/content/drive')"
      ],
      "execution_count": 0,
      "outputs": []
    },
    {
      "cell_type": "code",
      "metadata": {
        "id": "VNjgqC_K1a5b",
        "colab_type": "code",
        "colab": {}
      },
      "source": [
        "# !cp zh_texts_semantic_cls_bert_3epoch.h5 /content/drive/My\\ Drive/Colab\\ Notebooks/"
      ],
      "execution_count": 0,
      "outputs": []
    },
    {
      "cell_type": "code",
      "metadata": {
        "id": "pe3kMgH42UJ_",
        "colab_type": "code",
        "colab": {}
      },
      "source": [
        "# reload_cls = tf.keras.models.load_model(\"zh_texts_semantic_cls_bert_3epoch.h5\",custom_objects={'KerasLayer':tfhub.KerasLayer})"
      ],
      "execution_count": 0,
      "outputs": []
    },
    {
      "cell_type": "code",
      "metadata": {
        "id": "ujxFKQr5A6A7",
        "colab_type": "code",
        "colab": {}
      },
      "source": [
        "# reload_cls.summary()"
      ],
      "execution_count": 0,
      "outputs": []
    },
    {
      "cell_type": "code",
      "metadata": {
        "id": "6mpiQYZnErVo",
        "colab_type": "code",
        "colab": {}
      },
      "source": [
        ""
      ],
      "execution_count": 0,
      "outputs": []
    }
  ]
}