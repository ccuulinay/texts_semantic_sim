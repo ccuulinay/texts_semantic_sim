{
  "nbformat": 4,
  "nbformat_minor": 0,
  "metadata": {
    "colab": {
      "name": "albert_zh_texts_semantic.ipynb",
      "provenance": [],
      "collapsed_sections": [
        "kX1GslG2qK0p"
      ]
    },
    "kernelspec": {
      "name": "python3",
      "display_name": "Python 3"
    },
    "accelerator": "GPU"
  },
  "cells": [
    {
      "cell_type": "markdown",
      "metadata": {
        "id": "jiLFDUkq3sIo",
        "colab_type": "text"
      },
      "source": [
        "## Modules"
      ]
    },
    {
      "cell_type": "code",
      "metadata": {
        "id": "Pct5-ZbQeWfc",
        "colab_type": "code",
        "outputId": "047a0ae9-c660-4bd5-c553-bd8a88991a9c",
        "colab": {
          "base_uri": "https://localhost:8080/",
          "height": 1000
        }
      },
      "source": [
        "# !pip install tensorflow==2.0.0\n",
        "!pip install tensorflow-gpu==2.1.0\n",
        "!pip install bert-for-tf2\n",
        "!pip install sentencepiece\n",
        "!pip install matplotlib"
      ],
      "execution_count": 0,
      "outputs": [
        {
          "output_type": "stream",
          "text": [
            "Collecting tensorflow-gpu==2.1.0\n",
            "\u001b[?25l  Downloading https://files.pythonhosted.org/packages/0a/93/c7bca39b23aae45cd2e85ad3871c81eccc63b9c5276e926511e2e5b0879d/tensorflow_gpu-2.1.0-cp36-cp36m-manylinux2010_x86_64.whl (421.8MB)\n",
            "\u001b[K     |████████████████████████████████| 421.8MB 42kB/s \n",
            "\u001b[?25hRequirement already satisfied: wrapt>=1.11.1 in /usr/local/lib/python3.6/dist-packages (from tensorflow-gpu==2.1.0) (1.11.2)\n",
            "Requirement already satisfied: astor>=0.6.0 in /usr/local/lib/python3.6/dist-packages (from tensorflow-gpu==2.1.0) (0.8.1)\n",
            "Requirement already satisfied: google-pasta>=0.1.6 in /usr/local/lib/python3.6/dist-packages (from tensorflow-gpu==2.1.0) (0.1.8)\n",
            "Requirement already satisfied: wheel>=0.26; python_version >= \"3\" in /usr/local/lib/python3.6/dist-packages (from tensorflow-gpu==2.1.0) (0.34.2)\n",
            "Requirement already satisfied: termcolor>=1.1.0 in /usr/local/lib/python3.6/dist-packages (from tensorflow-gpu==2.1.0) (1.1.0)\n",
            "Requirement already satisfied: gast==0.2.2 in /usr/local/lib/python3.6/dist-packages (from tensorflow-gpu==2.1.0) (0.2.2)\n",
            "Requirement already satisfied: keras-applications>=1.0.8 in /usr/local/lib/python3.6/dist-packages (from tensorflow-gpu==2.1.0) (1.0.8)\n",
            "Requirement already satisfied: grpcio>=1.8.6 in /usr/local/lib/python3.6/dist-packages (from tensorflow-gpu==2.1.0) (1.15.0)\n",
            "Requirement already satisfied: protobuf>=3.8.0 in /usr/local/lib/python3.6/dist-packages (from tensorflow-gpu==2.1.0) (3.10.0)\n",
            "Collecting tensorflow-estimator<2.2.0,>=2.1.0rc0\n",
            "\u001b[?25l  Downloading https://files.pythonhosted.org/packages/18/90/b77c328a1304437ab1310b463e533fa7689f4bfc41549593056d812fab8e/tensorflow_estimator-2.1.0-py2.py3-none-any.whl (448kB)\n",
            "\u001b[K     |████████████████████████████████| 450kB 57.5MB/s \n",
            "\u001b[?25hRequirement already satisfied: six>=1.12.0 in /usr/local/lib/python3.6/dist-packages (from tensorflow-gpu==2.1.0) (1.12.0)\n",
            "Requirement already satisfied: opt-einsum>=2.3.2 in /usr/local/lib/python3.6/dist-packages (from tensorflow-gpu==2.1.0) (3.1.0)\n",
            "Requirement already satisfied: scipy==1.4.1; python_version >= \"3\" in /usr/local/lib/python3.6/dist-packages (from tensorflow-gpu==2.1.0) (1.4.1)\n",
            "Requirement already satisfied: keras-preprocessing>=1.1.0 in /usr/local/lib/python3.6/dist-packages (from tensorflow-gpu==2.1.0) (1.1.0)\n",
            "Requirement already satisfied: absl-py>=0.7.0 in /usr/local/lib/python3.6/dist-packages (from tensorflow-gpu==2.1.0) (0.9.0)\n",
            "Requirement already satisfied: numpy<2.0,>=1.16.0 in /usr/local/lib/python3.6/dist-packages (from tensorflow-gpu==2.1.0) (1.17.5)\n",
            "Collecting tensorboard<2.2.0,>=2.1.0\n",
            "\u001b[?25l  Downloading https://files.pythonhosted.org/packages/40/23/53ffe290341cd0855d595b0a2e7485932f473798af173bbe3a584b99bb06/tensorboard-2.1.0-py3-none-any.whl (3.8MB)\n",
            "\u001b[K     |████████████████████████████████| 3.8MB 34.8MB/s \n",
            "\u001b[?25hRequirement already satisfied: h5py in /usr/local/lib/python3.6/dist-packages (from keras-applications>=1.0.8->tensorflow-gpu==2.1.0) (2.8.0)\n",
            "Requirement already satisfied: setuptools in /usr/local/lib/python3.6/dist-packages (from protobuf>=3.8.0->tensorflow-gpu==2.1.0) (45.1.0)\n",
            "Collecting google-auth<2,>=1.6.3\n",
            "\u001b[?25l  Downloading https://files.pythonhosted.org/packages/1c/6d/7aae38a9022f982cf8167775c7fc299f203417b698c27080ce09060bba07/google_auth-1.11.0-py2.py3-none-any.whl (76kB)\n",
            "\u001b[K     |████████████████████████████████| 81kB 11.8MB/s \n",
            "\u001b[?25hRequirement already satisfied: requests<3,>=2.21.0 in /usr/local/lib/python3.6/dist-packages (from tensorboard<2.2.0,>=2.1.0->tensorflow-gpu==2.1.0) (2.21.0)\n",
            "Requirement already satisfied: google-auth-oauthlib<0.5,>=0.4.1 in /usr/local/lib/python3.6/dist-packages (from tensorboard<2.2.0,>=2.1.0->tensorflow-gpu==2.1.0) (0.4.1)\n",
            "Requirement already satisfied: werkzeug>=0.11.15 in /usr/local/lib/python3.6/dist-packages (from tensorboard<2.2.0,>=2.1.0->tensorflow-gpu==2.1.0) (0.16.1)\n",
            "Requirement already satisfied: markdown>=2.6.8 in /usr/local/lib/python3.6/dist-packages (from tensorboard<2.2.0,>=2.1.0->tensorflow-gpu==2.1.0) (3.1.1)\n",
            "Requirement already satisfied: cachetools<5.0,>=2.0.0 in /usr/local/lib/python3.6/dist-packages (from google-auth<2,>=1.6.3->tensorboard<2.2.0,>=2.1.0->tensorflow-gpu==2.1.0) (4.0.0)\n",
            "Requirement already satisfied: rsa<4.1,>=3.1.4 in /usr/local/lib/python3.6/dist-packages (from google-auth<2,>=1.6.3->tensorboard<2.2.0,>=2.1.0->tensorflow-gpu==2.1.0) (4.0)\n",
            "Requirement already satisfied: pyasn1-modules>=0.2.1 in /usr/local/lib/python3.6/dist-packages (from google-auth<2,>=1.6.3->tensorboard<2.2.0,>=2.1.0->tensorflow-gpu==2.1.0) (0.2.8)\n",
            "Requirement already satisfied: urllib3<1.25,>=1.21.1 in /usr/local/lib/python3.6/dist-packages (from requests<3,>=2.21.0->tensorboard<2.2.0,>=2.1.0->tensorflow-gpu==2.1.0) (1.24.3)\n",
            "Requirement already satisfied: certifi>=2017.4.17 in /usr/local/lib/python3.6/dist-packages (from requests<3,>=2.21.0->tensorboard<2.2.0,>=2.1.0->tensorflow-gpu==2.1.0) (2019.11.28)\n",
            "Requirement already satisfied: chardet<3.1.0,>=3.0.2 in /usr/local/lib/python3.6/dist-packages (from requests<3,>=2.21.0->tensorboard<2.2.0,>=2.1.0->tensorflow-gpu==2.1.0) (3.0.4)\n",
            "Requirement already satisfied: idna<2.9,>=2.5 in /usr/local/lib/python3.6/dist-packages (from requests<3,>=2.21.0->tensorboard<2.2.0,>=2.1.0->tensorflow-gpu==2.1.0) (2.8)\n",
            "Requirement already satisfied: requests-oauthlib>=0.7.0 in /usr/local/lib/python3.6/dist-packages (from google-auth-oauthlib<0.5,>=0.4.1->tensorboard<2.2.0,>=2.1.0->tensorflow-gpu==2.1.0) (1.3.0)\n",
            "Requirement already satisfied: pyasn1>=0.1.3 in /usr/local/lib/python3.6/dist-packages (from rsa<4.1,>=3.1.4->google-auth<2,>=1.6.3->tensorboard<2.2.0,>=2.1.0->tensorflow-gpu==2.1.0) (0.4.8)\n",
            "Requirement already satisfied: oauthlib>=3.0.0 in /usr/local/lib/python3.6/dist-packages (from requests-oauthlib>=0.7.0->google-auth-oauthlib<0.5,>=0.4.1->tensorboard<2.2.0,>=2.1.0->tensorflow-gpu==2.1.0) (3.1.0)\n",
            "\u001b[31mERROR: tensorflow 1.15.0 has requirement tensorboard<1.16.0,>=1.15.0, but you'll have tensorboard 2.1.0 which is incompatible.\u001b[0m\n",
            "\u001b[31mERROR: tensorflow 1.15.0 has requirement tensorflow-estimator==1.15.1, but you'll have tensorflow-estimator 2.1.0 which is incompatible.\u001b[0m\n",
            "\u001b[31mERROR: tensorboard 2.1.0 has requirement grpcio>=1.24.3, but you'll have grpcio 1.15.0 which is incompatible.\u001b[0m\n",
            "\u001b[31mERROR: google-colab 1.0.0 has requirement google-auth~=1.4.0, but you'll have google-auth 1.11.0 which is incompatible.\u001b[0m\n",
            "Installing collected packages: tensorflow-estimator, google-auth, tensorboard, tensorflow-gpu\n",
            "  Found existing installation: tensorflow-estimator 1.15.1\n",
            "    Uninstalling tensorflow-estimator-1.15.1:\n",
            "      Successfully uninstalled tensorflow-estimator-1.15.1\n",
            "  Found existing installation: google-auth 1.4.2\n",
            "    Uninstalling google-auth-1.4.2:\n",
            "      Successfully uninstalled google-auth-1.4.2\n",
            "  Found existing installation: tensorboard 1.15.0\n",
            "    Uninstalling tensorboard-1.15.0:\n",
            "      Successfully uninstalled tensorboard-1.15.0\n",
            "Successfully installed google-auth-1.11.0 tensorboard-2.1.0 tensorflow-estimator-2.1.0 tensorflow-gpu-2.1.0\n"
          ],
          "name": "stdout"
        },
        {
          "output_type": "display_data",
          "data": {
            "application/vnd.colab-display-data+json": {
              "pip_warning": {
                "packages": [
                  "google"
                ]
              }
            }
          },
          "metadata": {
            "tags": []
          }
        },
        {
          "output_type": "stream",
          "text": [
            "Collecting bert-for-tf2\n",
            "\u001b[?25l  Downloading https://files.pythonhosted.org/packages/75/15/03314e558f4c34642a90144fc8ec8bdbb0ef3c2ca80345007f9c7b007a07/bert-for-tf2-0.13.4.tar.gz (40kB)\n",
            "\r\u001b[K     |████████▏                       | 10kB 29.4MB/s eta 0:00:01\r\u001b[K     |████████████████▎               | 20kB 3.0MB/s eta 0:00:01\r\u001b[K     |████████████████████████▍       | 30kB 4.4MB/s eta 0:00:01\r\u001b[K     |████████████████████████████████| 40kB 3.3MB/s \n",
            "\u001b[?25hCollecting py-params>=0.7.3\n",
            "  Downloading https://files.pythonhosted.org/packages/ec/17/71c5f3c0ab511de96059358bcc5e00891a804cd4049021e5fa80540f201a/py-params-0.8.2.tar.gz\n",
            "Collecting params-flow>=0.7.1\n",
            "  Downloading https://files.pythonhosted.org/packages/0d/12/2604f88932f285a473015a5adabf08496d88dad0f9c1228fab1547ccc9b5/params-flow-0.7.4.tar.gz\n",
            "Requirement already satisfied: numpy in /usr/local/lib/python3.6/dist-packages (from params-flow>=0.7.1->bert-for-tf2) (1.17.5)\n",
            "Requirement already satisfied: tqdm in /usr/local/lib/python3.6/dist-packages (from params-flow>=0.7.1->bert-for-tf2) (4.28.1)\n",
            "Building wheels for collected packages: bert-for-tf2, py-params, params-flow\n",
            "  Building wheel for bert-for-tf2 (setup.py) ... \u001b[?25l\u001b[?25hdone\n",
            "  Created wheel for bert-for-tf2: filename=bert_for_tf2-0.13.4-cp36-none-any.whl size=29944 sha256=7ce43e2d360773bde653704beaa91d5b364027b2742ed44d01141f36b63a8fed\n",
            "  Stored in directory: /root/.cache/pip/wheels/d1/14/6d/b36f1618f939480ce5baa48e4d918ea00669f1cbbec4419514\n",
            "  Building wheel for py-params (setup.py) ... \u001b[?25l\u001b[?25hdone\n",
            "  Created wheel for py-params: filename=py_params-0.8.2-cp36-none-any.whl size=4635 sha256=b71b4ee3fc8cb4be537a9b2a393d3425edd5dff86013b5effad04d25841d79a1\n",
            "  Stored in directory: /root/.cache/pip/wheels/83/3a/9c/baf35d6f17f0c2c6b61bf8ac3ab9fc12df0e41432ccaeecacb\n",
            "  Building wheel for params-flow (setup.py) ... \u001b[?25l\u001b[?25hdone\n",
            "  Created wheel for params-flow: filename=params_flow-0.7.4-cp36-none-any.whl size=16195 sha256=1406258f6bba5d23b5dd91cc4697897fa2ff3fa5a7098565f2f6ad90039d6bc4\n",
            "  Stored in directory: /root/.cache/pip/wheels/86/30/40/507b60d68b67ac87f35e95c98f5b296a32f146d5ae1d1d5aa7\n",
            "Successfully built bert-for-tf2 py-params params-flow\n",
            "Installing collected packages: py-params, params-flow, bert-for-tf2\n",
            "Successfully installed bert-for-tf2-0.13.4 params-flow-0.7.4 py-params-0.8.2\n",
            "Collecting sentencepiece\n",
            "\u001b[?25l  Downloading https://files.pythonhosted.org/packages/74/f4/2d5214cbf13d06e7cb2c20d84115ca25b53ea76fa1f0ade0e3c9749de214/sentencepiece-0.1.85-cp36-cp36m-manylinux1_x86_64.whl (1.0MB)\n",
            "\u001b[K     |████████████████████████████████| 1.0MB 4.8MB/s \n",
            "\u001b[?25hInstalling collected packages: sentencepiece\n",
            "Successfully installed sentencepiece-0.1.85\n",
            "Requirement already satisfied: matplotlib in /usr/local/lib/python3.6/dist-packages (3.1.2)\n",
            "Requirement already satisfied: cycler>=0.10 in /usr/local/lib/python3.6/dist-packages (from matplotlib) (0.10.0)\n",
            "Requirement already satisfied: kiwisolver>=1.0.1 in /usr/local/lib/python3.6/dist-packages (from matplotlib) (1.1.0)\n",
            "Requirement already satisfied: pyparsing!=2.0.4,!=2.1.2,!=2.1.6,>=2.0.1 in /usr/local/lib/python3.6/dist-packages (from matplotlib) (2.4.6)\n",
            "Requirement already satisfied: numpy>=1.11 in /usr/local/lib/python3.6/dist-packages (from matplotlib) (1.17.5)\n",
            "Requirement already satisfied: python-dateutil>=2.1 in /usr/local/lib/python3.6/dist-packages (from matplotlib) (2.6.1)\n",
            "Requirement already satisfied: six in /usr/local/lib/python3.6/dist-packages (from cycler>=0.10->matplotlib) (1.12.0)\n",
            "Requirement already satisfied: setuptools in /usr/local/lib/python3.6/dist-packages (from kiwisolver>=1.0.1->matplotlib) (45.1.0)\n"
          ],
          "name": "stdout"
        }
      ]
    },
    {
      "cell_type": "code",
      "metadata": {
        "id": "ksB1QaZhJw5p",
        "colab_type": "code",
        "outputId": "3ac541bf-af3e-47ba-a5dc-ba3b5b127453",
        "colab": {
          "base_uri": "https://localhost:8080/",
          "height": 196
        }
      },
      "source": [
        "# Download tokenization from repo\n",
        "!wget https://raw.githubusercontent.com/google-research/ALBERT/master/tokenization.py"
      ],
      "execution_count": 0,
      "outputs": [
        {
          "output_type": "stream",
          "text": [
            "--2020-02-07 12:45:22--  https://raw.githubusercontent.com/google-research/ALBERT/master/tokenization.py\n",
            "Resolving raw.githubusercontent.com (raw.githubusercontent.com)... 151.101.0.133, 151.101.64.133, 151.101.128.133, ...\n",
            "Connecting to raw.githubusercontent.com (raw.githubusercontent.com)|151.101.0.133|:443... connected.\n",
            "HTTP request sent, awaiting response... 200 OK\n",
            "Length: 16318 (16K) [text/plain]\n",
            "Saving to: ‘tokenization.py’\n",
            "\n",
            "\rtokenization.py       0%[                    ]       0  --.-KB/s               \rtokenization.py     100%[===================>]  15.94K  --.-KB/s    in 0.007s  \n",
            "\n",
            "2020-02-07 12:45:22 (2.12 MB/s) - ‘tokenization.py’ saved [16318/16318]\n",
            "\n"
          ],
          "name": "stdout"
        }
      ]
    },
    {
      "cell_type": "code",
      "metadata": {
        "id": "KseTKkK6ecvC",
        "colab_type": "code",
        "colab": {}
      },
      "source": [
        "import tensorflow as tf\n",
        "import bert\n",
        "import os\n",
        "import sentencepiece as spm\n",
        "import pandas as pd\n",
        "import numpy as np\n",
        "\n",
        "import importlib\n",
        "import tokenization\n",
        "\n",
        "importlib.reload(tokenization)\n",
        "\n",
        "import matplotlib.pyplot as plt\n",
        "%matplotlib inline"
      ],
      "execution_count": 0,
      "outputs": []
    },
    {
      "cell_type": "markdown",
      "metadata": {
        "id": "eXvwbZ7S346G",
        "colab_type": "text"
      },
      "source": [
        "## Albert_zh"
      ]
    },
    {
      "cell_type": "code",
      "metadata": {
        "id": "Lsm73LtTR7Rd",
        "colab_type": "code",
        "outputId": "0c39aa3c-54a2-410f-f882-27a383ddc9ad",
        "colab": {
          "base_uri": "https://localhost:8080/",
          "height": 310
        }
      },
      "source": [
        "## Local model, take bert as example\n",
        "## Download bert model\n",
        "!wget https://storage.googleapis.com/albert_models/albert_base_zh.tar.gz\n",
        "## Unzip the file\n",
        "!tar -zxvf albert_base_zh.tar.gz\n",
        "\n",
        "\n",
        "# Local download\n",
        "model_dir = \"./albert_base\"\n",
        "model_ckpt   = os.path.join(model_dir, \"model.ckpt-best\")\n",
        "vocab_file = os.path.join(model_dir, \"vocab_chinese.txt\")\n",
        "# spm_model = os.path.join(model_dir, \"30k-clean.model\")"
      ],
      "execution_count": 0,
      "outputs": [
        {
          "output_type": "stream",
          "text": [
            "--2020-02-07 12:46:48--  https://storage.googleapis.com/albert_models/albert_base_zh.tar.gz\n",
            "Resolving storage.googleapis.com (storage.googleapis.com)... 74.125.197.128, 2607:f8b0:400e:c03::80\n",
            "Connecting to storage.googleapis.com (storage.googleapis.com)|74.125.197.128|:443... connected.\n",
            "HTTP request sent, awaiting response... 200 OK\n",
            "Length: 39731739 (38M) [application/gzip]\n",
            "Saving to: ‘albert_base_zh.tar.gz’\n",
            "\n",
            "\ralbert_base_zh.tar.   0%[                    ]       0  --.-KB/s               \ralbert_base_zh.tar.  21%[===>                ]   8.01M  38.0MB/s               \ralbert_base_zh.tar.  84%[===============>    ]  32.01M  55.0MB/s               \ralbert_base_zh.tar. 100%[===================>]  37.89M  63.3MB/s    in 0.6s    \n",
            "\n",
            "2020-02-07 12:46:49 (63.3 MB/s) - ‘albert_base_zh.tar.gz’ saved [39731739/39731739]\n",
            "\n",
            "albert_base/\n",
            "albert_base/vocab_chinese.txt\n",
            "albert_base/checkpoint\n",
            "albert_base/model.ckpt-best.meta\n",
            "albert_base/albert_config.json\n",
            "albert_base/model.ckpt-best.index\n",
            "albert_base/model.ckpt-best.data-00000-of-00001\n"
          ],
          "name": "stdout"
        }
      ]
    },
    {
      "cell_type": "code",
      "metadata": {
        "id": "B82PPTls3cI0",
        "colab_type": "code",
        "colab": {}
      },
      "source": [
        "# model_name = \"albert_base_v2\"\n",
        "# model_dir    = bert.fetch_google_albert_model(model_name, \"models\")\n",
        "# model_ckpt   = os.path.join(model_dir, \"model.ckpt-best\")\n",
        "\n",
        "# vocab_file = os.path.join(model_dir, \"30k-clean.vocab\")\n",
        "# spm_model = os.path.join(model_dir, \"30k-clean.model\")\n",
        "\n",
        "model_params = bert.albert_params(model_dir)\n",
        "l_bert = bert.BertModelLayer.from_params(model_params, name=\"albert\")\n",
        "\n"
      ],
      "execution_count": 0,
      "outputs": []
    },
    {
      "cell_type": "code",
      "metadata": {
        "id": "N47dnfL2yaN1",
        "colab_type": "code",
        "colab": {}
      },
      "source": [
        "\n",
        "\n",
        "do_lower_case = True\n",
        "bert.albert_tokenization.validate_case_matches_checkpoint(do_lower_case, model_ckpt)\n",
        "# tokenizer = bert.albert_tokenization.FullTokenizer(vocab_file, do_lower_case=do_lower_case)\n",
        "tokenizer = tokenization.FullTokenizer(vocab_file\n",
        "                                       , do_lower_case=do_lower_case\n",
        "                                       # , spm_model_file=spm_model\n",
        "                                       )"
      ],
      "execution_count": 0,
      "outputs": []
    },
    {
      "cell_type": "code",
      "metadata": {
        "id": "yGPSA6-v5M29",
        "colab_type": "code",
        "colab": {}
      },
      "source": [
        "\n",
        "# spm_model = os.path.join(model_dir, \"30k-clean.model\")\n",
        "# sp = spm.SentencePieceProcessor()\n",
        "# sp.load(spm_model)\n",
        "# do_lower_case = True\n",
        "\n",
        "# processed_text = tokenization.preprocess_text(\"to token\", lower=do_lower_case)\n",
        "# token_ids = tokenization.encode_ids(sp, processed_text)"
      ],
      "execution_count": 0,
      "outputs": []
    },
    {
      "cell_type": "code",
      "metadata": {
        "id": "pFth1X-GBiTI",
        "colab_type": "code",
        "outputId": "c85aac45-1b56-4cfc-fb7e-28b27a5effe3",
        "colab": {
          "base_uri": "https://localhost:8080/",
          "height": 50
        }
      },
      "source": [
        "s = \"艾伊斯坦的理论测试\"\n",
        "tokens = tokenizer.tokenize(s)\n",
        "tokens = [\"[CLS]\"]+tokens+['[SEP]']\n",
        "word_ids = tokenizer.convert_tokens_to_ids(tokens)\n",
        "\n",
        "print(tokens)\n",
        "print(word_ids)"
      ],
      "execution_count": 0,
      "outputs": [
        {
          "output_type": "stream",
          "text": [
            "['[CLS]', '艾', '伊', '斯', '坦', '的', '理', '论', '测', '试', '[SEP]']\n",
            "[101, 5687, 823, 3172, 1788, 4638, 4415, 6389, 3844, 6407, 102]\n"
          ],
          "name": "stdout"
        }
      ]
    },
    {
      "cell_type": "code",
      "metadata": {
        "id": "fRF4JiNE8GGt",
        "colab_type": "code",
        "colab": {}
      },
      "source": [
        "def sent2_bert_inputs(s, tokenizer, max_seq_length):\n",
        "  stokens = tokenizer.tokenize(s)\n",
        "  if len(stokens) > max_seq_length - 2:\n",
        "      stokens = stokens[0:(max_seq_length - 2)]\n",
        "  stokens = [\"[CLS]\"] + stokens + [\"[SEP]\"]\n",
        "  input_ids = tokenizer.convert_tokens_to_ids(stokens)\n",
        "  input_mask = [1] * len(input_ids)\n",
        "\n",
        "  segment_ids = []\n",
        "  current_segment_id = 0\n",
        "  for token in stokens:\n",
        "      segment_ids.append(current_segment_id)\n",
        "      if token == \"[SEP]\":\n",
        "          current_segment_id = 1\n",
        "  \n",
        "  while len(input_ids) < max_seq_length:\n",
        "    input_ids.append(0)\n",
        "    input_mask.append(0)\n",
        "    segment_ids.append(0)\n",
        "  return input_ids, input_mask, segment_ids\n",
        "\n",
        "\n",
        "def bert_encode_inputs(sentences, tokenizer, max_seq_length):\n",
        "  def _truncate_seq_pair(tokens_a, tokens_b, max_length):\n",
        "    \"\"\"Truncates a sequence pair in place to the maximum length.\"\"\"\n",
        "\n",
        "    # This is a simple heuristic which will always truncate the longer sequence\n",
        "    # one token at a time. This makes more sense than truncating an equal percent\n",
        "    # of tokens from each, since if one sequence is very short then each token\n",
        "    # that's truncated likely contains more information than a longer sequence.\n",
        "    while True:\n",
        "      total_length = len(tokens_a) + len(tokens_b)\n",
        "      if total_length <= max_length:\n",
        "        break\n",
        "      if len(tokens_a) > len(tokens_b):\n",
        "        tokens_a.pop()\n",
        "      else:\n",
        "        tokens_b.pop()\n",
        "  \n",
        "  if len(sentences) >= 2:\n",
        "    sentences = sentences[:2]\n",
        "    s1 = sentences[0]\n",
        "    s2 = sentences[1]\n",
        "\n",
        "    tokens_a = tokenizer.tokenize(s1)\n",
        "    tokens_b = tokenizer.tokenize(s2)\n",
        "    _truncate_seq_pair(tokens_a, tokens_b, max_seq_length - 3)\n",
        "    tokens = []\n",
        "    segment_ids = []\n",
        "\n",
        "    tokens.append(\"[CLS]\")\n",
        "    segment_ids.append(0)\n",
        "    for token in tokens_a:\n",
        "      tokens.append(token)\n",
        "      segment_ids.append(0)\n",
        "    tokens.append(\"[SEP]\")\n",
        "    segment_ids.append(0)\n",
        "\n",
        "    for token in tokens_b:\n",
        "      tokens.append(token)\n",
        "      segment_ids.append(1)\n",
        "    tokens.append(\"[SEP]\")\n",
        "    segment_ids.append(1)\n",
        "\n",
        "    input_ids = tokenizer.convert_tokens_to_ids(tokens)\n",
        "\n",
        "    # The mask has 1 for real tokens and 0 for padding tokens. Only real\n",
        "    # tokens are attended to.\n",
        "    input_mask = [1] * len(input_ids)\n",
        "\n",
        "    # Zero-pad up to the sequence length.\n",
        "    while len(input_ids) < max_seq_length:\n",
        "      input_ids.append(0)\n",
        "      input_mask.append(0)\n",
        "      segment_ids.append(0)\n",
        "\n",
        "    assert len(input_ids) == max_seq_length\n",
        "    assert len(input_mask) == max_seq_length\n",
        "    assert len(segment_ids) == max_seq_length\n",
        "    return input_ids, input_mask, segment_ids\n",
        "\n",
        "  elif len(sentences) == 1:\n",
        "    s = sentences[0]\n",
        "    return sent2_bert_inputs(s, tokenizer, max_seq_length)\n",
        "  else:\n",
        "    print(\"No sentences input.\")\n",
        "    return"
      ],
      "execution_count": 0,
      "outputs": []
    },
    {
      "cell_type": "code",
      "metadata": {
        "id": "OhjW3GH2GNqH",
        "colab_type": "code",
        "colab": {}
      },
      "source": [
        "# sent2_bert_inputs(\"this is a tokenizer test\", tokenizer, 128)\n",
        "a = bert_encode_inputs([\"你好世界\"], tokenizer, 128)"
      ],
      "execution_count": 0,
      "outputs": []
    },
    {
      "cell_type": "code",
      "metadata": {
        "id": "nYn9ZZc4GP6T",
        "colab_type": "code",
        "colab": {}
      },
      "source": [
        ""
      ],
      "execution_count": 0,
      "outputs": []
    },
    {
      "cell_type": "markdown",
      "metadata": {
        "id": "5qqq0SeM3Dsx",
        "colab_type": "text"
      },
      "source": [
        "## Data"
      ]
    },
    {
      "cell_type": "markdown",
      "metadata": {
        "id": "y0hm19xEqBI7",
        "colab_type": "text"
      },
      "source": [
        "### Mayi finance texts semantic data"
      ]
    },
    {
      "cell_type": "code",
      "metadata": {
        "id": "tcxSYRSp3Ewe",
        "colab_type": "code",
        "outputId": "b5bb6efb-4af6-46d3-e85a-c811f899f743",
        "colab": {
          "base_uri": "https://localhost:8080/",
          "height": 375
        }
      },
      "source": [
        "!wget https://raw.githubusercontent.com/ccuulinay/texts_semantic_sim/master/data/train.txt\n",
        "!wget https://raw.githubusercontent.com/ccuulinay/texts_semantic_sim/master/data/test.txt"
      ],
      "execution_count": 0,
      "outputs": [
        {
          "output_type": "stream",
          "text": [
            "--2020-02-07 13:09:14--  https://raw.githubusercontent.com/ccuulinay/texts_semantic_sim/master/data/train.txt\n",
            "Resolving raw.githubusercontent.com (raw.githubusercontent.com)... 151.101.0.133, 151.101.64.133, 151.101.128.133, ...\n",
            "Connecting to raw.githubusercontent.com (raw.githubusercontent.com)|151.101.0.133|:443... connected.\n",
            "HTTP request sent, awaiting response... 200 OK\n",
            "Length: 5174256 (4.9M) [text/plain]\n",
            "Saving to: ‘train.txt’\n",
            "\n",
            "\rtrain.txt             0%[                    ]       0  --.-KB/s               \rtrain.txt           100%[===================>]   4.93M  --.-KB/s    in 0.07s   \n",
            "\n",
            "2020-02-07 13:09:15 (69.8 MB/s) - ‘train.txt’ saved [5174256/5174256]\n",
            "\n",
            "--2020-02-07 13:09:18--  https://raw.githubusercontent.com/ccuulinay/texts_semantic_sim/master/data/test.txt\n",
            "Resolving raw.githubusercontent.com (raw.githubusercontent.com)... 151.101.0.133, 151.101.64.133, 151.101.128.133, ...\n",
            "Connecting to raw.githubusercontent.com (raw.githubusercontent.com)|151.101.0.133|:443... connected.\n",
            "HTTP request sent, awaiting response... 200 OK\n",
            "Length: 2553277 (2.4M) [text/plain]\n",
            "Saving to: ‘test.txt’\n",
            "\n",
            "test.txt            100%[===================>]   2.43M  --.-KB/s    in 0.09s   \n",
            "\n",
            "2020-02-07 13:09:18 (26.1 MB/s) - ‘test.txt’ saved [2553277/2553277]\n",
            "\n"
          ],
          "name": "stdout"
        }
      ]
    },
    {
      "cell_type": "code",
      "metadata": {
        "id": "xLTgKpMX3CMc",
        "colab_type": "code",
        "colab": {}
      },
      "source": [
        "train_file = \"train.txt\"\n",
        "test_file = \"test.txt\""
      ],
      "execution_count": 0,
      "outputs": []
    },
    {
      "cell_type": "code",
      "metadata": {
        "id": "zWEv8iQS3qIx",
        "colab_type": "code",
        "colab": {}
      },
      "source": [
        "\n",
        "\n",
        "train = pd.read_csv(train_file, sep=\"\\t\", header=None, names=[\"q1\", \"q2\", \"label\"])\n",
        "test = pd.read_csv(test_file, sep=\"\\t\", header=None, names=[\"q1\", \"q2\", \"label\"])\n",
        "\n",
        "DATA_COLUMNS = [\"q1\", \"q2\"]\n",
        "LABEL_COLUMN = 'label'"
      ],
      "execution_count": 0,
      "outputs": []
    },
    {
      "cell_type": "code",
      "metadata": {
        "id": "rju7kVa04a31",
        "colab_type": "code",
        "colab": {}
      },
      "source": [
        "_train_0 = train[train[LABEL_COLUMN] == 0].sample(2500)\n",
        "_train_1 = train[train[LABEL_COLUMN] == 1].sample(2500)\n",
        "train = pd.concat([_train_0, _train_1])\n",
        "\n",
        "_test_0 = test[test[LABEL_COLUMN] == 0].sample(2500)\n",
        "_test_1 = test[test[LABEL_COLUMN] == 1].sample(2500)\n",
        "test = pd.concat([_test_0, _test_1])\n"
      ],
      "execution_count": 0,
      "outputs": []
    },
    {
      "cell_type": "markdown",
      "metadata": {
        "id": "kX1GslG2qK0p",
        "colab_type": "text"
      },
      "source": [
        "### dianping comment sentiment (sample)"
      ]
    },
    {
      "cell_type": "code",
      "metadata": {
        "id": "B49nplP_qRXU",
        "colab_type": "code",
        "outputId": "f0cc074e-76bb-4a91-84e0-93c551deb2e5",
        "colab": {
          "base_uri": "https://localhost:8080/",
          "height": 297
        }
      },
      "source": [
        "!wget https://github.com/wshuyi/demo-chinese-text-binary-classification-with-bert/raw/master/dianping_train_test.pickle"
      ],
      "execution_count": 0,
      "outputs": [
        {
          "output_type": "stream",
          "text": [
            "--2020-02-07 12:52:58--  https://github.com/wshuyi/demo-chinese-text-binary-classification-with-bert/raw/master/dianping_train_test.pickle\n",
            "Resolving github.com (github.com)... 192.30.255.112\n",
            "Connecting to github.com (github.com)|192.30.255.112|:443... connected.\n",
            "HTTP request sent, awaiting response... 302 Found\n",
            "Location: https://raw.githubusercontent.com/wshuyi/demo-chinese-text-binary-classification-with-bert/master/dianping_train_test.pickle [following]\n",
            "--2020-02-07 12:52:58--  https://raw.githubusercontent.com/wshuyi/demo-chinese-text-binary-classification-with-bert/master/dianping_train_test.pickle\n",
            "Resolving raw.githubusercontent.com (raw.githubusercontent.com)... 151.101.0.133, 151.101.64.133, 151.101.128.133, ...\n",
            "Connecting to raw.githubusercontent.com (raw.githubusercontent.com)|151.101.0.133|:443... connected.\n",
            "HTTP request sent, awaiting response... 200 OK\n",
            "Length: 561978 (549K) [application/octet-stream]\n",
            "Saving to: ‘dianping_train_test.pickle’\n",
            "\n",
            "\r          dianping_   0%[                    ]       0  --.-KB/s               \rdianping_train_test 100%[===================>] 548.81K  --.-KB/s    in 0.04s   \n",
            "\n",
            "2020-02-07 12:52:59 (14.4 MB/s) - ‘dianping_train_test.pickle’ saved [561978/561978]\n",
            "\n"
          ],
          "name": "stdout"
        }
      ]
    },
    {
      "cell_type": "code",
      "metadata": {
        "id": "JZnhVZeAqUdM",
        "colab_type": "code",
        "colab": {}
      },
      "source": [
        "import pickle\n",
        "with open(\"dianping_train_test.pickle\", 'rb') as f:\n",
        "    train, test = pickle.load(f)"
      ],
      "execution_count": 0,
      "outputs": []
    },
    {
      "cell_type": "code",
      "metadata": {
        "id": "j3XIiE1Sqq6V",
        "colab_type": "code",
        "colab": {}
      },
      "source": [
        "DATA_COLUMNS = ['comment']\n",
        "LABEL_COLUMN = 'sentiment'"
      ],
      "execution_count": 0,
      "outputs": []
    },
    {
      "cell_type": "markdown",
      "metadata": {
        "id": "0N__4uINqc19",
        "colab_type": "text"
      },
      "source": [
        "### Data encode "
      ]
    },
    {
      "cell_type": "code",
      "metadata": {
        "id": "6uiIAJUlHTyv",
        "colab_type": "code",
        "colab": {}
      },
      "source": [
        "max_seq_len = 128"
      ],
      "execution_count": 0,
      "outputs": []
    },
    {
      "cell_type": "code",
      "metadata": {
        "id": "DDRZRq1eHugu",
        "colab_type": "code",
        "colab": {}
      },
      "source": [
        "train_set = []\n",
        "for s in train[DATA_COLUMNS].values:\n",
        "  train_set.append(bert_encode_inputs(s, tokenizer, max_seq_len))\n",
        "train_features_df = pd.DataFrame(train_set, columns=['word_ids', 'mask', 'segment_ids'])\n",
        "\n",
        "test_set = []\n",
        "for s in test[DATA_COLUMNS].values:\n",
        "  test_set.append(bert_encode_inputs(s, tokenizer, max_seq_len))\n",
        "test_features_df = pd.DataFrame(test_set, columns=['word_ids', 'mask', 'segment_ids'])\n",
        "\n",
        "\n",
        "train_features = {}\n",
        "train_features['word_ids'] = np.array(train_features_df['word_ids'].values.tolist())\n",
        "train_features['mask'] = np.array(train_features_df['mask'].values.tolist())\n",
        "train_features['segment_ids'] = np.array(train_features_df['segment_ids'].values.tolist())\n",
        "\n",
        "test_features = {}\n",
        "test_features['word_ids'] = np.array(test_features_df['word_ids'].values.tolist())\n",
        "test_features['mask'] = np.array(test_features_df['mask'].values.tolist())\n",
        "test_features['segment_ids'] = np.array(test_features_df['segment_ids'].values.tolist())\n",
        "\n",
        "val_features_df = test_features_df.iloc[:1000].copy()\n",
        "val_features = {}\n",
        "val_features['word_ids'] = np.array(val_features_df['word_ids'].values.tolist())\n",
        "val_features['mask'] = np.array(val_features_df['mask'].values.tolist())\n",
        "val_features['segment_ids'] = np.array(val_features_df['segment_ids'].values.tolist())\n",
        "\n",
        "train_labels = train[LABEL_COLUMN].values\n",
        "test_labels = test[LABEL_COLUMN].values\n",
        "val_labels = test.iloc[:1000][LABEL_COLUMN].values\n"
      ],
      "execution_count": 0,
      "outputs": []
    },
    {
      "cell_type": "code",
      "metadata": {
        "id": "X_CWIGjU8GZt",
        "colab_type": "code",
        "colab": {}
      },
      "source": [
        "# a = bert_encode_inputs(train[DATA_COLUMNS].head().values.tolist()[0], tokenizer, max_seq_len)"
      ],
      "execution_count": 0,
      "outputs": []
    },
    {
      "cell_type": "code",
      "metadata": {
        "id": "hJjyxsfiHvvs",
        "colab_type": "code",
        "outputId": "88849dec-2bd8-4d7a-a6ed-863257dbd46e",
        "colab": {
          "base_uri": "https://localhost:8080/",
          "height": 33
        }
      },
      "source": [
        "train_labels[:5]"
      ],
      "execution_count": 0,
      "outputs": [
        {
          "output_type": "execute_result",
          "data": {
            "text/plain": [
              "array([0, 0, 0, 0, 0])"
            ]
          },
          "metadata": {
            "tags": []
          },
          "execution_count": 33
        }
      ]
    },
    {
      "cell_type": "code",
      "metadata": {
        "id": "E0Ij2TBMMaV8",
        "colab_type": "code",
        "colab": {}
      },
      "source": [
        ""
      ],
      "execution_count": 0,
      "outputs": []
    },
    {
      "cell_type": "markdown",
      "metadata": {
        "id": "V_FmVDG-ghQp",
        "colab_type": "text"
      },
      "source": [
        "## Model"
      ]
    },
    {
      "cell_type": "code",
      "metadata": {
        "id": "QsA-8-4YekTa",
        "colab_type": "code",
        "colab": {}
      },
      "source": [
        "max_seq_len = 128\n",
        "BATCH_SIZE = 32\n",
        "LEARNING_RATE = 2e-5\n",
        "# LEARNING_RATE = 1e-5\n",
        "# LEARNING_RATE = 0.000015\n",
        "NUM_TRAIN_EPOCHS = 10\n",
        "\n",
        "segment_input_flag = True\n",
        "flat_flag, pool_flag = False, True"
      ],
      "execution_count": 0,
      "outputs": []
    },
    {
      "cell_type": "code",
      "metadata": {
        "id": "eLzOrUwsBvL1",
        "colab_type": "code",
        "outputId": "18887384-7a63-43d9-a2dd-96fdb90f2b27",
        "colab": {
          "base_uri": "https://localhost:8080/",
          "height": 573
        }
      },
      "source": [
        "# Model functional\n",
        "input_word_ids = tf.keras.layers.Input(shape=(max_seq_len,), dtype='int32', name=\"input_word_ids\")\n",
        "segment_ids = tf.keras.layers.Input(shape=(max_seq_len,), dtype=tf.int32,\n",
        "                                    name=\"segment_ids\")\n",
        "l_bert = bert.BertModelLayer.from_params(model_params, name=\"albert\")\n",
        "\n",
        "if segment_input_flag:\n",
        "  inputs_list = [input_word_ids, segment_ids]\n",
        "  # sequence_output = l_bert([input_word_ids, segment_ids])\n",
        "else:\n",
        "  inputs_list = input_word_ids\n",
        "\n",
        "sequence_output = l_bert(inputs_list)\n",
        "\n",
        "if flat_flag:\n",
        "  cls_output = tf.keras.layers.Flatten()(sequence_output)\n",
        "elif pool_flag:\n",
        "  cls_output = tf.keras.layers.GlobalAveragePooling1D()(sequence_output)\n",
        "else:\n",
        "  cls_output = sequence_output[:, 0, :]\n",
        "logits = tf.keras.layers.Dense(1, activation=tf.nn.sigmoid)(cls_output)\n",
        "\n",
        "\n",
        "cls = tf.keras.Model(inputs=inputs_list, outputs=logits)\n",
        "# l_bert.apply_adapter_freeze()\n",
        "bert.load_albert_weights(l_bert, model_ckpt)\n",
        "cls.compile(optimizer=tf.optimizers.Adam(lr=LEARNING_RATE), loss='binary_crossentropy', metrics=['accuracy'])\n",
        "print(cls.summary())"
      ],
      "execution_count": 0,
      "outputs": [
        {
          "output_type": "stream",
          "text": [
            "Loading google-research/ALBERT weights...\n",
            "Done loading 23 BERT weights from: ./albert_base/model.ckpt-best into <bert.model.BertModelLayer object at 0x7fc189292e10> (prefix:albert_2). Count of weights not found in the checkpoint was: [0]. Count of weights with mismatched shape: [0]\n",
            "Unused weights from checkpoint: \n",
            "\tbert/pooler/dense/bias\n",
            "\tbert/pooler/dense/kernel\n",
            "\tcls/predictions/output_bias\n",
            "\tcls/predictions/transform/LayerNorm/beta\n",
            "\tcls/predictions/transform/LayerNorm/gamma\n",
            "\tcls/predictions/transform/dense/bias\n",
            "\tcls/predictions/transform/dense/kernel\n",
            "\tcls/seq_relationship/output_bias\n",
            "\tcls/seq_relationship/output_weights\n",
            "\tglobal_step\n",
            "Model: \"model_2\"\n",
            "__________________________________________________________________________________________________\n",
            "Layer (type)                    Output Shape         Param #     Connected to                     \n",
            "==================================================================================================\n",
            "input_word_ids (InputLayer)     [(None, 128)]        0                                            \n",
            "__________________________________________________________________________________________________\n",
            "segment_ids (InputLayer)        [(None, 128)]        0                                            \n",
            "__________________________________________________________________________________________________\n",
            "albert (BertModelLayer)         (None, 128, 768)     9957376     input_word_ids[0][0]             \n",
            "                                                                 segment_ids[0][0]                \n",
            "__________________________________________________________________________________________________\n",
            "global_average_pooling1d_2 (Glo (None, 768)          0           albert[0][0]                     \n",
            "__________________________________________________________________________________________________\n",
            "dense_2 (Dense)                 (None, 1)            769         global_average_pooling1d_2[0][0] \n",
            "==================================================================================================\n",
            "Total params: 9,958,145\n",
            "Trainable params: 9,958,145\n",
            "Non-trainable params: 0\n",
            "__________________________________________________________________________________________________\n",
            "None\n"
          ],
          "name": "stdout"
        }
      ]
    },
    {
      "cell_type": "code",
      "metadata": {
        "id": "4bk1fU9oxSeZ",
        "colab_type": "code",
        "outputId": "5ea2b7b4-cb07-4151-c49b-2c2edd520fae",
        "colab": {
          "base_uri": "https://localhost:8080/",
          "height": 53
        }
      },
      "source": [
        "# Sequential\n",
        "'''l_input_ids  = tf.keras.layers.Input(shape=(max_seq_len,), dtype='int32')\n",
        "cls = tf.keras.Sequential([\n",
        "        # tf.keras.layers.Input(shape=(max_seq_length,), dtype='int32', name='input_ids'),\n",
        "        l_input_ids,\n",
        "        l_bert,\n",
        "        tf.keras.layers.Flatten(),\n",
        "        # tf.keras.layers.Dense(128, activation=tf.nn.relu),\n",
        "        # tf.keras.layers.Dropout(0.5),\n",
        "        tf.keras.layers.Dense(64, activation=tf.nn.relu),\n",
        "        # tf.keras.layers.Dropout(0.5),\n",
        "        # tf.keras.layers.Dense(1, activation=tf.nn.softmax)\n",
        "        tf.keras.layers.Dense(1, activation=tf.nn.sigmoid)\n",
        "])\n",
        "\n",
        "cls.build(input_shape=(None, max_seq_len))\n",
        "l_bert.apply_adapter_freeze()\n",
        "bert.load_bert_weights(l_bert, model_ckpt)\n",
        "cls.compile(loss='binary_crossentropy', optimizer=tf.optimizers.Adam(lr=LEARNING_RATE), metrics=['accuracy'])\n",
        "\n",
        "print(cls.summary())\n",
        "'''"
      ],
      "execution_count": 0,
      "outputs": [
        {
          "output_type": "execute_result",
          "data": {
            "text/plain": [
              "\"l_input_ids  = tf.keras.layers.Input(shape=(max_seq_len,), dtype='int32')\\ncls = tf.keras.Sequential([\\n        # tf.keras.layers.Input(shape=(max_seq_length,), dtype='int32', name='input_ids'),\\n        l_input_ids,\\n        l_bert,\\n        tf.keras.layers.Flatten(),\\n        # tf.keras.layers.Dense(128, activation=tf.nn.relu),\\n        # tf.keras.layers.Dropout(0.5),\\n        tf.keras.layers.Dense(64, activation=tf.nn.relu),\\n        # tf.keras.layers.Dropout(0.5),\\n        # tf.keras.layers.Dense(1, activation=tf.nn.softmax)\\n        tf.keras.layers.Dense(1, activation=tf.nn.sigmoid)\\n])\\n\\ncls.build(input_shape=(None, max_seq_len))\\nl_bert.apply_adapter_freeze()\\nbert.load_bert_weights(l_bert, model_ckpt)\\ncls.compile(loss='binary_crossentropy', optimizer=tf.optimizers.Adam(lr=LEARNING_RATE), metrics=['accuracy'])\\n\\nprint(cls.summary())\\n\""
            ]
          },
          "metadata": {
            "tags": []
          },
          "execution_count": 84
        }
      ]
    },
    {
      "cell_type": "code",
      "metadata": {
        "id": "7VCaPK3F0OxT",
        "colab_type": "code",
        "outputId": "8390d0d9-405e-4bfb-e886-e3b58032c0c6",
        "colab": {
          "base_uri": "https://localhost:8080/",
          "height": 378
        }
      },
      "source": [
        "output_dir = \"./\"\n",
        "checkpoint_name = os.path.join(output_dir, \"albert_for_zh_semantic.ckpt\")\n",
        "\n",
        "# Create a callback that saves the model's weights\n",
        "cp_callback = tf.keras.callbacks.ModelCheckpoint(filepath=checkpoint_name,\n",
        "                                                     save_weights_only=True,\n",
        "                                                     verbose=1)\n",
        "steps_per_epoch = int(round(len(train_features['word_ids']))//BATCH_SIZE)\n",
        "val_steps = int(1000//BATCH_SIZE)\n",
        "# callback = StopTrainingClassComplete()\n",
        "\n",
        "if segment_input_flag:\n",
        "  train_fit_inputs = [train_features['word_ids'], train_features['segment_ids']]\n",
        "  val_fit_inputs = [val_features['word_ids'], val_features['segment_ids']]\n",
        "else:\n",
        "  train_fit_inputs = train_features['word_ids']\n",
        "  val_fit_inputs = val_features['word_ids']\n",
        "history = cls.fit(\n",
        "        train_fit_inputs,\n",
        "        train_labels,\n",
        "        epochs=NUM_TRAIN_EPOCHS, # Will raise error when epoch number is float. \n",
        "        batch_size=BATCH_SIZE,\n",
        "        # steps_per_epoch = steps_per_epoch,\n",
        "        # validation_steps=val_steps,\n",
        "        validation_data=(val_fit_inputs, val_labels),\n",
        "        verbose=1,\n",
        "        # callbacks=[cp_callback]\n",
        ")"
      ],
      "execution_count": 0,
      "outputs": [
        {
          "output_type": "stream",
          "text": [
            "Train on 5000 samples, validate on 1000 samples\n",
            "Epoch 1/10\n",
            "5000/5000 [==============================] - 84s 17ms/sample - loss: 0.7039 - accuracy: 0.5018 - val_loss: 0.7280 - val_accuracy: 0.0420\n",
            "Epoch 2/10\n",
            "5000/5000 [==============================] - 72s 14ms/sample - loss: 0.6954 - accuracy: 0.5000 - val_loss: 0.7052 - val_accuracy: 0.2720\n",
            "Epoch 3/10\n",
            "5000/5000 [==============================] - 71s 14ms/sample - loss: 0.6891 - accuracy: 0.5368 - val_loss: 0.5984 - val_accuracy: 0.9370\n",
            "Epoch 4/10\n",
            "5000/5000 [==============================] - 72s 14ms/sample - loss: 0.6571 - accuracy: 0.6154 - val_loss: 0.5557 - val_accuracy: 0.7790\n",
            "Epoch 5/10\n",
            "5000/5000 [==============================] - 72s 14ms/sample - loss: 0.6045 - accuracy: 0.6762 - val_loss: 0.5865 - val_accuracy: 0.6660\n",
            "Epoch 6/10\n",
            "5000/5000 [==============================] - 71s 14ms/sample - loss: 0.5542 - accuracy: 0.7232 - val_loss: 0.4574 - val_accuracy: 0.8610\n",
            "Epoch 7/10\n",
            "5000/5000 [==============================] - 72s 14ms/sample - loss: 0.4786 - accuracy: 0.7852 - val_loss: 0.6563 - val_accuracy: 0.6710\n",
            "Epoch 8/10\n",
            "5000/5000 [==============================] - 71s 14ms/sample - loss: 0.4056 - accuracy: 0.8230 - val_loss: 0.5943 - val_accuracy: 0.7340\n",
            "Epoch 9/10\n",
            "5000/5000 [==============================] - 72s 14ms/sample - loss: 0.3311 - accuracy: 0.8738 - val_loss: 0.5975 - val_accuracy: 0.7740\n",
            "Epoch 10/10\n",
            "5000/5000 [==============================] - 71s 14ms/sample - loss: 0.2604 - accuracy: 0.9036 - val_loss: 0.4953 - val_accuracy: 0.8110\n"
          ],
          "name": "stdout"
        }
      ]
    },
    {
      "cell_type": "code",
      "metadata": {
        "id": "rCfDxIvx22fB",
        "colab_type": "code",
        "outputId": "94919e93-ebf5-4465-f018-5fcf52ea3675",
        "colab": {
          "base_uri": "https://localhost:8080/",
          "height": 512
        }
      },
      "source": [
        "acc = history.history['accuracy']\n",
        "val_acc = history.history['val_accuracy']\n",
        "\n",
        "loss = history.history['loss']\n",
        "val_loss = history.history['val_loss']\n",
        "\n",
        "plt.figure(figsize=(8, 8))\n",
        "plt.subplot(2, 1, 1)\n",
        "plt.plot(acc, label='Training Accuracy')\n",
        "plt.plot(val_acc, label='Validation Accuracy')\n",
        "plt.legend(loc='lower right')\n",
        "plt.ylabel('Accuracy')\n",
        "plt.title('Training and Validation Accuracy')\n",
        "\n",
        "plt.subplot(2, 1, 2)\n",
        "plt.plot(loss, label='Training Loss')\n",
        "plt.plot(val_loss, label='Validation Loss')\n",
        "plt.legend(loc='upper right')\n",
        "plt.ylabel('Binary Cross Entropy')\n",
        "plt.title('Training and Validation Loss')\n",
        "plt.xlabel('epoch')\n",
        "plt.show()"
      ],
      "execution_count": 0,
      "outputs": [
        {
          "output_type": "display_data",
          "data": {
            "image/png": "[encoded data removed]",
            "text/plain": [
              "<Figure size 576x576 with 2 Axes>"
            ]
          },
          "metadata": {
            "tags": []
          }
        }
      ]
    },
    {
      "cell_type": "code",
      "metadata": {
        "id": "C_Vy6omF2_iw",
        "colab_type": "code",
        "colab": {}
      },
      "source": [
        "from sklearn.metrics import classification_report\n",
        "from sklearn.metrics import confusion_matrix  \n",
        "from sklearn.metrics import accuracy_score, f1_score, roc_auc_score\n",
        "\n"
      ],
      "execution_count": 0,
      "outputs": []
    },
    {
      "cell_type": "code",
      "metadata": {
        "id": "wxJqV524imPB",
        "colab_type": "code",
        "colab": {}
      },
      "source": [
        "test_prop = cls.predict((test_features['word_ids'], test_features['segment_ids']))\n",
        "test_pred = np.where(test_prop > 0.5, 1, 0).flatten()"
      ],
      "execution_count": 0,
      "outputs": []
    },
    {
      "cell_type": "code",
      "metadata": {
        "id": "0VLD62CV8Sg_",
        "colab_type": "code",
        "outputId": "d6580647-b847-4ef6-8d21-097e1752bf0d",
        "colab": {
          "base_uri": "https://localhost:8080/",
          "height": 261
        }
      },
      "source": [
        "cm = confusion_matrix(test_labels, test_pred)  \n",
        "print(cm)  \n",
        "print()\n",
        "print(\"F1 score\", f1_score(test_labels, test_pred))\n",
        "print('Accuracy', accuracy_score(test_labels, test_pred))\n",
        "print('ROC AUC SCORE', roc_auc_score(test_labels, test_pred))\n",
        "print(classification_report(test_labels, test_pred))"
      ],
      "execution_count": 44,
      "outputs": [
        {
          "output_type": "stream",
          "text": [
            "[[2052  448]\n",
            " [1091 1409]]\n",
            "\n",
            "F1 score 0.6467753041083314\n",
            "Accuracy 0.6922\n",
            "ROC AUC SCORE 0.6922\n",
            "              precision    recall  f1-score   support\n",
            "\n",
            "           0       0.65      0.82      0.73      2500\n",
            "           1       0.76      0.56      0.65      2500\n",
            "\n",
            "    accuracy                           0.69      5000\n",
            "   macro avg       0.71      0.69      0.69      5000\n",
            "weighted avg       0.71      0.69      0.69      5000\n",
            "\n"
          ],
          "name": "stdout"
        }
      ]
    }
  ]
}