{
 "cells": [
  {
   "cell_type": "markdown",
   "metadata": {},
   "source": [
    "# Prepare"
   ]
  },
  {
   "cell_type": "code",
   "execution_count": 1,
   "metadata": {
    "ExecuteTime": {
     "end_time": "2022-05-25T14:06:53.463022Z",
     "start_time": "2022-05-25T14:06:46.020113Z"
    }
   },
   "outputs": [],
   "source": [
    "import pandas as pd\n",
    "import numpy as np\n",
    "import os\n",
    "import re\n",
    "import sys\n",
    "import json\n",
    "import pathlib\n",
    "import importlib\n",
    "import pickle\n",
    "import datetime\n",
    "import logging\n",
    "\n",
    "import tensorflow as tf\n",
    "import transformers\n",
    "from transformers import (\n",
    "    BertTokenizer, TFBertModel, BertConfig, BertModel, BertForPreTraining, TFBertForPreTraining, \n",
    "    TFAlbertModel, TFAlbertForPreTraining, AlbertConfig\n",
    ")\n",
    "from tokenizers import BertWordPieceTokenizer"
   ]
  },
  {
   "cell_type": "code",
   "execution_count": 2,
   "metadata": {
    "ExecuteTime": {
     "end_time": "2022-05-25T14:06:54.701005Z",
     "start_time": "2022-05-25T14:06:54.692057Z"
    }
   },
   "outputs": [],
   "source": [
    "CUSTOM_MODULE_PATH = os.path.realpath(\"/Users/ccuulinay/github_proj/py_public_modules\")\n",
    "if CUSTOM_MODULE_PATH not in sys.path:\n",
    "    sys.path.append(CUSTOM_MODULE_PATH)"
   ]
  },
  {
   "cell_type": "code",
   "execution_count": 3,
   "metadata": {
    "ExecuteTime": {
     "end_time": "2022-05-25T14:06:55.442109Z",
     "start_time": "2022-05-25T14:06:55.412181Z"
    }
   },
   "outputs": [
    {
     "data": {
      "text/plain": [
       "<module 'tj_hub.tf_helper.input_builder' from '/Users/ccuulinay/github_proj/py_public_modules/tj_hub/tf_helper/input_builder.py'>"
      ]
     },
     "execution_count": 3,
     "metadata": {},
     "output_type": "execute_result"
    }
   ],
   "source": [
    "from tj_hub.tf_helper import input_builder\n",
    "\n",
    "importlib.reload(input_builder)"
   ]
  },
  {
   "cell_type": "markdown",
   "metadata": {},
   "source": [
    "# Params"
   ]
  },
  {
   "cell_type": "code",
   "execution_count": 4,
   "metadata": {
    "ExecuteTime": {
     "end_time": "2022-05-25T14:06:56.158789Z",
     "start_time": "2022-05-25T14:06:56.154306Z"
    }
   },
   "outputs": [],
   "source": [
    "today_dt = datetime.datetime.today()\n",
    "\n",
    "today_yyyymmdd = today_dt.strftime(\"%Y%m%d\")"
   ]
  },
  {
   "cell_type": "code",
   "execution_count": 5,
   "metadata": {
    "ExecuteTime": {
     "end_time": "2022-05-25T14:06:56.671445Z",
     "start_time": "2022-05-25T14:06:56.665492Z"
    }
   },
   "outputs": [],
   "source": [
    "max_seq_len = 128\n",
    "segment_input_flag = True"
   ]
  },
  {
   "cell_type": "markdown",
   "metadata": {},
   "source": [
    "# Load albert params and model"
   ]
  },
  {
   "cell_type": "code",
   "execution_count": 6,
   "metadata": {
    "ExecuteTime": {
     "end_time": "2022-05-25T14:06:57.666174Z",
     "start_time": "2022-05-25T14:06:57.659126Z"
    }
   },
   "outputs": [],
   "source": [
    "# local model\n",
    "model_dir = \"/Users/ccuulinay/PRETRAIN_MODELS/albert_base_zh_additional_36k_steps/\"\n",
    "model_ckpt = pathlib.Path(model_dir) / \"albert_model.ckpt.index\"\n",
    "model_config = pathlib.Path(model_dir) / \"albert_config_base.json\"\n",
    "vocab_file = pathlib.Path(model_dir) / \"vocab.txt\""
   ]
  },
  {
   "cell_type": "code",
   "execution_count": 7,
   "metadata": {
    "ExecuteTime": {
     "end_time": "2022-05-25T14:06:58.492202Z",
     "start_time": "2022-05-25T14:06:58.417296Z"
    }
   },
   "outputs": [
    {
     "name": "stderr",
     "output_type": "stream",
     "text": [
      "2022-05-25 22:06:58.437843: I tensorflow/core/platform/cpu_feature_guard.cc:151] This TensorFlow binary is optimized with oneAPI Deep Neural Network Library (oneDNN) to use the following CPU instructions in performance-critical operations:  AVX2 FMA\n",
      "To enable them in other operations, rebuild TensorFlow with the appropriate compiler flags.\n"
     ]
    },
    {
     "data": {
      "text/plain": [
       "<transformers.models.albert.modeling_tf_albert.TFAlbertModel at 0x7fd15318a6d0>"
      ]
     },
     "execution_count": 7,
     "metadata": {},
     "output_type": "execute_result"
    }
   ],
   "source": [
    "albert_config = AlbertConfig.from_pretrained(model_config)\n",
    "encoder = TFAlbertModel(albert_config)\n",
    "transformers.load_tf_weights_in_albert(encoder, albert_config, model_ckpt)"
   ]
  },
  {
   "cell_type": "code",
   "execution_count": null,
   "metadata": {
    "ExecuteTime": {
     "end_time": "2022-05-11T10:17:42.838960Z",
     "start_time": "2022-05-11T10:17:42.828690Z"
    }
   },
   "outputs": [],
   "source": []
  },
  {
   "cell_type": "code",
   "execution_count": 8,
   "metadata": {
    "ExecuteTime": {
     "end_time": "2022-05-25T14:07:03.527807Z",
     "start_time": "2022-05-25T14:07:03.509706Z"
    }
   },
   "outputs": [],
   "source": [
    "tokenizer = BertWordPieceTokenizer(str(vocab_file))\n",
    "tokenizer.enable_truncation(max_seq_len)"
   ]
  },
  {
   "cell_type": "code",
   "execution_count": 9,
   "metadata": {
    "ExecuteTime": {
     "end_time": "2022-05-25T14:07:04.140127Z",
     "start_time": "2022-05-25T14:07:04.132978Z"
    }
   },
   "outputs": [],
   "source": [
    "doc = f\"近日，建设银行与中国REITs论坛在京联合举办保障性租赁住房\""
   ]
  },
  {
   "cell_type": "code",
   "execution_count": null,
   "metadata": {
    "ExecuteTime": {
     "end_time": "2022-05-11T10:21:32.886397Z",
     "start_time": "2022-05-11T10:21:32.792547Z"
    }
   },
   "outputs": [],
   "source": []
  },
  {
   "cell_type": "code",
   "execution_count": 24,
   "metadata": {
    "ExecuteTime": {
     "end_time": "2022-05-25T14:22:36.179213Z",
     "start_time": "2022-05-25T14:22:34.125961Z"
    }
   },
   "outputs": [],
   "source": [
    "input_word_ids = tf.keras.layers.Input(\n",
    "    shape=(max_seq_len,), dtype=tf.int32, name=\"input_word_ids\"\n",
    ")\n",
    "input_mask = tf.keras.layers.Input(shape=(max_seq_len,), dtype=tf.int32,\n",
    "                                   name=\"attention_mask\")\n",
    "segment_ids = tf.keras.layers.Input(shape=(max_seq_len,), dtype=tf.int32,\n",
    "                                    name=\"token_type_ids\")\n",
    "\n",
    "# albert_layer = l_bert\n",
    "\n",
    "if segment_input_flag:\n",
    "    inputs_list = [input_word_ids, segment_ids]\n",
    "else:\n",
    "    inputs_list = input_word_ids\n",
    "\n",
    "\n",
    "encoder_output = encoder(\n",
    "    # [input_word_ids, segment_ids]\n",
    "    input_word_ids, \n",
    "    token_type_ids=segment_ids, \n",
    "    attention_mask=input_mask\n",
    ")\n",
    "\n",
    "seq_out = encoder_output.last_hidden_state\n",
    "\n",
    "pooled = tf.keras.layers.GlobalAveragePooling1D()(seq_out)\n",
    "# flat = tf.keras.layers.Flatten()(seq_ouput)\n",
    "# logits = tf.keras.layers.Dense(1, activation=tf.nn.sigmoid)(pooled)"
   ]
  },
  {
   "cell_type": "code",
   "execution_count": 25,
   "metadata": {
    "ExecuteTime": {
     "end_time": "2022-05-25T14:22:41.551062Z",
     "start_time": "2022-05-25T14:22:41.535903Z"
    }
   },
   "outputs": [],
   "source": [
    "cls = tf.keras.Model(inputs=[input_word_ids, input_mask, segment_ids], outputs=[pooled, seq_out])"
   ]
  },
  {
   "cell_type": "code",
   "execution_count": 35,
   "metadata": {
    "ExecuteTime": {
     "end_time": "2022-05-25T15:25:54.141186Z",
     "start_time": "2022-05-25T15:25:53.164602Z"
    }
   },
   "outputs": [
    {
     "name": "stdout",
     "output_type": "stream",
     "text": [
      "Model: \"model_2\"\n",
      "__________________________________________________________________________________________________\n",
      " Layer (type)                   Output Shape         Param #     Connected to                     \n",
      "==================================================================================================\n",
      " input_word_ids (InputLayer)    [(None, 128)]        0           []                               \n",
      "                                                                                                  \n",
      " attention_mask (InputLayer)    [(None, 128)]        0           []                               \n",
      "                                                                                                  \n",
      " token_type_ids (InputLayer)    [(None, 128)]        0           []                               \n",
      "                                                                                                  \n",
      " tf_albert_model (TFAlbertModel  TFBaseModelOutputWi  10547968   ['input_word_ids[0][0]',         \n",
      " )                              thPooling(last_hidd               'attention_mask[0][0]',         \n",
      "                                en_state=(None, 128               'token_type_ids[0][0]']         \n",
      "                                , 768),                                                           \n",
      "                                 pooler_output=(Non                                               \n",
      "                                e, 768),                                                          \n",
      "                                 hidden_states=None                                               \n",
      "                                , attentions=None)                                                \n",
      "                                                                                                  \n",
      " global_average_pooling1d_3 (Gl  (None, 768)         0           ['tf_albert_model[3][0]']        \n",
      " obalAveragePooling1D)                                                                            \n",
      "                                                                                                  \n",
      "==================================================================================================\n",
      "Total params: 10,547,968\n",
      "Trainable params: 10,547,968\n",
      "Non-trainable params: 0\n",
      "__________________________________________________________________________________________________\n",
      "None\n"
     ]
    }
   ],
   "source": [
    "print(cls.summary())"
   ]
  },
  {
   "cell_type": "code",
   "execution_count": 27,
   "metadata": {
    "ExecuteTime": {
     "end_time": "2022-05-25T14:23:21.983103Z",
     "start_time": "2022-05-25T14:22:43.915739Z"
    }
   },
   "outputs": [
    {
     "name": "stdout",
     "output_type": "stream",
     "text": [
      "WARNING:tensorflow:Compiled the loaded model, but the compiled metrics have yet to be built. `model.compile_metrics` will be empty until you train or evaluate the model.\n"
     ]
    },
    {
     "name": "stderr",
     "output_type": "stream",
     "text": [
      "WARNING:tensorflow:Compiled the loaded model, but the compiled metrics have yet to be built. `model.compile_metrics` will be empty until you train or evaluate the model.\n",
      "WARNING:absl:Found untraced functions such as embeddings_layer_call_fn, embeddings_layer_call_and_return_conditional_losses, encoder_layer_call_fn, encoder_layer_call_and_return_conditional_losses, pooler_layer_call_fn while saving (showing 5 of 40). These functions will not be directly callable after loading.\n"
     ]
    },
    {
     "name": "stdout",
     "output_type": "stream",
     "text": [
      "INFO:tensorflow:Assets written to: ./models/albert_encoder_20220525/assets\n"
     ]
    },
    {
     "name": "stderr",
     "output_type": "stream",
     "text": [
      "INFO:tensorflow:Assets written to: ./models/albert_encoder_20220525/assets\n"
     ]
    }
   ],
   "source": [
    "cls.save(f\"./models/albert_encoder_{today_yyyymmdd}\")"
   ]
  },
  {
   "cell_type": "code",
   "execution_count": null,
   "metadata": {},
   "outputs": [],
   "source": []
  },
  {
   "cell_type": "code",
   "execution_count": null,
   "metadata": {
    "ExecuteTime": {
     "end_time": "2022-05-11T14:11:50.345036Z",
     "start_time": "2022-05-11T14:11:50.336950Z"
    }
   },
   "outputs": [],
   "source": []
  },
  {
   "cell_type": "code",
   "execution_count": 28,
   "metadata": {
    "ExecuteTime": {
     "end_time": "2022-05-25T14:23:22.042941Z",
     "start_time": "2022-05-25T14:23:22.038601Z"
    }
   },
   "outputs": [],
   "source": [
    "doc = \"\"\"\n",
    "近日，建设银行与中国REITs论坛在京联合举办保障性租赁住房REITs研讨会，深入探讨保障性租赁住房REITs发展经验与挑战，共同探寻保障性租赁住房REITs落地的可行路径。  与会嘉宾建议，发展保障性租赁住房REITs应立足市场化定位，从盘活存量出发，多渠道拓展资产来源；根据建设主体及资产运营特点，因地制宜建立认定标准，优选资产进行REITs试点；不断完善资产估值方法和租金调整机制，探索保障性租赁住房REITs市场化定价机制；逐步推进税收政策、土地政策等配套制度落地，推动保障性租赁住房REITs健康持续发展。  据介绍，建行高度重视保障性租赁住房市场建设，持续推动保障性租赁住房REITs试点，以住房租赁领域实践经验为监管部门出台政策提供参考，充分发挥母子公司协同效应，会同建信基金、建信信托、建信住房等子公司以专业的基金管理人、重要的市场投资人、优质的资产持有人、高效的资产托管人等多重角色，积极参与保障性租赁住房公募REITs试点各业务环节。\n",
    "\"\"\""
   ]
  },
  {
   "cell_type": "code",
   "execution_count": 29,
   "metadata": {
    "ExecuteTime": {
     "end_time": "2022-05-25T14:23:22.161466Z",
     "start_time": "2022-05-25T14:23:22.082421Z"
    }
   },
   "outputs": [
    {
     "name": "stderr",
     "output_type": "stream",
     "text": [
      "100%|██████████| 9/9 [00:00<00:00, 384.27it/s]\n"
     ]
    }
   ],
   "source": [
    "a = input_builder.preproc_text_to_bert_input(\n",
    "    doc,\n",
    "    tokenizer,\n",
    "    chunk_size=50\n",
    ")"
   ]
  },
  {
   "cell_type": "code",
   "execution_count": null,
   "metadata": {
    "ExecuteTime": {
     "end_time": "2022-05-25T14:22:24.250450Z",
     "start_time": "2022-05-25T14:22:24.211930Z"
    }
   },
   "outputs": [],
   "source": []
  },
  {
   "cell_type": "code",
   "execution_count": 30,
   "metadata": {
    "ExecuteTime": {
     "end_time": "2022-05-25T14:23:27.242730Z",
     "start_time": "2022-05-25T14:23:22.277212Z"
    }
   },
   "outputs": [
    {
     "data": {
      "text/plain": [
       "(9, 768)"
      ]
     },
     "execution_count": 30,
     "metadata": {},
     "output_type": "execute_result"
    }
   ],
   "source": [
    "embed_outs = cls.predict(a)\n",
    "embed_outs[0].shape"
   ]
  },
  {
   "cell_type": "code",
   "execution_count": 34,
   "metadata": {
    "ExecuteTime": {
     "end_time": "2022-05-25T14:48:55.553424Z",
     "start_time": "2022-05-25T14:48:55.544369Z"
    }
   },
   "outputs": [
    {
     "data": {
      "text/plain": [
       "(768,)"
      ]
     },
     "execution_count": 34,
     "metadata": {},
     "output_type": "execute_result"
    }
   ],
   "source": [
    "np.mean(embed_outs[0], axis=0).shape"
   ]
  },
  {
   "cell_type": "code",
   "execution_count": 31,
   "metadata": {
    "ExecuteTime": {
     "end_time": "2022-05-25T14:25:14.012107Z",
     "start_time": "2022-05-25T14:24:58.234689Z"
    }
   },
   "outputs": [
    {
     "name": "stdout",
     "output_type": "stream",
     "text": [
      "WARNING:tensorflow:No training configuration found in save file, so the model was *not* compiled. Compile it manually.\n"
     ]
    },
    {
     "name": "stderr",
     "output_type": "stream",
     "text": [
      "WARNING:tensorflow:No training configuration found in save file, so the model was *not* compiled. Compile it manually.\n"
     ]
    }
   ],
   "source": [
    "cv_cls = tf.keras.models.load_model(\"./models/albert_encoder_20220525/\")"
   ]
  },
  {
   "cell_type": "code",
   "execution_count": null,
   "metadata": {},
   "outputs": [],
   "source": []
  }
 ],
 "metadata": {
  "kernelspec": {
   "display_name": "d2l",
   "language": "python",
   "name": "d2l"
  },
  "language_info": {
   "codemirror_mode": {
    "name": "ipython",
    "version": 3
   },
   "file_extension": ".py",
   "mimetype": "text/x-python",
   "name": "python",
   "nbconvert_exporter": "python",
   "pygments_lexer": "ipython3",
   "version": "3.8.13"
  },
  "toc": {
   "base_numbering": 1,
   "nav_menu": {},
   "number_sections": false,
   "sideBar": true,
   "skip_h1_title": false,
   "title_cell": "Table of Contents",
   "title_sidebar": "Contents",
   "toc_cell": false,
   "toc_position": {},
   "toc_section_display": true,
   "toc_window_display": false
  },
  "varInspector": {
   "cols": {
    "lenName": 16,
    "lenType": 16,
    "lenVar": 40
   },
   "kernels_config": {
    "python": {
     "delete_cmd_postfix": "",
     "delete_cmd_prefix": "del ",
     "library": "var_list.py",
     "varRefreshCmd": "print(var_dic_list())"
    },
    "r": {
     "delete_cmd_postfix": ") ",
     "delete_cmd_prefix": "rm(",
     "library": "var_list.r",
     "varRefreshCmd": "cat(var_dic_list()) "
    }
   },
   "types_to_exclude": [
    "module",
    "function",
    "builtin_function_or_method",
    "instance",
    "_Feature"
   ],
   "window_display": false
  }
 },
 "nbformat": 4,
 "nbformat_minor": 4
}
